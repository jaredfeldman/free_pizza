{
  "cells": [
    {
      "cell_type": "code",
      "execution_count": 1,
      "metadata": {
        "id": "jwk63aIweFg-"
      },
      "outputs": [],
      "source": [
        "#import packages\n",
        "\n",
        "import numpy as np\n",
        "from matplotlib import pyplot as plt\n",
        "import pandas as pd\n",
        "import seaborn as sns  # for nicer plots\n",
        "sns.set(style=\"darkgrid\")  # default style\n",
        "import plotly.graph_objs as plotly  # for interactive plots\n",
        "\n",
        "import tensorflow as tf\n",
        "from tensorflow.keras.layers import Dropout\n",
        "from sklearn import datasets\n",
        "from tensorflow import keras\n",
        "from keras import metrics\n",
        "from sklearn.metrics import confusion_matrix"
      ]
    },
    {
      "cell_type": "code",
      "execution_count": 2,
      "metadata": {
        "id": "Cz9hd-z_ezEq"
      },
      "outputs": [],
      "source": [
        "\n",
        "training_data = pd.read_json('/content/train.json')\n",
        "test_data = pd.read_json('/content/test.json')\n",
        "\n",
        "\n",
        "\n",
        "# Dataset is now stored in a Pandas Dataframe"
      ]
    },
    {
      "cell_type": "code",
      "execution_count": 3,
      "metadata": {
        "colab": {
          "base_uri": "https://localhost:8080/"
        },
        "id": "JQUR88IVgCZ8",
        "outputId": "d52307e4-e42b-4309-f147-ab557bb0b97a"
      },
      "outputs": [
        {
          "output_type": "execute_result",
          "data": {
            "text/plain": [
              "Index(['giver_username_if_known',\n",
              "       'number_of_downvotes_of_request_at_retrieval',\n",
              "       'number_of_upvotes_of_request_at_retrieval', 'post_was_edited',\n",
              "       'request_id', 'request_number_of_comments_at_retrieval', 'request_text',\n",
              "       'request_text_edit_aware', 'request_title',\n",
              "       'requester_account_age_in_days_at_request',\n",
              "       'requester_account_age_in_days_at_retrieval',\n",
              "       'requester_days_since_first_post_on_raop_at_request',\n",
              "       'requester_days_since_first_post_on_raop_at_retrieval',\n",
              "       'requester_number_of_comments_at_request',\n",
              "       'requester_number_of_comments_at_retrieval',\n",
              "       'requester_number_of_comments_in_raop_at_request',\n",
              "       'requester_number_of_comments_in_raop_at_retrieval',\n",
              "       'requester_number_of_posts_at_request',\n",
              "       'requester_number_of_posts_at_retrieval',\n",
              "       'requester_number_of_posts_on_raop_at_request',\n",
              "       'requester_number_of_posts_on_raop_at_retrieval',\n",
              "       'requester_number_of_subreddits_at_request', 'requester_received_pizza',\n",
              "       'requester_subreddits_at_request',\n",
              "       'requester_upvotes_minus_downvotes_at_request',\n",
              "       'requester_upvotes_minus_downvotes_at_retrieval',\n",
              "       'requester_upvotes_plus_downvotes_at_request',\n",
              "       'requester_upvotes_plus_downvotes_at_retrieval', 'requester_user_flair',\n",
              "       'requester_username', 'unix_timestamp_of_request',\n",
              "       'unix_timestamp_of_request_utc'],\n",
              "      dtype='object')"
            ]
          },
          "metadata": {},
          "execution_count": 3
        }
      ],
      "source": [
        "training_data.columns"
      ]
    },
    {
      "cell_type": "code",
      "source": [
        "test_data.columns"
      ],
      "metadata": {
        "colab": {
          "base_uri": "https://localhost:8080/"
        },
        "id": "v5oOO-K1PY0h",
        "outputId": "17c7c514-55a6-4128-e569-a9da609d8c34"
      },
      "execution_count": 6,
      "outputs": [
        {
          "output_type": "execute_result",
          "data": {
            "text/plain": [
              "Index(['giver_username_if_known', 'request_id', 'request_text_edit_aware',\n",
              "       'request_title', 'requester_account_age_in_days_at_request',\n",
              "       'requester_days_since_first_post_on_raop_at_request',\n",
              "       'requester_number_of_comments_at_request',\n",
              "       'requester_number_of_comments_in_raop_at_request',\n",
              "       'requester_number_of_posts_at_request',\n",
              "       'requester_number_of_posts_on_raop_at_request',\n",
              "       'requester_number_of_subreddits_at_request',\n",
              "       'requester_subreddits_at_request',\n",
              "       'requester_upvotes_minus_downvotes_at_request',\n",
              "       'requester_upvotes_plus_downvotes_at_request', 'requester_username',\n",
              "       'unix_timestamp_of_request', 'unix_timestamp_of_request_utc'],\n",
              "      dtype='object')"
            ]
          },
          "metadata": {},
          "execution_count": 6
        }
      ]
    },
    {
      "cell_type": "code",
      "execution_count": 4,
      "metadata": {
        "colab": {
          "base_uri": "https://localhost:8080/"
        },
        "id": "1bqtvRVJjKpB",
        "outputId": "7016b5d6-9252-468e-a32a-9a01e926fdf1"
      },
      "outputs": [
        {
          "output_type": "stream",
          "name": "stdout",
          "text": [
            "(4040, 31)\n",
            "(4040,)\n"
          ]
        }
      ],
      "source": [
        "# isolate variables...\n",
        "X_train = np.array(training_data.drop('requester_received_pizza', axis = 1))\n",
        "print(X_train.shape)\n",
        "\n",
        "# ...from labels\n",
        "Y_train = np.array(training_data['requester_received_pizza'])\n",
        "print(Y_train.shape)"
      ]
    },
    {
      "cell_type": "code",
      "source": [],
      "metadata": {
        "id": "ULqSBwMlMC7s"
      },
      "execution_count": 7,
      "outputs": []
    },
    {
      "cell_type": "code",
      "execution_count": 5,
      "metadata": {
        "id": "Bh1HeaeJlwEF"
      },
      "outputs": [],
      "source": [
        "X_training_data_post = training_data['request_text_edit_aware']\n"
      ]
    },
    {
      "cell_type": "code",
      "execution_count": 6,
      "metadata": {
        "id": "dzb8wCe6lqhl"
      },
      "outputs": [],
      "source": [
        "max_sequence_length = 30 # how much of the post to look at\n",
        "\n",
        "vectorize_layer = tf.keras.layers.TextVectorization(\n",
        "    max_tokens=None, # Maximum vocabulary size - None -> no cap\n",
        "    standardize='lower_and_strip_punctuation', # Standarization to apply to text - None -> no standarization\n",
        "    split=\"whitespace\", # Values can be None (no splitting), \"whitespace\", or a Callable\n",
        "    output_mode='int',  # Values can be \"int\", \"multi_hot\", \"count\" or \"tf_idf\"\n",
        "    output_sequence_length=max_sequence_length, # Only valid in INT mode. If set, the output will have its time dimension padded or truncated to exactly output_sequence_length values\n",
        "    )\n",
        "\n",
        "vectorize_layer.adapt(X_training_data_post)\n",
        "\n"
      ]
    },
    {
      "cell_type": "code",
      "execution_count": 7,
      "metadata": {
        "id": "t7giVaBqnEC0"
      },
      "outputs": [],
      "source": [
        "X_training_data_post_vectorized = vectorize_layer(X_training_data_post)"
      ]
    },
    {
      "cell_type": "code",
      "execution_count": 8,
      "metadata": {
        "colab": {
          "base_uri": "https://localhost:8080/"
        },
        "id": "21nKx_1Ikw0d",
        "outputId": "f3757d72-de9b-44e3-a982-f4b9a8ff51c5"
      },
      "outputs": [
        {
          "output_type": "stream",
          "name": "stdout",
          "text": [
            "X_train_one_hot shape: (4040, 30, 13208)\n"
          ]
        }
      ],
      "source": [
        "X_train_one_hot = tf.keras.utils.to_categorical(X_training_data_post_vectorized)\n",
        "print('X_train_one_hot shape:', X_train_one_hot.shape)"
      ]
    },
    {
      "cell_type": "code",
      "execution_count": 11,
      "metadata": {
        "id": "vZ4lf0QHnDQB"
      },
      "outputs": [],
      "source": []
    },
    {
      "cell_type": "code",
      "execution_count": 9,
      "metadata": {
        "id": "ydOxRR1wg9VD"
      },
      "outputs": [],
      "source": [
        "def plot_history(history):\n",
        "  plt.ylabel('Loss')\n",
        "  plt.xlabel('Epoch')\n",
        "  plt.xticks(range(0, len(history['loss'] + 1)))\n",
        "  plt.plot(history['loss'], label=\"training\", marker='o')\n",
        "  plt.plot(history['val_loss'], label=\"validation\", marker='o')\n",
        "  plt.legend()\n",
        "  plt.show()"
      ]
    },
    {
      "cell_type": "code",
      "execution_count": 10,
      "metadata": {
        "id": "O-2dW4HhLxNG"
      },
      "outputs": [],
      "source": [
        "def build_onehot_model3(average_over_positions=False):\n",
        "  \"\"\"Build a tf.keras model for one-hot data.\"\"\"\n",
        "  # Clear session and remove randomness.\n",
        "  tf.keras.backend.clear_session()\n",
        "  tf.random.set_seed(0)\n",
        "\n",
        "  model = tf.keras.Sequential()\n",
        "  if average_over_positions:\n",
        "    # This layer averages over the first dimension of the input by default.\n",
        "    model.add(tf.keras.layers.GlobalAveragePooling1D())\n",
        "  else:\n",
        "    # Concatenate.\n",
        "    model.add(tf.keras.layers.Flatten())\n",
        "  model.add(tf.keras.layers.Dense(\n",
        "      units=1,                     # output dim (for binary classification)\n",
        "      activation=\"sigmoid\"         # sigmoid activation for classification\n",
        "  ))\n",
        "\n",
        "  model.compile(loss=tf.keras.losses.BinaryCrossentropy(),\n",
        "                optimizer=tf.keras.optimizers.Adam(learning_rate=.01),\n",
        "                metrics=[tf.keras.metrics.BinaryAccuracy()])\n",
        "\n",
        "  return model"
      ]
    },
    {
      "cell_type": "code",
      "source": [
        "model5 = build_onehot_model3(average_over_positions=False)"
      ],
      "metadata": {
        "id": "vvAgdYhyS9zc"
      },
      "execution_count": 11,
      "outputs": []
    },
    {
      "cell_type": "code",
      "execution_count": 12,
      "metadata": {
        "id": "6a6NSceTMyh0",
        "colab": {
          "base_uri": "https://localhost:8080/",
          "height": 1000
        },
        "outputId": "722b1c1a-fc26-4716-f6cf-a398eb8b3b58"
      },
      "outputs": [
        {
          "output_type": "stream",
          "name": "stdout",
          "text": [
            "Epoch 1/15\n",
            "57/57 [==============================] - 5s 80ms/step - loss: 0.5739 - binary_accuracy: 0.7486 - val_loss: 0.5644 - val_binary_accuracy: 0.7401\n",
            "Epoch 2/15\n",
            "57/57 [==============================] - 6s 104ms/step - loss: 0.3133 - binary_accuracy: 0.8837 - val_loss: 0.5704 - val_binary_accuracy: 0.7277\n",
            "Epoch 3/15\n",
            "57/57 [==============================] - 4s 62ms/step - loss: 0.1978 - binary_accuracy: 0.9758 - val_loss: 0.5769 - val_binary_accuracy: 0.7302\n",
            "Epoch 4/15\n",
            "57/57 [==============================] - 3s 49ms/step - loss: 0.1384 - binary_accuracy: 0.9860 - val_loss: 0.5837 - val_binary_accuracy: 0.7252\n",
            "Epoch 5/15\n",
            "57/57 [==============================] - 4s 63ms/step - loss: 0.1053 - binary_accuracy: 0.9890 - val_loss: 0.5965 - val_binary_accuracy: 0.7252\n",
            "Epoch 6/15\n",
            "57/57 [==============================] - 3s 47ms/step - loss: 0.0842 - binary_accuracy: 0.9912 - val_loss: 0.6038 - val_binary_accuracy: 0.7302\n",
            "Epoch 7/15\n",
            "57/57 [==============================] - 3s 47ms/step - loss: 0.0698 - binary_accuracy: 0.9923 - val_loss: 0.6187 - val_binary_accuracy: 0.7302\n",
            "Epoch 8/15\n",
            "57/57 [==============================] - 3s 47ms/step - loss: 0.0594 - binary_accuracy: 0.9923 - val_loss: 0.6223 - val_binary_accuracy: 0.7277\n",
            "Epoch 9/15\n",
            "57/57 [==============================] - 3s 55ms/step - loss: 0.0530 - binary_accuracy: 0.9926 - val_loss: 0.6315 - val_binary_accuracy: 0.7252\n",
            "Epoch 10/15\n",
            "57/57 [==============================] - 3s 55ms/step - loss: 0.0465 - binary_accuracy: 0.9931 - val_loss: 0.6388 - val_binary_accuracy: 0.7252\n",
            "Epoch 11/15\n",
            "57/57 [==============================] - 3s 52ms/step - loss: 0.0423 - binary_accuracy: 0.9937 - val_loss: 0.6485 - val_binary_accuracy: 0.7228\n",
            "Epoch 12/15\n",
            "57/57 [==============================] - 3s 49ms/step - loss: 0.0384 - binary_accuracy: 0.9942 - val_loss: 0.6570 - val_binary_accuracy: 0.7228\n",
            "Epoch 13/15\n",
            "57/57 [==============================] - 3s 60ms/step - loss: 0.0354 - binary_accuracy: 0.9945 - val_loss: 0.6626 - val_binary_accuracy: 0.7252\n",
            "Epoch 14/15\n",
            "57/57 [==============================] - 3s 52ms/step - loss: 0.0329 - binary_accuracy: 0.9945 - val_loss: 0.6724 - val_binary_accuracy: 0.7228\n",
            "Epoch 15/15\n",
            "57/57 [==============================] - 3s 48ms/step - loss: 0.0308 - binary_accuracy: 0.9942 - val_loss: 0.6731 - val_binary_accuracy: 0.7252\n"
          ]
        },
        {
          "output_type": "display_data",
          "data": {
            "text/plain": [
              "<Figure size 640x480 with 1 Axes>"
            ],
            "image/png": "[encoded data removed]"
          },
          "metadata": {}
        }
      ],
      "source": [
        "\n",
        "\n",
        "# Fit the model.\n",
        "history5 = model5.fit(\n",
        "  x = X_train_one_hot,  # one-hot training data\n",
        "  y = Y_train,          # corresponding binary labels\n",
        "  epochs=15,             # number of passes through the training data\n",
        "  batch_size=64,        # mini-batch size\n",
        "  validation_split=0.1, # use a fraction of the examples for validation\n",
        "  verbose=1             # display some progress output during training\n",
        "  )\n",
        "\n",
        "# Convert the return value into a DataFrame so we can see the train loss\n",
        "# and binary accuracy after every epoch.\n",
        "history5 = pd.DataFrame(history5.history)\n",
        "plot_history(history5)"
      ]
    },
    {
      "cell_type": "code",
      "execution_count": null,
      "metadata": {
        "id": "Ut1LEaIWRe49"
      },
      "outputs": [],
      "source": [
        "type(X_train_one_hot)"
      ]
    },
    {
      "cell_type": "code",
      "execution_count": null,
      "metadata": {
        "id": "x8kQVv5A-mnm"
      },
      "outputs": [],
      "source": [
        "test_data.dtypes"
      ]
    },
    {
      "cell_type": "code",
      "execution_count": null,
      "metadata": {
        "id": "QZBbUz0tAWcC"
      },
      "outputs": [],
      "source": [
        "X_test_data_post = test_data['request_text_edit_aware']"
      ]
    },
    {
      "cell_type": "code",
      "execution_count": null,
      "metadata": {
        "id": "WSCOpJDYEh-A"
      },
      "outputs": [],
      "source": [
        "\n",
        "vectorize_layer.adapt(X_test_data_post)"
      ]
    },
    {
      "cell_type": "code",
      "execution_count": null,
      "metadata": {
        "id": "l7-XPk4yEkJh"
      },
      "outputs": [],
      "source": [
        "X_test_data_post_vectorized = vectorize_layer(X_test_data_post)"
      ]
    },
    {
      "cell_type": "code",
      "execution_count": null,
      "metadata": {
        "id": "v8AokdBdFw0f"
      },
      "outputs": [],
      "source": []
    },
    {
      "cell_type": "code",
      "execution_count": null,
      "metadata": {
        "id": "cVBGCRLUEp3r"
      },
      "outputs": [],
      "source": [
        "X_test_one_hot = tf.keras.utils.to_categorical(X_test_data_post_vectorized)\n",
        "print('X_test_one_hot:', X_test_one_hot.shape)"
      ]
    },
    {
      "cell_type": "code",
      "source": [
        "type(X_test_one_hot)"
      ],
      "metadata": {
        "id": "x2WxC5nuMV_1"
      },
      "execution_count": null,
      "outputs": []
    },
    {
      "cell_type": "code",
      "source": [
        "type(X_train_one_hot)"
      ],
      "metadata": {
        "id": "dq6NTyU0Ma6n"
      },
      "execution_count": null,
      "outputs": []
    },
    {
      "cell_type": "code",
      "execution_count": null,
      "metadata": {
        "id": "WeQ49GxeE7uq"
      },
      "outputs": [],
      "source": [
        "#model5.predict(X_test_one_hot)\n"
      ]
    },
    {
      "cell_type": "code",
      "execution_count": null,
      "metadata": {
        "id": "2TFj1UXuFP4K"
      },
      "outputs": [],
      "source": [
        "num_sequences = X_test_one_hot.shape[0]\n",
        "sequence_length = 30\n",
        "num_features = 8043\n",
        "\n",
        "X_test_one_hot_reshaped = X_test_one_hot.reshape(num_sequences, sequence_length, num_features)"
      ]
    },
    {
      "cell_type": "code",
      "source": [
        "#from keras_preprocessing.sequence import pad_sequences"
      ],
      "metadata": {
        "id": "rR1q2RODPq0K"
      },
      "execution_count": null,
      "outputs": []
    },
    {
      "cell_type": "code",
      "source": [
        "#model5.predict(X_test_one_hot_reshaped)"
      ],
      "metadata": {
        "id": "YeqG5LLxPDTz"
      },
      "execution_count": null,
      "outputs": []
    },
    {
      "cell_type": "code",
      "source": [
        "print(X_test_one_hot_reshaped.shape)"
      ],
      "metadata": {
        "id": "AXVuvWqmPHJn"
      },
      "execution_count": null,
      "outputs": []
    },
    {
      "cell_type": "code",
      "source": [
        "num_sequences"
      ],
      "metadata": {
        "id": "psUCDRuEQO7y"
      },
      "execution_count": null,
      "outputs": []
    },
    {
      "cell_type": "code",
      "source": [
        "X_test_one_hot_flat = X_test_one_hot.flatten()\n",
        "\n",
        "pad_width = 154950\n",
        "constant_value = 0\n",
        "\n",
        "X_test_one_hot_flat_padded = np.pad(X_test_one_hot_flat, (pad_width, pad_width), mode='constant', constant_values=constant_value)\n",
        "\n"
      ],
      "metadata": {
        "id": "UINhoK3NQhRV"
      },
      "execution_count": null,
      "outputs": []
    },
    {
      "cell_type": "code",
      "source": [
        "predictions = model5.predict(X_test_one_hot_flat_padded)"
      ],
      "metadata": {
        "id": "Iw01yLPIQ_5f"
      },
      "execution_count": null,
      "outputs": []
    },
    {
      "cell_type": "code",
      "source": [
        "predictions2 = model5.predict(X_train_one_hot)"
      ],
      "metadata": {
        "id": "2PyEsSCIeovt"
      },
      "execution_count": null,
      "outputs": []
    },
    {
      "cell_type": "code",
      "source": [
        "confusion_matrix(Y_train, )"
      ],
      "metadata": {
        "id": "4EV9jwRBTjtV"
      },
      "execution_count": null,
      "outputs": []
    }
  ],
  "metadata": {
    "colab": {
      "provenance": []
    },
    "kernelspec": {
      "display_name": "Python 3",
      "name": "python3"
    },
    "language_info": {
      "name": "python"
    }
  },
  "nbformat": 4,
  "nbformat_minor": 0
}