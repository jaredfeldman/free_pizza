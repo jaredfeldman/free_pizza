{
 "cells": [
  {
   "cell_type": "code",
   "execution_count": 12,
   "id": "b230640e",
   "metadata": {},
   "outputs": [],
   "source": [
    "import pandas as pd\n",
    "import numpy as np\n",
    "import matplotlib.pyplot as plt\n",
    "\n",
    "from sklearn.model_selection import train_test_split\n",
    "from sklearn import tree\n",
    "from sklearn.tree import DecisionTreeClassifier\n",
    "\n",
    "# This tells matplotlib not to try opening a new window for each plot.\n",
    "%matplotlib inline"
   ]
  },
  {
   "cell_type": "code",
   "execution_count": 2,
   "id": "68f9f317",
   "metadata": {},
   "outputs": [],
   "source": [
    "# Load data\n",
    "training_data = pd.read_json(\"train.json\")\n",
    "test_data = pd.read_json(\"test.json\")"
   ]
  },
  {
   "cell_type": "code",
   "execution_count": 9,
   "id": "43b4ee94",
   "metadata": {},
   "outputs": [],
   "source": [
    "# Split data and set the appropriate columns\n",
    "test_features = list(test_data.columns)\n",
    "\n",
    "training_data = training_data.sample(frac=1)\n",
    "Y = training_data['requester_received_pizza']\n",
    "X = training_data[training_data.columns[training_data.columns.isin(test_features)]]\n",
    "\n",
    "train_data, train_labels = X[:3609], Y[:3609]\n",
    "val_data, val_labels = X[3609:], Y[3609:]"
   ]
  },
  {
   "cell_type": "code",
   "execution_count": 32,
   "id": "60aeb7ce",
   "metadata": {},
   "outputs": [],
   "source": [
    "num_features = ['requester_account_age_in_days_at_request',\n",
    "       'requester_days_since_first_post_on_raop_at_request',\n",
    "       'requester_number_of_comments_at_request',\n",
    "       'requester_number_of_comments_in_raop_at_request',\n",
    "       'requester_number_of_posts_at_request',\n",
    "       'requester_number_of_posts_on_raop_at_request',\n",
    "       'requester_number_of_subreddits_at_request',\n",
    "       'requester_upvotes_minus_downvotes_at_request',\n",
    "       'requester_upvotes_plus_downvotes_at_request']"
   ]
  },
  {
   "cell_type": "code",
   "execution_count": 13,
   "id": "b1d0c66b",
   "metadata": {},
   "outputs": [],
   "source": [
    "def entropy(distribution):\n",
    "    ''' Computes the entropy index\n",
    "    # param distribution: list containing distributions\n",
    "    # return entropy index\n",
    "    '''\n",
    "    entropy_index = 0.0\n",
    "    for probability in distribution:\n",
    "        logprob = -100.0  # log(0) = -inf so let's approximate it with -100 to avoid an error\n",
    "        if probability > 0.0: \n",
    "            logprob = np.log2(probability)\n",
    "        entropy_index -= probability * logprob\n",
    "        \n",
    "    return entropy_index"
   ]
  },
  {
   "cell_type": "code",
   "execution_count": 14,
   "id": "47098052",
   "metadata": {},
   "outputs": [],
   "source": [
    "def get_parent_distribution(labels):\n",
    "    ''' Computes parent distirbution\n",
    "    # param labels: << your turn to comment here >>\n",
    "    # return: <<your turn to comment here >>\n",
    "    '''\n",
    "    # Initialize counters for all labels to zero.\n",
    "    label_probs = np.array([0.0 for i in range(len(np.unique(labels)))])\n",
    "\n",
    "    # Iterate over labels in the training data and update counts.\n",
    "    for label in labels:\n",
    "        label_probs[label] += 1.0\n",
    "    \n",
    "    # Normalize to get a distribution.\n",
    "    label_probs /= label_probs.sum()\n",
    "    \n",
    "    return label_probs"
   ]
  },
  {
   "cell_type": "code",
   "execution_count": 15,
   "id": "164d856a",
   "metadata": {},
   "outputs": [],
   "source": [
    "def information_gain(data, labels, feature, threshold=0):\n",
    "    ''' Computes information gain\n",
    "    # param data: an array of featurized examples\n",
    "    # param labels: an array of labels corresponding to the the data\n",
    "    # param feature: the feature to use to split the data\n",
    "    # param threshold: the feature value to use to split the data (the default threshold is good for binary features)\n",
    "    '''\n",
    "    # Get the initial entropy of the label distribution.\n",
    "    initial_entropy = entropy(get_parent_distribution(labels))\n",
    "    \n",
    "    # subset0 will contain the labels for which the feature is 0 and\n",
    "    # subset1 will contain the labels for which the feature is 1.\n",
    "    subset0, subset1 = [], []\n",
    "    for datum, label in zip(data, labels):\n",
    "        if datum[feature] > threshold:\n",
    "            subset1.append(label)\n",
    "        else: \n",
    "            subset0.append(label)\n",
    "    \n",
    "    # Compute the entropy of each subset.\n",
    "    subset0_entropy = entropy(get_parent_distribution(subset0))\n",
    "    subset1_entropy = entropy(get_parent_distribution(subset1))\n",
    "    \n",
    "    # Compute the final entropy by weighting each subset's entropy according to its size.\n",
    "    subset0_weight = 1.0 * len(subset0) / len(labels)\n",
    "    subset1_weight = 1.0 * len(subset1) / len(labels)\n",
    "    final_entropy = subset0_weight * subset0_entropy + subset1_weight * subset1_entropy\n",
    "    \n",
    "    # Finally, compute information gain as the difference between the initial and final entropy.\n",
    "    return initial_entropy - final_entropy"
   ]
  },
  {
   "cell_type": "code",
   "execution_count": 16,
   "id": "c4f4ae17",
   "metadata": {},
   "outputs": [],
   "source": [
    "def try_features_and_thresholds(data, labels):\n",
    "    ''' Computes thresholds for each features and returns the threshold that optimized information gain\n",
    "    # param labels: << your turn to comment here >>\n",
    "    # return: <<your turn to comment here >>\n",
    "    '''\n",
    "    print('feature', 'best_threshold', 'best_IG', 'feature name')\n",
    "    for feature in range(data.shape[1]):\n",
    "        # Choose a set of thresholds between the min- and max-valued feature, ignoring the min and max themselves.\n",
    "        thresholds = np.linspace(data[:,feature].min(), data[:,feature].max(), 20)[1:-1]\n",
    "\n",
    "        # Try each threshold and keep track of the best one for this feature.\n",
    "        best_threshold = 0\n",
    "        best_IG = 0\n",
    "        for threshold in thresholds:\n",
    "            IG = information_gain(data, labels, feature, threshold)\n",
    "            if IG > best_IG:\n",
    "                best_IG = IG\n",
    "                best_threshold = threshold\n",
    "\n",
    "        # Show the best threshold and information gain for this feature.\n",
    "        \n",
    "        print ('%d %.3f %.3f %s' %(feature, best_threshold, best_IG, features[feature]))"
   ]
  },
  {
   "cell_type": "code",
   "execution_count": 20,
   "id": "bf1e99f4",
   "metadata": {},
   "outputs": [
    {
     "name": "stdout",
     "output_type": "stream",
     "text": [
      "Parent distribution [0.5 0.5]\n",
      "Parent entropy: 1.0\n",
      "Uniform entropy: 1.584962500721156\n"
     ]
    }
   ],
   "source": [
    "label_probs = get_parent_distribution(train_labels)\n",
    "\n",
    "print ('Parent distribution', label_probs)\n",
    "# Compare the label entropy to a uniform distribution.\n",
    "print ('Parent entropy:', entropy(label_probs))\n",
    "print ('Uniform entropy:', entropy([1./3, 1./3, 1./3]))"
   ]
  },
  {
   "cell_type": "code",
   "execution_count": 56,
   "id": "7ef384d8",
   "metadata": {},
   "outputs": [],
   "source": [
    "train_data = train_data[train_data.columns[train_data.columns.isin(num_features)]]"
   ]
  },
  {
   "cell_type": "code",
   "execution_count": 57,
   "id": "220671a6",
   "metadata": {},
   "outputs": [],
   "source": [
    "val_data = val_data[val_data.columns[val_data.columns.isin(num_features)]]"
   ]
  },
  {
   "cell_type": "code",
   "execution_count": 52,
   "id": "f8e10f31",
   "metadata": {},
   "outputs": [
    {
     "name": "stdout",
     "output_type": "stream",
     "text": [
      "Using a decision stump -- a tree with depth 1:\n",
      "Feature importances: [0.08138784 0.         0.         0.51869591 0.         0.\n",
      " 0.         0.         0.39991624]\n",
      "Accuracy: 0.7354988399071926\n"
     ]
    },
    {
     "data": {
      "image/png": "[encoded data removed]",
      "text/plain": [
       "<Figure size 640x480 with 1 Axes>"
      ]
     },
     "metadata": {},
     "output_type": "display_data"
    }
   ],
   "source": [
    "dt = DecisionTreeClassifier(criterion='entropy', max_depth=2)\n",
    "dt.fit(train_data, train_labels)\n",
    "tree.plot_tree(dt)\n",
    "print ('Using a decision stump -- a tree with depth 1:')\n",
    "print ('Feature importances:', dt.feature_importances_)\n",
    "print ('Accuracy:', dt.score(val_data, val_labels))"
   ]
  },
  {
   "cell_type": "code",
   "execution_count": 49,
   "id": "3935a298",
   "metadata": {},
   "outputs": [
    {
     "name": "stdout",
     "output_type": "stream",
     "text": [
      "0 requester_account_age_in_days_at_request\n",
      "1 requester_days_since_first_post_on_raop_at_request\n",
      "2 requester_number_of_comments_at_request\n",
      "3 requester_number_of_comments_in_raop_at_request\n",
      "4 requester_number_of_posts_at_request\n",
      "5 requester_number_of_posts_on_raop_at_request\n",
      "6 requester_number_of_subreddits_at_request\n",
      "7 requester_upvotes_minus_downvotes_at_request\n",
      "8 requester_upvotes_plus_downvotes_at_request\n"
     ]
    }
   ],
   "source": [
    "for i in range(len(num_features)):\n",
    "    print(i, num_features[i])"
   ]
  },
  {
   "cell_type": "code",
   "execution_count": 50,
   "id": "8572e500",
   "metadata": {},
   "outputs": [],
   "source": [
    "imp_features = [num_features[0], num_features[3], num_features[8]]"
   ]
  },
  {
   "cell_type": "code",
   "execution_count": null,
   "id": "e6ca4f8d",
   "metadata": {},
   "outputs": [],
   "source": []
  }
 ],
 "metadata": {
  "kernelspec": {
   "display_name": "Python 3 (ipykernel)",
   "language": "python",
   "name": "python3"
  },
  "language_info": {
   "codemirror_mode": {
    "name": "ipython",
    "version": 3
   },
   "file_extension": ".py",
   "mimetype": "text/x-python",
   "name": "python",
   "nbconvert_exporter": "python",
   "pygments_lexer": "ipython3",
   "version": "3.9.16"
  }
 },
 "nbformat": 4,
 "nbformat_minor": 5
}
