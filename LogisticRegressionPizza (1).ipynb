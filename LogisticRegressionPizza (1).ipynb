{
  "cells": [
    {
      "cell_type": "code",
      "execution_count": 1,
      "metadata": {
        "colab": {
          "base_uri": "https://localhost:8080/",
          "height": 73
        },
        "id": "R9v1ClT_1Vel",
        "outputId": "c39a1445-8b16-4689-d526-6b1c7034c863"
      },
      "outputs": [
        {
          "output_type": "display_data",
          "data": {
            "text/plain": [
              "<IPython.core.display.HTML object>"
            ],
            "text/html": [
              "\n",
              "     <input type=\"file\" id=\"files-34c3899e-2195-45be-99d0-b164fc77c1d7\" name=\"files[]\" multiple disabled\n",
              "        style=\"border:none\" />\n",
              "     <output id=\"result-34c3899e-2195-45be-99d0-b164fc77c1d7\">\n",
              "      Upload widget is only available when the cell has been executed in the\n",
              "      current browser session. Please rerun this cell to enable.\n",
              "      </output>\n",
              "      <script>// Copyright 2017 Google LLC\n",
              "//\n",
              "// Licensed under the Apache License, Version 2.0 (the \"License\");\n",
              "// you may not use this file except in compliance with the License.\n",
              "// You may obtain a copy of the License at\n",
              "//\n",
              "//      http://www.apache.org/licenses/LICENSE-2.0\n",
              "//\n",
              "// Unless required by applicable law or agreed to in writing, software\n",
              "// distributed under the License is distributed on an \"AS IS\" BASIS,\n",
              "// WITHOUT WARRANTIES OR CONDITIONS OF ANY KIND, either express or implied.\n",
              "// See the License for the specific language governing permissions and\n",
              "// limitations under the License.\n",
              "\n",
              "/**\n",
              " * @fileoverview Helpers for google.colab Python module.\n",
              " */\n",
              "(function(scope) {\n",
              "function span(text, styleAttributes = {}) {\n",
              "  const element = document.createElement('span');\n",
              "  element.textContent = text;\n",
              "  for (const key of Object.keys(styleAttributes)) {\n",
              "    element.style[key] = styleAttributes[key];\n",
              "  }\n",
              "  return element;\n",
              "}\n",
              "\n",
              "// Max number of bytes which will be uploaded at a time.\n",
              "const MAX_PAYLOAD_SIZE = 100 * 1024;\n",
              "\n",
              "function _uploadFiles(inputId, outputId) {\n",
              "  const steps = uploadFilesStep(inputId, outputId);\n",
              "  const outputElement = document.getElementById(outputId);\n",
              "  // Cache steps on the outputElement to make it available for the next call\n",
              "  // to uploadFilesContinue from Python.\n",
              "  outputElement.steps = steps;\n",
              "\n",
              "  return _uploadFilesContinue(outputId);\n",
              "}\n",
              "\n",
              "// This is roughly an async generator (not supported in the browser yet),\n",
              "// where there are multiple asynchronous steps and the Python side is going\n",
              "// to poll for completion of each step.\n",
              "// This uses a Promise to block the python side on completion of each step,\n",
              "// then passes the result of the previous step as the input to the next step.\n",
              "function _uploadFilesContinue(outputId) {\n",
              "  const outputElement = document.getElementById(outputId);\n",
              "  const steps = outputElement.steps;\n",
              "\n",
              "  const next = steps.next(outputElement.lastPromiseValue);\n",
              "  return Promise.resolve(next.value.promise).then((value) => {\n",
              "    // Cache the last promise value to make it available to the next\n",
              "    // step of the generator.\n",
              "    outputElement.lastPromiseValue = value;\n",
              "    return next.value.response;\n",
              "  });\n",
              "}\n",
              "\n",
              "/**\n",
              " * Generator function which is called between each async step of the upload\n",
              " * process.\n",
              " * @param {string} inputId Element ID of the input file picker element.\n",
              " * @param {string} outputId Element ID of the output display.\n",
              " * @return {!Iterable<!Object>} Iterable of next steps.\n",
              " */\n",
              "function* uploadFilesStep(inputId, outputId) {\n",
              "  const inputElement = document.getElementById(inputId);\n",
              "  inputElement.disabled = false;\n",
              "\n",
              "  const outputElement = document.getElementById(outputId);\n",
              "  outputElement.innerHTML = '';\n",
              "\n",
              "  const pickedPromise = new Promise((resolve) => {\n",
              "    inputElement.addEventListener('change', (e) => {\n",
              "      resolve(e.target.files);\n",
              "    });\n",
              "  });\n",
              "\n",
              "  const cancel = document.createElement('button');\n",
              "  inputElement.parentElement.appendChild(cancel);\n",
              "  cancel.textContent = 'Cancel upload';\n",
              "  const cancelPromise = new Promise((resolve) => {\n",
              "    cancel.onclick = () => {\n",
              "      resolve(null);\n",
              "    };\n",
              "  });\n",
              "\n",
              "  // Wait for the user to pick the files.\n",
              "  const files = yield {\n",
              "    promise: Promise.race([pickedPromise, cancelPromise]),\n",
              "    response: {\n",
              "      action: 'starting',\n",
              "    }\n",
              "  };\n",
              "\n",
              "  cancel.remove();\n",
              "\n",
              "  // Disable the input element since further picks are not allowed.\n",
              "  inputElement.disabled = true;\n",
              "\n",
              "  if (!files) {\n",
              "    return {\n",
              "      response: {\n",
              "        action: 'complete',\n",
              "      }\n",
              "    };\n",
              "  }\n",
              "\n",
              "  for (const file of files) {\n",
              "    const li = document.createElement('li');\n",
              "    li.append(span(file.name, {fontWeight: 'bold'}));\n",
              "    li.append(span(\n",
              "        `(${file.type || 'n/a'}) - ${file.size} bytes, ` +\n",
              "        `last modified: ${\n",
              "            file.lastModifiedDate ? file.lastModifiedDate.toLocaleDateString() :\n",
              "                                    'n/a'} - `));\n",
              "    const percent = span('0% done');\n",
              "    li.appendChild(percent);\n",
              "\n",
              "    outputElement.appendChild(li);\n",
              "\n",
              "    const fileDataPromise = new Promise((resolve) => {\n",
              "      const reader = new FileReader();\n",
              "      reader.onload = (e) => {\n",
              "        resolve(e.target.result);\n",
              "      };\n",
              "      reader.readAsArrayBuffer(file);\n",
              "    });\n",
              "    // Wait for the data to be ready.\n",
              "    let fileData = yield {\n",
              "      promise: fileDataPromise,\n",
              "      response: {\n",
              "        action: 'continue',\n",
              "      }\n",
              "    };\n",
              "\n",
              "    // Use a chunked sending to avoid message size limits. See b/62115660.\n",
              "    let position = 0;\n",
              "    do {\n",
              "      const length = Math.min(fileData.byteLength - position, MAX_PAYLOAD_SIZE);\n",
              "      const chunk = new Uint8Array(fileData, position, length);\n",
              "      position += length;\n",
              "\n",
              "      const base64 = btoa(String.fromCharCode.apply(null, chunk));\n",
              "      yield {\n",
              "        response: {\n",
              "          action: 'append',\n",
              "          file: file.name,\n",
              "          data: base64,\n",
              "        },\n",
              "      };\n",
              "\n",
              "      let percentDone = fileData.byteLength === 0 ?\n",
              "          100 :\n",
              "          Math.round((position / fileData.byteLength) * 100);\n",
              "      percent.textContent = `${percentDone}% done`;\n",
              "\n",
              "    } while (position < fileData.byteLength);\n",
              "  }\n",
              "\n",
              "  // All done.\n",
              "  yield {\n",
              "    response: {\n",
              "      action: 'complete',\n",
              "    }\n",
              "  };\n",
              "}\n",
              "\n",
              "scope.google = scope.google || {};\n",
              "scope.google.colab = scope.google.colab || {};\n",
              "scope.google.colab._files = {\n",
              "  _uploadFiles,\n",
              "  _uploadFilesContinue,\n",
              "};\n",
              "})(self);\n",
              "</script> "
            ]
          },
          "metadata": {}
        },
        {
          "output_type": "stream",
          "name": "stdout",
          "text": [
            "Saving train.json to train.json\n"
          ]
        }
      ],
      "source": [
        "from google.colab import files\n",
        "uploaded = files.upload()"
      ]
    },
    {
      "cell_type": "code",
      "execution_count": 22,
      "metadata": {
        "id": "OM03VRTh1qnD"
      },
      "outputs": [],
      "source": [
        "# Import the libraries we'll use below.\n",
        "import numpy as np\n",
        "from matplotlib import pyplot as plt\n",
        "import pandas as pd\n",
        "import seaborn as sns  # for nicer plots\n",
        "sns.set(style=\"darkgrid\")  # default style\n",
        "import plotly.graph_objs as plotly  # for interactive plots\n",
        "import re\n",
        "import string\n",
        "\n",
        "import tensorflow as tf\n",
        "from tensorflow import keras\n",
        "\n",
        "from sklearn.model_selection import train_test_split"
      ]
    },
    {
      "cell_type": "code",
      "execution_count": 56,
      "metadata": {
        "colab": {
          "base_uri": "https://localhost:8080/"
        },
        "id": "vR_iIK9j1zuY",
        "outputId": "c9e1b811-fefb-460e-e9c2-03daf190633c"
      },
      "outputs": [
        {
          "output_type": "execute_result",
          "data": {
            "text/plain": [
              "Index(['giver_username_if_known',\n",
              "       'number_of_downvotes_of_request_at_retrieval',\n",
              "       'number_of_upvotes_of_request_at_retrieval', 'post_was_edited',\n",
              "       'request_id', 'request_number_of_comments_at_retrieval', 'request_text',\n",
              "       'request_text_edit_aware', 'request_title',\n",
              "       'requester_account_age_in_days_at_request',\n",
              "       'requester_account_age_in_days_at_retrieval',\n",
              "       'requester_days_since_first_post_on_raop_at_request',\n",
              "       'requester_days_since_first_post_on_raop_at_retrieval',\n",
              "       'requester_number_of_comments_at_request',\n",
              "       'requester_number_of_comments_at_retrieval',\n",
              "       'requester_number_of_comments_in_raop_at_request',\n",
              "       'requester_number_of_comments_in_raop_at_retrieval',\n",
              "       'requester_number_of_posts_at_request',\n",
              "       'requester_number_of_posts_at_retrieval',\n",
              "       'requester_number_of_posts_on_raop_at_request',\n",
              "       'requester_number_of_posts_on_raop_at_retrieval',\n",
              "       'requester_number_of_subreddits_at_request',\n",
              "       'requester_subreddits_at_request',\n",
              "       'requester_upvotes_minus_downvotes_at_request',\n",
              "       'requester_upvotes_minus_downvotes_at_retrieval',\n",
              "       'requester_upvotes_plus_downvotes_at_request',\n",
              "       'requester_upvotes_plus_downvotes_at_retrieval', 'requester_user_flair',\n",
              "       'requester_username', 'unix_timestamp_of_request',\n",
              "       'unix_timestamp_of_request_utc'],\n",
              "      dtype='object')"
            ]
          },
          "metadata": {},
          "execution_count": 56
        }
      ],
      "source": [
        "# create test and train sets\n",
        "all_data = pd.read_json(\"train.json\")\n",
        "outcomes = all_data[\"requester_received_pizza\"]\n",
        "features = all_data.drop(\"requester_received_pizza\", axis=1)\n",
        "\n",
        "X_train, X_test, y_train, y_test = train_test_split(features, outcomes, test_size=0.1, random_state=6)\n",
        "\n",
        "X_train.columns"
      ]
    },
    {
      "cell_type": "code",
      "execution_count": 4,
      "metadata": {
        "id": "ksefvUEh3O6M"
      },
      "outputs": [],
      "source": [
        "# create a train/test set with only numeric fields\n",
        "numeric_columns = [\"number_of_downvotes_of_request_at_retrieval\",\n",
        "                   \"number_of_upvotes_of_request_at_retrieval\",\n",
        "                   \"post_was_edited\",\n",
        "                   \"request_number_of_comments_at_retrieval\",\n",
        "                   \"requester_account_age_in_days_at_request\",\n",
        "                   \"requester_days_since_first_post_on_raop_at_request\",\n",
        "                   \"requester_number_of_comments_at_request\",\n",
        "                   \"requester_number_of_comments_in_raop_at_request\",\n",
        "                   \"requester_number_of_posts_at_request\",\n",
        "                   \"requester_number_of_subreddits_at_request\",\n",
        "                   \"requester_upvotes_minus_downvotes_at_request\",\n",
        "                   \"requester_upvotes_plus_downvotes_at_request\"\n",
        "]"
      ]
    },
    {
      "cell_type": "code",
      "execution_count": 5,
      "metadata": {
        "id": "gzXT_E4k61t2"
      },
      "outputs": [],
      "source": [
        "X_train_numeric_only = X_train[numeric_columns]\n",
        "X_test_numeric_only = X_test[numeric_columns]"
      ]
    },
    {
      "cell_type": "code",
      "execution_count": 6,
      "metadata": {
        "colab": {
          "base_uri": "https://localhost:8080/"
        },
        "id": "4VQ2pWcO691c",
        "outputId": "030c8f90-574f-4a65-9d9e-ebb3fd44d23f"
      },
      "outputs": [
        {
          "output_type": "stream",
          "name": "stdout",
          "text": [
            "Epoch 1/10\n",
            "103/103 [==============================] - 2s 7ms/step - loss: 35567708.0000 - val_loss: 22414800.0000\n",
            "Epoch 2/10\n",
            "103/103 [==============================] - 1s 6ms/step - loss: 29807664.0000 - val_loss: 18420018.0000\n",
            "Epoch 3/10\n",
            "103/103 [==============================] - 0s 4ms/step - loss: 23886204.0000 - val_loss: 14376199.0000\n",
            "Epoch 4/10\n",
            "103/103 [==============================] - 0s 4ms/step - loss: 18195872.0000 - val_loss: 10426367.0000\n",
            "Epoch 5/10\n",
            "103/103 [==============================] - 0s 3ms/step - loss: 12504009.0000 - val_loss: 6553214.0000\n",
            "Epoch 6/10\n",
            "103/103 [==============================] - 0s 3ms/step - loss: 6693656.5000 - val_loss: 2653142.0000\n",
            "Epoch 7/10\n",
            "103/103 [==============================] - 0s 3ms/step - loss: 1329994.7500 - val_loss: 34154.9219\n",
            "Epoch 8/10\n",
            "103/103 [==============================] - 0s 4ms/step - loss: 22669.5508 - val_loss: 1459.6794\n",
            "Epoch 9/10\n",
            "103/103 [==============================] - 0s 4ms/step - loss: 10412.5820 - val_loss: 9569.8975\n",
            "Epoch 10/10\n",
            "103/103 [==============================] - 0s 4ms/step - loss: 11423.7578 - val_loss: 15502.2432\n"
          ]
        },
        {
          "output_type": "execute_result",
          "data": {
            "text/plain": [
              "<keras.callbacks.History at 0x78e7c77f7820>"
            ]
          },
          "metadata": {},
          "execution_count": 6
        }
      ],
      "source": [
        "number_of_features = X_train_numeric_only.shape[1]\n",
        "model = keras.Sequential()\n",
        "model.add(keras.layers.Dense(1,activation = 'sigmoid',input_dim = number_of_features))\n",
        "model.compile(optimizer='adam', loss='binary_crossentropy')\n",
        "model.fit(x = X_train_numeric_only, y = y_train, epochs=10, validation_split=0.1)"
      ]
    },
    {
      "cell_type": "code",
      "execution_count": 7,
      "metadata": {
        "colab": {
          "base_uri": "https://localhost:8080/"
        },
        "id": "2ESN_wgjAK-u",
        "outputId": "dfbca186-6457-47bc-9735-258abcf3d32b"
      },
      "outputs": [
        {
          "output_type": "stream",
          "name": "stdout",
          "text": [
            "114/114 [==============================] - 0s 1ms/step\n",
            "13/13 [==============================] - 0s 2ms/step\n"
          ]
        }
      ],
      "source": [
        "y_train_pred_raw = model.predict(X_train_numeric_only)\n",
        "y_train_pred = y_train_pred_raw > 0.5\n",
        "y_test_pred_raw = model.predict(X_test_numeric_only)\n",
        "y_test_pred = y_test_pred_raw > 0.5"
      ]
    },
    {
      "cell_type": "code",
      "execution_count": 8,
      "metadata": {
        "colab": {
          "base_uri": "https://localhost:8080/"
        },
        "id": "oITf2QpRBWHO",
        "outputId": "437e064d-efa7-4830-96ef-0a6f716c70c5"
      },
      "outputs": [
        {
          "output_type": "execute_result",
          "data": {
            "text/plain": [
              "2540     True\n",
              "159     False\n",
              "279     False\n",
              "1563    False\n",
              "1532    False\n",
              "        ...  \n",
              "1329    False\n",
              "3780     True\n",
              "1475    False\n",
              "2534     True\n",
              "1579    False\n",
              "Name: requester_received_pizza, Length: 404, dtype: bool"
            ]
          },
          "metadata": {},
          "execution_count": 8
        }
      ],
      "source": [
        "y_test"
      ]
    },
    {
      "cell_type": "code",
      "execution_count": 9,
      "metadata": {
        "colab": {
          "base_uri": "https://localhost:8080/",
          "height": 458
        },
        "id": "8csk0J5VAljx",
        "outputId": "37d67a63-040f-4f7c-8a7a-b4bafaa00136"
      },
      "outputs": [
        {
          "output_type": "display_data",
          "data": {
            "text/plain": [
              "<Figure size 640x480 with 1 Axes>"
            ],
            "image/png": "[encoded data removed]"
          },
          "metadata": {}
        }
      ],
      "source": [
        "confusion_matrix = tf.math.confusion_matrix(y_test, y_test_pred)\n",
        "label_names = [True, False]\n",
        "# Use a heatmap plot to display it.\n",
        "ax = sns.heatmap(confusion_matrix, annot=True, fmt='.3g', cmap='Blues',\n",
        "                 xticklabels=label_names, yticklabels=label_names, cbar=False)\n",
        "\n",
        "# Add axis labels.\n",
        "ax.set(xlabel='Predicted Label', ylabel='True Label')\n",
        "plt.show()"
      ]
    },
    {
      "cell_type": "code",
      "execution_count": 10,
      "metadata": {
        "colab": {
          "base_uri": "https://localhost:8080/"
        },
        "id": "qYlSjyekC2Yr",
        "outputId": "6f33d074-f7b0-4065-a28b-abca76e01400"
      },
      "outputs": [
        {
          "output_type": "stream",
          "name": "stdout",
          "text": [
            "Train Accuracy:\n",
            "0.6922\n",
            "Test Accuracy:\n",
            "0.6584\n"
          ]
        }
      ],
      "source": [
        "print(\"Train Accuracy:\")\n",
        "train_matches = sum(y_train.values == y_train_pred.flatten())\n",
        "train_accuracy = train_matches / len(y_train.values)\n",
        "print(round(train_accuracy, 4))\n",
        "print(\"Test Accuracy:\")\n",
        "test_matches = sum(y_test.values == y_test_pred.flatten())\n",
        "test_accuracy = test_matches / len(y_test.values)\n",
        "print(round(test_accuracy, 4))"
      ]
    },
    {
      "cell_type": "code",
      "source": [
        "# Now lets add embeddings\n",
        "def build_embeddings_model(average_over_positions=False,\n",
        "                           vocab_size=1000,\n",
        "                           sequence_length=20,\n",
        "                           embedding_dim=2):\n",
        "  \"\"\"Build a tf.keras model using embeddings.\"\"\"\n",
        "  # Clear session and remove randomness.\n",
        "  tf.keras.backend.clear_session()\n",
        "  tf.random.set_seed(0)\n",
        "\n",
        "  model = tf.keras.Sequential()\n",
        "  model.add(tf.keras.layers.Embedding(\n",
        "      input_dim=vocab_size,\n",
        "      output_dim=embedding_dim,\n",
        "      input_length=sequence_length)\n",
        "  )\n",
        "\n",
        "  if average_over_positions:\n",
        "    # This layer averages over the first dimension of the input by default.\n",
        "    model.add(tf.keras.layers.GlobalAveragePooling1D())\n",
        "  else:\n",
        "    # Concatenate.\n",
        "    model.add(tf.keras.layers.Flatten())\n",
        "  model.add(tf.keras.layers.Dense(\n",
        "      units=1,                     # output dim (for binary classification)\n",
        "      activation='sigmoid'         # apply the sigmoid function!\n",
        "  ))\n",
        "\n",
        "  model.compile(loss='binary_crossentropy',\n",
        "                optimizer='adam',\n",
        "                metrics=['accuracy'])\n",
        "\n",
        "  return model\n",
        "\n",
        "def plot_history(history):\n",
        "  plt.ylabel('Loss')\n",
        "  plt.xlabel('Epoch')\n",
        "  plt.xticks(range(0, len(history['loss'] + 1)))\n",
        "  plt.plot(history['loss'], label=\"training\", marker='o')\n",
        "  plt.plot(history['val_loss'], label=\"validation\", marker='o')\n",
        "  plt.legend()\n",
        "  plt.show()"
      ],
      "metadata": {
        "id": "oEW2MG-D8rIm"
      },
      "execution_count": 89,
      "outputs": []
    },
    {
      "cell_type": "code",
      "source": [
        "def limit_vocab(sequences, max_token_id, oov_id=2):\n",
        "  \"\"\"Replace token ids greater than or equal to max_token_id with the oov_id.\"\"\"\n",
        "  reduced_sequences = np.copy(sequences)\n",
        "  reduced_sequences[reduced_sequences >= max_token_id] = oov_id\n",
        "  return reduced_sequences\n",
        "\n",
        "def preprocess_text(text):\n",
        "  # Remove punctuation\n",
        "  text = text.translate(str.maketrans('', '', string.punctuation))\n",
        "\n",
        "  # Convert to lowercase\n",
        "  text = text.lower()\n",
        "\n",
        "  # Tokenize the text into individual words\n",
        "  words = re.findall(r'\\b\\w+\\b', text)\n",
        "\n",
        "  return words"
      ],
      "metadata": {
        "id": "p7vUXCOY93aB"
      },
      "execution_count": 76,
      "outputs": []
    },
    {
      "cell_type": "code",
      "source": [
        "# text only\n",
        "all_data_text = all_data['request_text'].apply(preprocess_text)\n",
        "all_data_text.shape"
      ],
      "metadata": {
        "colab": {
          "base_uri": "https://localhost:8080/"
        },
        "id": "Q4atD_2m-7-c",
        "outputId": "d60348a1-0690-4ee1-cf44-ebf5bce1146e"
      },
      "execution_count": 65,
      "outputs": [
        {
          "output_type": "execute_result",
          "data": {
            "text/plain": [
              "(4040,)"
            ]
          },
          "metadata": {},
          "execution_count": 65
        }
      ]
    },
    {
      "cell_type": "code",
      "source": [
        "# Create a vocabulary of all the unique words in the text data\n",
        "vocab = set()\n",
        "for text in all_data_text:\n",
        "    vocab.update(text)\n",
        "\n",
        "# Create a word-to-index mapping\n",
        "word_to_index = {}\n",
        "for i, word in enumerate(vocab):\n",
        "    word_to_index[word] = i"
      ],
      "metadata": {
        "id": "ycrcVR0sDPs1"
      },
      "execution_count": 58,
      "outputs": []
    },
    {
      "cell_type": "code",
      "source": [
        "all_data_text_vectorized = all_data_text.apply(lambda x: [word_to_index[word] for word in x])\n",
        "all_data_result = all_data['requester_received_pizza'].astype(int)\n",
        "X_train_text, X_test_text, y_train_text, y_test_text = train_test_split(all_data_text_vectorized, all_data_result, test_size=0.1, random_state=6)"
      ],
      "metadata": {
        "id": "GiGRRMrkDbLs"
      },
      "execution_count": 81,
      "outputs": []
    },
    {
      "cell_type": "code",
      "source": [
        "def pad_data(sequences, max_length):\n",
        "  # Keras has a convenient utility for padding a sequence.\n",
        "  # Also make sure we get a numpy array rather than an array of lists.\n",
        "  return np.array(list(\n",
        "      tf.keras.preprocessing.sequence.pad_sequences(\n",
        "          sequences, maxlen=max_length, padding='post', value=0)))\n",
        "\n",
        "X_train_text_padded = pad_data(X_train_text, max_length=300)\n",
        "# print(X_train_text.shape)\n",
        "# print(X_train_text_padded.shape)\n",
        "# print(len(X_train_text[1]))\n",
        "# print(len(X_train_text_padded[1]))\n",
        "# print(type(X_train_text[1][0]))\n",
        "# print(X_train_text[1])\n",
        "# print(X_train_text_padded[1])"
      ],
      "metadata": {
        "colab": {
          "base_uri": "https://localhost:8080/"
        },
        "id": "C7jU2AGiENnB",
        "outputId": "35e0fc0b-4fa3-4755-c818-8ba7aaecb04c"
      },
      "execution_count": 85,
      "outputs": [
        {
          "output_type": "stream",
          "name": "stdout",
          "text": [
            "(3636,)\n",
            "(3636, 300)\n",
            "15\n",
            "300\n",
            "<class 'int'>\n",
            "[11871, 616, 13007, 7598, 8958, 11871, 357, 655, 9679, 2977, 7394, 5009, 8450, 3277, 4505]\n",
            "[11064  9272  7455  8253 10677  3011 13373   842  5255  4358  7889 13373\n",
            "   842  5255  4240 11871  5435 12532  8738  4657 10741  4657  5255  5354\n",
            "  4621 11519   898  9247 10929  7394  9167  8412 11562   842  8778  8437\n",
            "  7689     0     0     0     0     0     0     0     0     0     0     0\n",
            "     0     0     0     0     0     0     0     0     0     0     0     0\n",
            "     0     0     0     0     0     0     0     0     0     0     0     0\n",
            "     0     0     0     0     0     0     0     0     0     0     0     0\n",
            "     0     0     0     0     0     0     0     0     0     0     0     0\n",
            "     0     0     0     0     0     0     0     0     0     0     0     0\n",
            "     0     0     0     0     0     0     0     0     0     0     0     0\n",
            "     0     0     0     0     0     0     0     0     0     0     0     0\n",
            "     0     0     0     0     0     0     0     0     0     0     0     0\n",
            "     0     0     0     0     0     0     0     0     0     0     0     0\n",
            "     0     0     0     0     0     0     0     0     0     0     0     0\n",
            "     0     0     0     0     0     0     0     0     0     0     0     0\n",
            "     0     0     0     0     0     0     0     0     0     0     0     0\n",
            "     0     0     0     0     0     0     0     0     0     0     0     0\n",
            "     0     0     0     0     0     0     0     0     0     0     0     0\n",
            "     0     0     0     0     0     0     0     0     0     0     0     0\n",
            "     0     0     0     0     0     0     0     0     0     0     0     0\n",
            "     0     0     0     0     0     0     0     0     0     0     0     0\n",
            "     0     0     0     0     0     0     0     0     0     0     0     0\n",
            "     0     0     0     0     0     0     0     0     0     0     0     0\n",
            "     0     0     0     0     0     0     0     0     0     0     0     0\n",
            "     0     0     0     0     0     0     0     0     0     0     0     0]\n"
          ]
        }
      ]
    },
    {
      "cell_type": "code",
      "source": [
        "# text only\n",
        "X_train_text_reduced = limit_vocab(X_train_text_padded, max_token_id=1000)\n",
        "embeddings_model = build_embeddings_model(average_over_positions=True,\n",
        "                               vocab_size=1000,\n",
        "                               sequence_length=300,\n",
        "                               embedding_dim=2)\n",
        "history = embeddings_model.fit(\n",
        "  x = X_train_text_reduced,  # our sparse padded training data\n",
        "  y = y_train_text,          # corresponding binary labels\n",
        "  epochs=5,             # number of passes through the training data\n",
        "  batch_size=64,        # mini-batch size\n",
        "  validation_split=0.1, # use a fraction of the examples for validation\n",
        "  verbose=1             # display some progress output during training\n",
        "  )\n",
        "\n",
        "history = pd.DataFrame(history.history)\n",
        "plot_history(history)"
      ],
      "metadata": {
        "colab": {
          "base_uri": "https://localhost:8080/",
          "height": 639
        },
        "id": "GSLyUWQN9Ibf",
        "outputId": "545ed244-3f45-414a-9662-cb06a960866f"
      },
      "execution_count": 90,
      "outputs": [
        {
          "output_type": "stream",
          "name": "stdout",
          "text": [
            "Epoch 1/5\n",
            "52/52 [==============================] - 2s 11ms/step - loss: 0.6897 - accuracy: 0.5639 - val_loss: 0.6744 - val_accuracy: 0.7720\n",
            "Epoch 2/5\n",
            "52/52 [==============================] - 0s 7ms/step - loss: 0.6635 - accuracy: 0.7543 - val_loss: 0.6477 - val_accuracy: 0.7720\n",
            "Epoch 3/5\n",
            "52/52 [==============================] - 0s 7ms/step - loss: 0.6390 - accuracy: 0.7543 - val_loss: 0.6212 - val_accuracy: 0.7720\n",
            "Epoch 4/5\n",
            "52/52 [==============================] - 0s 6ms/step - loss: 0.6163 - accuracy: 0.7543 - val_loss: 0.5980 - val_accuracy: 0.7720\n",
            "Epoch 5/5\n",
            "52/52 [==============================] - 0s 4ms/step - loss: 0.5965 - accuracy: 0.7543 - val_loss: 0.5774 - val_accuracy: 0.7720\n"
          ]
        },
        {
          "output_type": "display_data",
          "data": {
            "text/plain": [
              "<Figure size 640x480 with 1 Axes>"
            ],
            "image/png": "[encoded data removed]"
          },
          "metadata": {}
        }
      ]
    },
    {
      "cell_type": "code",
      "source": [
        "print(\"Train Acc:\", 0.7543)\n",
        "print(\"Validation Acc:\", 0.7720)"
      ],
      "metadata": {
        "id": "qri73NtoRJMg",
        "outputId": "42f6d42e-a21e-4daa-b63e-7866960abb3d",
        "colab": {
          "base_uri": "https://localhost:8080/"
        }
      },
      "execution_count": 91,
      "outputs": [
        {
          "output_type": "stream",
          "name": "stdout",
          "text": [
            "Train Acc: 0.7543\n",
            "Validation Acc: 0.772\n"
          ]
        }
      ]
    }
  ],
  "metadata": {
    "colab": {
      "provenance": []
    },
    "kernelspec": {
      "display_name": "Python 3",
      "name": "python3"
    },
    "language_info": {
      "name": "python"
    }
  },
  "nbformat": 4,
  "nbformat_minor": 0
}