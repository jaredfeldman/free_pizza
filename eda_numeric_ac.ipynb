{
 "cells": [
  {
   "cell_type": "markdown",
   "id": "b9b9db15-b2de-495c-a81c-4725f3220c41",
   "metadata": {},
   "source": [
    "# EDA - Numeric Fields\n",
    "\n",
    "Initial comparison between successful request and unsuccessful requests"
   ]
  },
  {
   "cell_type": "code",
   "execution_count": 1,
   "id": "de58cad4-5c3a-4b8c-a6d0-1c23e08f2af3",
   "metadata": {},
   "outputs": [],
   "source": [
    "#package imports\n",
    "\n",
    "import pandas as pd\n",
    "import numpy as np\n",
    "import matplotlib.pyplot as plt\n",
    "import seaborn as sns\n",
    "import datetime"
   ]
  },
  {
   "cell_type": "code",
   "execution_count": 2,
   "id": "85be1484-0b59-4832-a438-ae137fbc7e4f",
   "metadata": {},
   "outputs": [],
   "source": [
    "# Load data\n",
    "training_data = pd.read_json(\"train.json\")\n",
    "test_data = pd.read_json(\"test.json\")"
   ]
  },
  {
   "cell_type": "code",
   "execution_count": 3,
   "id": "ec4df01c",
   "metadata": {},
   "outputs": [
    {
     "data": {
      "text/plain": [
       "Index(['giver_username_if_known', 'request_id', 'request_text_edit_aware',\n",
       "       'request_title', 'requester_account_age_in_days_at_request',\n",
       "       'requester_days_since_first_post_on_raop_at_request',\n",
       "       'requester_number_of_comments_at_request',\n",
       "       'requester_number_of_comments_in_raop_at_request',\n",
       "       'requester_number_of_posts_at_request',\n",
       "       'requester_number_of_posts_on_raop_at_request',\n",
       "       'requester_number_of_subreddits_at_request',\n",
       "       'requester_subreddits_at_request',\n",
       "       'requester_upvotes_minus_downvotes_at_request',\n",
       "       'requester_upvotes_plus_downvotes_at_request', 'requester_username',\n",
       "       'unix_timestamp_of_request', 'unix_timestamp_of_request_utc'],\n",
       "      dtype='object')"
      ]
     },
     "execution_count": 3,
     "metadata": {},
     "output_type": "execute_result"
    }
   ],
   "source": [
    "# Look at fields used in the test data\n",
    "test_data.columns"
   ]
  },
  {
   "cell_type": "code",
   "execution_count": 4,
   "id": "56d5ec87-84d4-4a71-bbfe-84a4b70f17e5",
   "metadata": {},
   "outputs": [
    {
     "data": {
      "text/plain": [
       "Index(['giver_username_if_known',\n",
       "       'number_of_downvotes_of_request_at_retrieval',\n",
       "       'number_of_upvotes_of_request_at_retrieval', 'post_was_edited',\n",
       "       'request_id', 'request_number_of_comments_at_retrieval', 'request_text',\n",
       "       'request_text_edit_aware', 'request_title',\n",
       "       'requester_account_age_in_days_at_request',\n",
       "       'requester_account_age_in_days_at_retrieval',\n",
       "       'requester_days_since_first_post_on_raop_at_request',\n",
       "       'requester_days_since_first_post_on_raop_at_retrieval',\n",
       "       'requester_number_of_comments_at_request',\n",
       "       'requester_number_of_comments_at_retrieval',\n",
       "       'requester_number_of_comments_in_raop_at_request',\n",
       "       'requester_number_of_comments_in_raop_at_retrieval',\n",
       "       'requester_number_of_posts_at_request',\n",
       "       'requester_number_of_posts_at_retrieval',\n",
       "       'requester_number_of_posts_on_raop_at_request',\n",
       "       'requester_number_of_posts_on_raop_at_retrieval',\n",
       "       'requester_number_of_subreddits_at_request', 'requester_received_pizza',\n",
       "       'requester_subreddits_at_request',\n",
       "       'requester_upvotes_minus_downvotes_at_request',\n",
       "       'requester_upvotes_minus_downvotes_at_retrieval',\n",
       "       'requester_upvotes_plus_downvotes_at_request',\n",
       "       'requester_upvotes_plus_downvotes_at_retrieval', 'requester_user_flair',\n",
       "       'requester_username', 'unix_timestamp_of_request',\n",
       "       'unix_timestamp_of_request_utc'],\n",
       "      dtype='object')"
      ]
     },
     "execution_count": 4,
     "metadata": {},
     "output_type": "execute_result"
    }
   ],
   "source": [
    "# Look at the fields available in the training data\n",
    "training_data.columns"
   ]
  },
  {
   "cell_type": "code",
   "execution_count": 5,
   "id": "6500fce0",
   "metadata": {},
   "outputs": [],
   "source": [
    "# Store the columns that are usable for the predictions\n",
    "features = list(test_data.columns)"
   ]
  },
  {
   "cell_type": "markdown",
   "id": "a71d1937",
   "metadata": {},
   "source": [
    "## Baseline Info"
   ]
  },
  {
   "cell_type": "code",
   "execution_count": 6,
   "id": "b1d7384e",
   "metadata": {},
   "outputs": [
    {
     "name": "stdout",
     "output_type": "stream",
     "text": [
      "Number of answered requests: 994\n",
      "Total requests: 4040\n",
      "Baseline success rate: 0.2460\n"
     ]
    }
   ],
   "source": [
    "# Baseline - how many users receive a pizza\n",
    "# If received pizza, requester_received_pizza == True\n",
    "print(\"Number of answered requests:\", np.sum(training_data[\"requester_received_pizza\"]))\n",
    "print(\"Total requests:\", len(training_data))\n",
    "\n",
    "print(f'Baseline success rate: {np.mean(training_data[\"requester_received_pizza\"]):.4f}')"
   ]
  },
  {
   "cell_type": "markdown",
   "id": "707791cb",
   "metadata": {},
   "source": [
    "## Check for nulls"
   ]
  },
  {
   "cell_type": "code",
   "execution_count": 7,
   "id": "2ec3a766",
   "metadata": {},
   "outputs": [
    {
     "name": "stdout",
     "output_type": "stream",
     "text": [
      "giver_username_if_known                                    0\n",
      "number_of_downvotes_of_request_at_retrieval                0\n",
      "number_of_upvotes_of_request_at_retrieval                  0\n",
      "post_was_edited                                            0\n",
      "request_id                                                 0\n",
      "request_number_of_comments_at_retrieval                    0\n",
      "request_text                                               0\n",
      "request_text_edit_aware                                    0\n",
      "request_title                                              0\n",
      "requester_account_age_in_days_at_request                   0\n",
      "requester_account_age_in_days_at_retrieval                 0\n",
      "requester_days_since_first_post_on_raop_at_request         0\n",
      "requester_days_since_first_post_on_raop_at_retrieval       0\n",
      "requester_number_of_comments_at_request                    0\n",
      "requester_number_of_comments_at_retrieval                  0\n",
      "requester_number_of_comments_in_raop_at_request            0\n",
      "requester_number_of_comments_in_raop_at_retrieval          0\n",
      "requester_number_of_posts_at_request                       0\n",
      "requester_number_of_posts_at_retrieval                     0\n",
      "requester_number_of_posts_on_raop_at_request               0\n",
      "requester_number_of_posts_on_raop_at_retrieval             0\n",
      "requester_number_of_subreddits_at_request                  0\n",
      "requester_received_pizza                                   0\n",
      "requester_subreddits_at_request                            0\n",
      "requester_upvotes_minus_downvotes_at_request               0\n",
      "requester_upvotes_minus_downvotes_at_retrieval             0\n",
      "requester_upvotes_plus_downvotes_at_request                0\n",
      "requester_upvotes_plus_downvotes_at_retrieval              0\n",
      "requester_user_flair                                    3046\n",
      "requester_username                                         0\n",
      "unix_timestamp_of_request                                  0\n",
      "unix_timestamp_of_request_utc                              0\n",
      "dtype: int64\n"
     ]
    }
   ],
   "source": [
    "print(training_data.isnull().sum())"
   ]
  },
  {
   "cell_type": "code",
   "execution_count": 8,
   "id": "09753749",
   "metadata": {},
   "outputs": [
    {
     "name": "stdout",
     "output_type": "stream",
     "text": [
      "giver_username_if_known                               0\n",
      "request_id                                            0\n",
      "request_text_edit_aware                               0\n",
      "request_title                                         0\n",
      "requester_account_age_in_days_at_request              0\n",
      "requester_days_since_first_post_on_raop_at_request    0\n",
      "requester_number_of_comments_at_request               0\n",
      "requester_number_of_comments_in_raop_at_request       0\n",
      "requester_number_of_posts_at_request                  0\n",
      "requester_number_of_posts_on_raop_at_request          0\n",
      "requester_number_of_subreddits_at_request             0\n",
      "requester_subreddits_at_request                       0\n",
      "requester_upvotes_minus_downvotes_at_request          0\n",
      "requester_upvotes_plus_downvotes_at_request           0\n",
      "requester_username                                    0\n",
      "unix_timestamp_of_request                             0\n",
      "unix_timestamp_of_request_utc                         0\n",
      "dtype: int64\n"
     ]
    }
   ],
   "source": [
    "print(test_data.isnull().sum())"
   ]
  },
  {
   "cell_type": "code",
   "execution_count": 9,
   "id": "8f20ed6f",
   "metadata": {},
   "outputs": [
    {
     "data": {
      "text/plain": [
       "giver_username_if_known                                object\n",
       "request_id                                             object\n",
       "request_text_edit_aware                                object\n",
       "request_title                                          object\n",
       "requester_account_age_in_days_at_request              float64\n",
       "requester_days_since_first_post_on_raop_at_request    float64\n",
       "requester_number_of_comments_at_request                 int64\n",
       "requester_number_of_comments_in_raop_at_request         int64\n",
       "requester_number_of_posts_at_request                    int64\n",
       "requester_number_of_posts_on_raop_at_request            int64\n",
       "requester_number_of_subreddits_at_request               int64\n",
       "requester_subreddits_at_request                        object\n",
       "requester_upvotes_minus_downvotes_at_request            int64\n",
       "requester_upvotes_plus_downvotes_at_request             int64\n",
       "requester_username                                     object\n",
       "unix_timestamp_of_request                               int64\n",
       "unix_timestamp_of_request_utc                           int64\n",
       "dtype: object"
      ]
     },
     "execution_count": 9,
     "metadata": {},
     "output_type": "execute_result"
    }
   ],
   "source": [
    "test_data.dtypes"
   ]
  },
  {
   "cell_type": "markdown",
   "id": "dfd4d4fc",
   "metadata": {},
   "source": [
    "## Create EDA df that includes labels"
   ]
  },
  {
   "cell_type": "code",
   "execution_count": 10,
   "id": "aa6aa5d5",
   "metadata": {},
   "outputs": [],
   "source": [
    "# Create list of features that includes success/fail\n",
    "eda_features = features.copy()\n",
    "eda_features.append('requester_received_pizza')\n",
    "\n",
    "# Create training df\n",
    "eda_training =  training_data[training_data.columns[training_data.columns.isin(eda_features)]]\n",
    "eda_training.shape\n",
    "\n",
    "# Create list of numeric col\n",
    "numeric_col = [col for col in eda_training if eda_training[col].dtype != 'object']\n",
    "\n",
    "# Split into success/fail\n",
    "pizza_eda = eda_training[eda_training['requester_received_pizza'] == True]\n",
    "no_pizza_eda = eda_training[eda_training['requester_received_pizza'] == False]"
   ]
  },
  {
   "cell_type": "code",
   "execution_count": 11,
   "id": "8ecd2335",
   "metadata": {},
   "outputs": [],
   "source": [
    "# Find time and day of week\n",
    "def split_day_hour(df):\n",
    "    weekday = []\n",
    "    req_hour = []\n",
    "\n",
    "    for i in df['unix_timestamp_of_request']:\n",
    "        dt = datetime.datetime.fromtimestamp(i)\n",
    "        weekday.append(dt.date().weekday())\n",
    "        req_hour.append(dt.time().hour)\n",
    "    \n",
    "    return weekday, req_hour"
   ]
  },
  {
   "cell_type": "code",
   "execution_count": 12,
   "id": "ee25e30d",
   "metadata": {},
   "outputs": [
    {
     "name": "stderr",
     "output_type": "stream",
     "text": [
      "/var/folders/b1/zqzn387j6zd37gnn4xj6ym200000gn/T/ipykernel_91086/1155915704.py:4: SettingWithCopyWarning: \n",
      "A value is trying to be set on a copy of a slice from a DataFrame.\n",
      "Try using .loc[row_indexer,col_indexer] = value instead\n",
      "\n",
      "See the caveats in the documentation: https://pandas.pydata.org/pandas-docs/stable/user_guide/indexing.html#returning-a-view-versus-a-copy\n",
      "  pizza_eda['weekday'] = p_day\n",
      "/var/folders/b1/zqzn387j6zd37gnn4xj6ym200000gn/T/ipykernel_91086/1155915704.py:5: SettingWithCopyWarning: \n",
      "A value is trying to be set on a copy of a slice from a DataFrame.\n",
      "Try using .loc[row_indexer,col_indexer] = value instead\n",
      "\n",
      "See the caveats in the documentation: https://pandas.pydata.org/pandas-docs/stable/user_guide/indexing.html#returning-a-view-versus-a-copy\n",
      "  pizza_eda['req_hour'] = p_hour\n",
      "/var/folders/b1/zqzn387j6zd37gnn4xj6ym200000gn/T/ipykernel_91086/1155915704.py:6: SettingWithCopyWarning: \n",
      "A value is trying to be set on a copy of a slice from a DataFrame.\n",
      "Try using .loc[row_indexer,col_indexer] = value instead\n",
      "\n",
      "See the caveats in the documentation: https://pandas.pydata.org/pandas-docs/stable/user_guide/indexing.html#returning-a-view-versus-a-copy\n",
      "  no_pizza_eda['weekday'] = n_day\n",
      "/var/folders/b1/zqzn387j6zd37gnn4xj6ym200000gn/T/ipykernel_91086/1155915704.py:7: SettingWithCopyWarning: \n",
      "A value is trying to be set on a copy of a slice from a DataFrame.\n",
      "Try using .loc[row_indexer,col_indexer] = value instead\n",
      "\n",
      "See the caveats in the documentation: https://pandas.pydata.org/pandas-docs/stable/user_guide/indexing.html#returning-a-view-versus-a-copy\n",
      "  no_pizza_eda['req_hour'] = n_hour\n"
     ]
    }
   ],
   "source": [
    "p_day, p_hour = split_day_hour(pizza_eda)\n",
    "n_day, n_hour = split_day_hour(no_pizza_eda)\n",
    "\n",
    "pizza_eda['weekday'] = p_day\n",
    "pizza_eda['req_hour'] = p_hour\n",
    "no_pizza_eda['weekday'] = n_day\n",
    "no_pizza_eda['req_hour'] = n_hour"
   ]
  },
  {
   "cell_type": "code",
   "execution_count": 13,
   "id": "7443cf9f",
   "metadata": {},
   "outputs": [
    {
     "name": "stdout",
     "output_type": "stream",
     "text": [
      "['requester_account_age_in_days_at_request', 'requester_days_since_first_post_on_raop_at_request', 'requester_number_of_comments_at_request', 'requester_number_of_comments_in_raop_at_request', 'requester_number_of_posts_at_request', 'requester_number_of_posts_on_raop_at_request', 'requester_number_of_subreddits_at_request', 'requester_received_pizza', 'requester_upvotes_minus_downvotes_at_request', 'requester_upvotes_plus_downvotes_at_request', 'unix_timestamp_of_request', 'unix_timestamp_of_request_utc']\n"
     ]
    }
   ],
   "source": [
    "print(numeric_col)"
   ]
  },
  {
   "cell_type": "code",
   "execution_count": 14,
   "id": "4462d128",
   "metadata": {},
   "outputs": [
    {
     "data": {
      "text/plain": [
       "count     994.000000\n",
       "mean      276.766844\n",
       "std       312.791210\n",
       "min         0.000000\n",
       "25%        39.110437\n",
       "50%       179.528218\n",
       "75%       396.927688\n",
       "max      2124.362650\n",
       "Name: requester_account_age_in_days_at_request, dtype: float64"
      ]
     },
     "execution_count": 14,
     "metadata": {},
     "output_type": "execute_result"
    }
   ],
   "source": [
    "# Check account age distribution\n",
    "pizza_eda['requester_account_age_in_days_at_request'].describe()"
   ]
  },
  {
   "cell_type": "code",
   "execution_count": 15,
   "id": "f965f60a",
   "metadata": {},
   "outputs": [
    {
     "name": "stderr",
     "output_type": "stream",
     "text": [
      "/var/folders/b1/zqzn387j6zd37gnn4xj6ym200000gn/T/ipykernel_91086/2033242333.py:2: FutureWarning: The default value of numeric_only in DataFrame.mean is deprecated. In a future version, it will default to False. In addition, specifying 'numeric_only=None' is deprecated. Select only valid columns or specify the value of numeric_only to silence this warning.\n",
      "  norm_pizza_eda = (pizza_eda - pizza_eda.mean())/pizza_eda.std()\n",
      "/var/folders/b1/zqzn387j6zd37gnn4xj6ym200000gn/T/ipykernel_91086/2033242333.py:2: FutureWarning: The default value of numeric_only in DataFrame.std is deprecated. In a future version, it will default to False. In addition, specifying 'numeric_only=None' is deprecated. Select only valid columns or specify the value of numeric_only to silence this warning.\n",
      "  norm_pizza_eda = (pizza_eda - pizza_eda.mean())/pizza_eda.std()\n",
      "/var/folders/b1/zqzn387j6zd37gnn4xj6ym200000gn/T/ipykernel_91086/2033242333.py:3: FutureWarning: The default value of numeric_only in DataFrame.mean is deprecated. In a future version, it will default to False. In addition, specifying 'numeric_only=None' is deprecated. Select only valid columns or specify the value of numeric_only to silence this warning.\n",
      "  norm_no_pizza_eda = (no_pizza_eda - no_pizza_eda.mean())/no_pizza_eda.std()\n",
      "/var/folders/b1/zqzn387j6zd37gnn4xj6ym200000gn/T/ipykernel_91086/2033242333.py:3: FutureWarning: The default value of numeric_only in DataFrame.std is deprecated. In a future version, it will default to False. In addition, specifying 'numeric_only=None' is deprecated. Select only valid columns or specify the value of numeric_only to silence this warning.\n",
      "  norm_no_pizza_eda = (no_pizza_eda - no_pizza_eda.mean())/no_pizza_eda.std()\n"
     ]
    }
   ],
   "source": [
    "# Create normalized dataframes\n",
    "norm_pizza_eda = (pizza_eda - pizza_eda.mean())/pizza_eda.std()\n",
    "norm_no_pizza_eda = (no_pizza_eda - no_pizza_eda.mean())/no_pizza_eda.std()\n"
   ]
  },
  {
   "cell_type": "markdown",
   "id": "c29d7b9c",
   "metadata": {},
   "source": [
    "## Histograms comparing success/fail requests by numeric fields"
   ]
  },
  {
   "cell_type": "code",
   "execution_count": 16,
   "id": "fd37bad9",
   "metadata": {},
   "outputs": [],
   "source": [
    "def plot_hist(col, \n",
    "              values_label, \n",
    "              title_label, \n",
    "              df1= pizza_eda, \n",
    "              df2= no_pizza_eda,\n",
    "              bins = 5,\n",
    "              range = None,\n",
    "              histtype = 'bar',\n",
    "              align = 'left',\n",
    "              log = False\n",
    "              ):\n",
    "    '''Plot histogram for the numeric fields\n",
    "    \n",
    "    Arguments: \n",
    "        column of interest,\n",
    "        column name/label for x-axis,\n",
    "        title name,\n",
    "        dataframes to compare,\n",
    "        histogram arguments for customization - refer to plt documentation\n",
    "        \n",
    "    Returns: plot\n",
    "    '''\n",
    "    \n",
    "    plt.hist([df1[col], df2[col]],\n",
    "         label=['Pizza', 'No Pizza'],\n",
    "         bins = bins,\n",
    "         range = range,\n",
    "         histtype = histtype,\n",
    "         align = align)\n",
    "    plt.xlabel(values_label)\n",
    "    plt.ylabel('Count')\n",
    "    plt.title(title_label)\n",
    "    plt.legend()\n",
    "    plt.show()"
   ]
  },
  {
   "cell_type": "code",
   "execution_count": 17,
   "id": "ef2d8960",
   "metadata": {},
   "outputs": [
    {
     "data": {
      "image/png": "[encoded data removed]",
      "text/plain": [
       "<Figure size 640x480 with 1 Axes>"
      ]
     },
     "metadata": {},
     "output_type": "display_data"
    }
   ],
   "source": [
    "plot_hist(col='requester_number_of_comments_at_request', \n",
    "         title_label='Histogram of Requester Comments at Request',\n",
    "         values_label = 'Number of Comments',\n",
    "         bins = 5,\n",
    "         range = [0, 600],\n",
    "         histtype = 'stepfilled',\n",
    "         align = 'right',\n",
    "         log = True)"
   ]
  },
  {
   "cell_type": "code",
   "execution_count": 18,
   "id": "be1dbb9d",
   "metadata": {
    "scrolled": true
   },
   "outputs": [
    {
     "data": {
      "image/png": "[encoded data removed]",
      "text/plain": [
       "<Figure size 640x480 with 1 Axes>"
      ]
     },
     "metadata": {},
     "output_type": "display_data"
    }
   ],
   "source": [
    "plot_hist(col='requester_account_age_in_days_at_request', \n",
    "          values_label = 'Account Age (Days)',\n",
    "          title_label='Histogram of Requester Account Age at Request',\n",
    "         bins = 20,\n",
    "         range = [0, 1000],\n",
    "         histtype = 'stepfilled',\n",
    "         align = 'mid',\n",
    "         log = True)"
   ]
  },
  {
   "cell_type": "code",
   "execution_count": 19,
   "id": "dc40e518",
   "metadata": {},
   "outputs": [
    {
     "data": {
      "image/png": "[encoded data removed]",
      "text/plain": [
       "<Figure size 640x480 with 1 Axes>"
      ]
     },
     "metadata": {},
     "output_type": "display_data"
    }
   ],
   "source": [
    "plot_hist(col='requester_number_of_comments_in_raop_at_request', \n",
    "          values_label = 'Requester Comments in RAOP',\n",
    "          title_label='Histogram of Requester Comments in RAOP',\n",
    "        bins = 10,\n",
    "        range = [0, 10],\n",
    "        histtype = 'stepfilled',\n",
    "        align = 'mid')"
   ]
  },
  {
   "cell_type": "code",
   "execution_count": 20,
   "id": "6c80903d",
   "metadata": {},
   "outputs": [
    {
     "data": {
      "image/png": "[encoded data removed]",
      "text/plain": [
       "<Figure size 640x480 with 1 Axes>"
      ]
     },
     "metadata": {},
     "output_type": "display_data"
    }
   ],
   "source": [
    "plot_hist(col='requester_number_of_posts_on_raop_at_request', \n",
    "        values_label = 'Requester Number of Posts in RAOP',\n",
    "        title_label='Histogram of Requester Posts in RAOP',\n",
    "        bins = 5,\n",
    "        range = [0, 5],\n",
    "        histtype = 'stepfilled',\n",
    "        align = 'mid')"
   ]
  },
  {
   "cell_type": "code",
   "execution_count": 21,
   "id": "317747d6",
   "metadata": {},
   "outputs": [
    {
     "data": {
      "image/png": "[encoded data removed]",
      "text/plain": [
       "<Figure size 640x480 with 1 Axes>"
      ]
     },
     "metadata": {},
     "output_type": "display_data"
    }
   ],
   "source": [
    "plot_hist(col='requester_upvotes_plus_downvotes_at_request', \n",
    "          values_label = 'Upvotes + Downvotes',\n",
    "          title_label='Distribution of Requester Upvotes + Downvotes at Request',\n",
    "        bins = 10,\n",
    "        range = [0, 200],\n",
    "        histtype = 'stepfilled',\n",
    "        align = 'mid')"
   ]
  },
  {
   "cell_type": "code",
   "execution_count": 29,
   "id": "7a4ab00f",
   "metadata": {},
   "outputs": [
    {
     "data": {
      "image/png": "[encoded data removed]",
      "text/plain": [
       "<Figure size 640x480 with 1 Axes>"
      ]
     },
     "metadata": {},
     "output_type": "display_data"
    }
   ],
   "source": [
    "plot_hist(col='weekday', \n",
    "          values_label = 'day of the week',\n",
    "          title_label='weekday',\n",
    "        bins = 7,\n",
    "        range = [0, 6],\n",
    "        histtype = 'stepfilled',\n",
    "        align = 'mid')"
   ]
  },
  {
   "cell_type": "code",
   "execution_count": 31,
   "id": "2b7692c4",
   "metadata": {},
   "outputs": [
    {
     "data": {
      "image/png": "[encoded data removed]",
      "text/plain": [
       "<Figure size 640x480 with 1 Axes>"
      ]
     },
     "metadata": {},
     "output_type": "display_data"
    }
   ],
   "source": [
    "plot_hist(col='req_hour', \n",
    "          values_label = 'request time (hour)',\n",
    "          title_label='hour of request',\n",
    "        bins = 24,\n",
    "        range = [0, 23],\n",
    "        histtype = 'stepfilled',\n",
    "        align = 'mid')"
   ]
  },
  {
   "cell_type": "markdown",
   "id": "e31f1bda",
   "metadata": {},
   "source": [
    "## Check numeric field correlation"
   ]
  },
  {
   "cell_type": "code",
   "execution_count": 22,
   "id": "bcb5369a",
   "metadata": {},
   "outputs": [
    {
     "data": {
      "text/html": [
       "<div>\n",
       "<style scoped>\n",
       "    .dataframe tbody tr th:only-of-type {\n",
       "        vertical-align: middle;\n",
       "    }\n",
       "\n",
       "    .dataframe tbody tr th {\n",
       "        vertical-align: top;\n",
       "    }\n",
       "\n",
       "    .dataframe thead th {\n",
       "        text-align: right;\n",
       "    }\n",
       "</style>\n",
       "<table border=\"1\" class=\"dataframe\">\n",
       "  <thead>\n",
       "    <tr style=\"text-align: right;\">\n",
       "      <th></th>\n",
       "      <th>requester_account_age_in_days_at_request</th>\n",
       "      <th>requester_days_since_first_post_on_raop_at_request</th>\n",
       "      <th>requester_number_of_comments_at_request</th>\n",
       "      <th>requester_number_of_comments_in_raop_at_request</th>\n",
       "      <th>requester_number_of_posts_at_request</th>\n",
       "      <th>requester_number_of_posts_on_raop_at_request</th>\n",
       "      <th>requester_number_of_subreddits_at_request</th>\n",
       "      <th>requester_received_pizza</th>\n",
       "      <th>requester_upvotes_minus_downvotes_at_request</th>\n",
       "      <th>requester_upvotes_plus_downvotes_at_request</th>\n",
       "      <th>unix_timestamp_of_request</th>\n",
       "      <th>unix_timestamp_of_request_utc</th>\n",
       "    </tr>\n",
       "  </thead>\n",
       "  <tbody>\n",
       "    <tr>\n",
       "      <th>requester_account_age_in_days_at_request</th>\n",
       "      <td>1.000000</td>\n",
       "      <td>0.231437</td>\n",
       "      <td>0.488341</td>\n",
       "      <td>0.054243</td>\n",
       "      <td>0.411907</td>\n",
       "      <td>0.033078</td>\n",
       "      <td>0.588118</td>\n",
       "      <td>0.041784</td>\n",
       "      <td>0.271963</td>\n",
       "      <td>0.115681</td>\n",
       "      <td>0.330437</td>\n",
       "      <td>0.330431</td>\n",
       "    </tr>\n",
       "    <tr>\n",
       "      <th>requester_days_since_first_post_on_raop_at_request</th>\n",
       "      <td>0.231437</td>\n",
       "      <td>1.000000</td>\n",
       "      <td>0.204728</td>\n",
       "      <td>0.354446</td>\n",
       "      <td>0.099312</td>\n",
       "      <td>0.292962</td>\n",
       "      <td>0.193807</td>\n",
       "      <td>0.098225</td>\n",
       "      <td>0.112943</td>\n",
       "      <td>0.078312</td>\n",
       "      <td>0.172005</td>\n",
       "      <td>0.172002</td>\n",
       "    </tr>\n",
       "    <tr>\n",
       "      <th>requester_number_of_comments_at_request</th>\n",
       "      <td>0.488341</td>\n",
       "      <td>0.204728</td>\n",
       "      <td>1.000000</td>\n",
       "      <td>0.122674</td>\n",
       "      <td>0.390735</td>\n",
       "      <td>0.068309</td>\n",
       "      <td>0.755857</td>\n",
       "      <td>0.033779</td>\n",
       "      <td>0.400108</td>\n",
       "      <td>0.162262</td>\n",
       "      <td>0.305059</td>\n",
       "      <td>0.305054</td>\n",
       "    </tr>\n",
       "    <tr>\n",
       "      <th>requester_number_of_comments_in_raop_at_request</th>\n",
       "      <td>0.054243</td>\n",
       "      <td>0.354446</td>\n",
       "      <td>0.122674</td>\n",
       "      <td>1.000000</td>\n",
       "      <td>0.019334</td>\n",
       "      <td>0.487150</td>\n",
       "      <td>0.082610</td>\n",
       "      <td>0.131296</td>\n",
       "      <td>0.129595</td>\n",
       "      <td>0.131645</td>\n",
       "      <td>0.048248</td>\n",
       "      <td>0.048248</td>\n",
       "    </tr>\n",
       "    <tr>\n",
       "      <th>requester_number_of_posts_at_request</th>\n",
       "      <td>0.411907</td>\n",
       "      <td>0.099312</td>\n",
       "      <td>0.390735</td>\n",
       "      <td>0.019334</td>\n",
       "      <td>1.000000</td>\n",
       "      <td>0.046357</td>\n",
       "      <td>0.598358</td>\n",
       "      <td>0.020612</td>\n",
       "      <td>0.545885</td>\n",
       "      <td>0.359416</td>\n",
       "      <td>0.135283</td>\n",
       "      <td>0.135281</td>\n",
       "    </tr>\n",
       "    <tr>\n",
       "      <th>requester_number_of_posts_on_raop_at_request</th>\n",
       "      <td>0.033078</td>\n",
       "      <td>0.292962</td>\n",
       "      <td>0.068309</td>\n",
       "      <td>0.487150</td>\n",
       "      <td>0.046357</td>\n",
       "      <td>1.000000</td>\n",
       "      <td>0.053959</td>\n",
       "      <td>0.137208</td>\n",
       "      <td>0.122886</td>\n",
       "      <td>0.130172</td>\n",
       "      <td>0.097666</td>\n",
       "      <td>0.097660</td>\n",
       "    </tr>\n",
       "    <tr>\n",
       "      <th>requester_number_of_subreddits_at_request</th>\n",
       "      <td>0.588118</td>\n",
       "      <td>0.193807</td>\n",
       "      <td>0.755857</td>\n",
       "      <td>0.082610</td>\n",
       "      <td>0.598358</td>\n",
       "      <td>0.053959</td>\n",
       "      <td>1.000000</td>\n",
       "      <td>0.037647</td>\n",
       "      <td>0.411542</td>\n",
       "      <td>0.184077</td>\n",
       "      <td>0.334743</td>\n",
       "      <td>0.334740</td>\n",
       "    </tr>\n",
       "    <tr>\n",
       "      <th>requester_received_pizza</th>\n",
       "      <td>0.041784</td>\n",
       "      <td>0.098225</td>\n",
       "      <td>0.033779</td>\n",
       "      <td>0.131296</td>\n",
       "      <td>0.020612</td>\n",
       "      <td>0.137208</td>\n",
       "      <td>0.037647</td>\n",
       "      <td>1.000000</td>\n",
       "      <td>0.032571</td>\n",
       "      <td>0.026102</td>\n",
       "      <td>-0.103348</td>\n",
       "      <td>-0.103346</td>\n",
       "    </tr>\n",
       "    <tr>\n",
       "      <th>requester_upvotes_minus_downvotes_at_request</th>\n",
       "      <td>0.271963</td>\n",
       "      <td>0.112943</td>\n",
       "      <td>0.400108</td>\n",
       "      <td>0.129595</td>\n",
       "      <td>0.545885</td>\n",
       "      <td>0.122886</td>\n",
       "      <td>0.411542</td>\n",
       "      <td>0.032571</td>\n",
       "      <td>1.000000</td>\n",
       "      <td>0.916014</td>\n",
       "      <td>0.177113</td>\n",
       "      <td>0.177113</td>\n",
       "    </tr>\n",
       "    <tr>\n",
       "      <th>requester_upvotes_plus_downvotes_at_request</th>\n",
       "      <td>0.115681</td>\n",
       "      <td>0.078312</td>\n",
       "      <td>0.162262</td>\n",
       "      <td>0.131645</td>\n",
       "      <td>0.359416</td>\n",
       "      <td>0.130172</td>\n",
       "      <td>0.184077</td>\n",
       "      <td>0.026102</td>\n",
       "      <td>0.916014</td>\n",
       "      <td>1.000000</td>\n",
       "      <td>0.089730</td>\n",
       "      <td>0.089731</td>\n",
       "    </tr>\n",
       "    <tr>\n",
       "      <th>unix_timestamp_of_request</th>\n",
       "      <td>0.330437</td>\n",
       "      <td>0.172005</td>\n",
       "      <td>0.305059</td>\n",
       "      <td>0.048248</td>\n",
       "      <td>0.135283</td>\n",
       "      <td>0.097666</td>\n",
       "      <td>0.334743</td>\n",
       "      <td>-0.103348</td>\n",
       "      <td>0.177113</td>\n",
       "      <td>0.089730</td>\n",
       "      <td>1.000000</td>\n",
       "      <td>1.000000</td>\n",
       "    </tr>\n",
       "    <tr>\n",
       "      <th>unix_timestamp_of_request_utc</th>\n",
       "      <td>0.330431</td>\n",
       "      <td>0.172002</td>\n",
       "      <td>0.305054</td>\n",
       "      <td>0.048248</td>\n",
       "      <td>0.135281</td>\n",
       "      <td>0.097660</td>\n",
       "      <td>0.334740</td>\n",
       "      <td>-0.103346</td>\n",
       "      <td>0.177113</td>\n",
       "      <td>0.089731</td>\n",
       "      <td>1.000000</td>\n",
       "      <td>1.000000</td>\n",
       "    </tr>\n",
       "  </tbody>\n",
       "</table>\n",
       "</div>"
      ],
      "text/plain": [
       "                                                    requester_account_age_in_days_at_request  \\\n",
       "requester_account_age_in_days_at_request                                            1.000000   \n",
       "requester_days_since_first_post_on_raop_at_request                                  0.231437   \n",
       "requester_number_of_comments_at_request                                             0.488341   \n",
       "requester_number_of_comments_in_raop_at_request                                     0.054243   \n",
       "requester_number_of_posts_at_request                                                0.411907   \n",
       "requester_number_of_posts_on_raop_at_request                                        0.033078   \n",
       "requester_number_of_subreddits_at_request                                           0.588118   \n",
       "requester_received_pizza                                                            0.041784   \n",
       "requester_upvotes_minus_downvotes_at_request                                        0.271963   \n",
       "requester_upvotes_plus_downvotes_at_request                                         0.115681   \n",
       "unix_timestamp_of_request                                                           0.330437   \n",
       "unix_timestamp_of_request_utc                                                       0.330431   \n",
       "\n",
       "                                                    requester_days_since_first_post_on_raop_at_request  \\\n",
       "requester_account_age_in_days_at_request                                                     0.231437    \n",
       "requester_days_since_first_post_on_raop_at_request                                           1.000000    \n",
       "requester_number_of_comments_at_request                                                      0.204728    \n",
       "requester_number_of_comments_in_raop_at_request                                              0.354446    \n",
       "requester_number_of_posts_at_request                                                         0.099312    \n",
       "requester_number_of_posts_on_raop_at_request                                                 0.292962    \n",
       "requester_number_of_subreddits_at_request                                                    0.193807    \n",
       "requester_received_pizza                                                                     0.098225    \n",
       "requester_upvotes_minus_downvotes_at_request                                                 0.112943    \n",
       "requester_upvotes_plus_downvotes_at_request                                                  0.078312    \n",
       "unix_timestamp_of_request                                                                    0.172005    \n",
       "unix_timestamp_of_request_utc                                                                0.172002    \n",
       "\n",
       "                                                    requester_number_of_comments_at_request  \\\n",
       "requester_account_age_in_days_at_request                                           0.488341   \n",
       "requester_days_since_first_post_on_raop_at_request                                 0.204728   \n",
       "requester_number_of_comments_at_request                                            1.000000   \n",
       "requester_number_of_comments_in_raop_at_request                                    0.122674   \n",
       "requester_number_of_posts_at_request                                               0.390735   \n",
       "requester_number_of_posts_on_raop_at_request                                       0.068309   \n",
       "requester_number_of_subreddits_at_request                                          0.755857   \n",
       "requester_received_pizza                                                           0.033779   \n",
       "requester_upvotes_minus_downvotes_at_request                                       0.400108   \n",
       "requester_upvotes_plus_downvotes_at_request                                        0.162262   \n",
       "unix_timestamp_of_request                                                          0.305059   \n",
       "unix_timestamp_of_request_utc                                                      0.305054   \n",
       "\n",
       "                                                    requester_number_of_comments_in_raop_at_request  \\\n",
       "requester_account_age_in_days_at_request                                                   0.054243   \n",
       "requester_days_since_first_post_on_raop_at_request                                         0.354446   \n",
       "requester_number_of_comments_at_request                                                    0.122674   \n",
       "requester_number_of_comments_in_raop_at_request                                            1.000000   \n",
       "requester_number_of_posts_at_request                                                       0.019334   \n",
       "requester_number_of_posts_on_raop_at_request                                               0.487150   \n",
       "requester_number_of_subreddits_at_request                                                  0.082610   \n",
       "requester_received_pizza                                                                   0.131296   \n",
       "requester_upvotes_minus_downvotes_at_request                                               0.129595   \n",
       "requester_upvotes_plus_downvotes_at_request                                                0.131645   \n",
       "unix_timestamp_of_request                                                                  0.048248   \n",
       "unix_timestamp_of_request_utc                                                              0.048248   \n",
       "\n",
       "                                                    requester_number_of_posts_at_request  \\\n",
       "requester_account_age_in_days_at_request                                        0.411907   \n",
       "requester_days_since_first_post_on_raop_at_request                              0.099312   \n",
       "requester_number_of_comments_at_request                                         0.390735   \n",
       "requester_number_of_comments_in_raop_at_request                                 0.019334   \n",
       "requester_number_of_posts_at_request                                            1.000000   \n",
       "requester_number_of_posts_on_raop_at_request                                    0.046357   \n",
       "requester_number_of_subreddits_at_request                                       0.598358   \n",
       "requester_received_pizza                                                        0.020612   \n",
       "requester_upvotes_minus_downvotes_at_request                                    0.545885   \n",
       "requester_upvotes_plus_downvotes_at_request                                     0.359416   \n",
       "unix_timestamp_of_request                                                       0.135283   \n",
       "unix_timestamp_of_request_utc                                                   0.135281   \n",
       "\n",
       "                                                    requester_number_of_posts_on_raop_at_request  \\\n",
       "requester_account_age_in_days_at_request                                                0.033078   \n",
       "requester_days_since_first_post_on_raop_at_request                                      0.292962   \n",
       "requester_number_of_comments_at_request                                                 0.068309   \n",
       "requester_number_of_comments_in_raop_at_request                                         0.487150   \n",
       "requester_number_of_posts_at_request                                                    0.046357   \n",
       "requester_number_of_posts_on_raop_at_request                                            1.000000   \n",
       "requester_number_of_subreddits_at_request                                               0.053959   \n",
       "requester_received_pizza                                                                0.137208   \n",
       "requester_upvotes_minus_downvotes_at_request                                            0.122886   \n",
       "requester_upvotes_plus_downvotes_at_request                                             0.130172   \n",
       "unix_timestamp_of_request                                                               0.097666   \n",
       "unix_timestamp_of_request_utc                                                           0.097660   \n",
       "\n",
       "                                                    requester_number_of_subreddits_at_request  \\\n",
       "requester_account_age_in_days_at_request                                             0.588118   \n",
       "requester_days_since_first_post_on_raop_at_request                                   0.193807   \n",
       "requester_number_of_comments_at_request                                              0.755857   \n",
       "requester_number_of_comments_in_raop_at_request                                      0.082610   \n",
       "requester_number_of_posts_at_request                                                 0.598358   \n",
       "requester_number_of_posts_on_raop_at_request                                         0.053959   \n",
       "requester_number_of_subreddits_at_request                                            1.000000   \n",
       "requester_received_pizza                                                             0.037647   \n",
       "requester_upvotes_minus_downvotes_at_request                                         0.411542   \n",
       "requester_upvotes_plus_downvotes_at_request                                          0.184077   \n",
       "unix_timestamp_of_request                                                            0.334743   \n",
       "unix_timestamp_of_request_utc                                                        0.334740   \n",
       "\n",
       "                                                    requester_received_pizza  \\\n",
       "requester_account_age_in_days_at_request                            0.041784   \n",
       "requester_days_since_first_post_on_raop_at_request                  0.098225   \n",
       "requester_number_of_comments_at_request                             0.033779   \n",
       "requester_number_of_comments_in_raop_at_request                     0.131296   \n",
       "requester_number_of_posts_at_request                                0.020612   \n",
       "requester_number_of_posts_on_raop_at_request                        0.137208   \n",
       "requester_number_of_subreddits_at_request                           0.037647   \n",
       "requester_received_pizza                                            1.000000   \n",
       "requester_upvotes_minus_downvotes_at_request                        0.032571   \n",
       "requester_upvotes_plus_downvotes_at_request                         0.026102   \n",
       "unix_timestamp_of_request                                          -0.103348   \n",
       "unix_timestamp_of_request_utc                                      -0.103346   \n",
       "\n",
       "                                                    requester_upvotes_minus_downvotes_at_request  \\\n",
       "requester_account_age_in_days_at_request                                                0.271963   \n",
       "requester_days_since_first_post_on_raop_at_request                                      0.112943   \n",
       "requester_number_of_comments_at_request                                                 0.400108   \n",
       "requester_number_of_comments_in_raop_at_request                                         0.129595   \n",
       "requester_number_of_posts_at_request                                                    0.545885   \n",
       "requester_number_of_posts_on_raop_at_request                                            0.122886   \n",
       "requester_number_of_subreddits_at_request                                               0.411542   \n",
       "requester_received_pizza                                                                0.032571   \n",
       "requester_upvotes_minus_downvotes_at_request                                            1.000000   \n",
       "requester_upvotes_plus_downvotes_at_request                                             0.916014   \n",
       "unix_timestamp_of_request                                                               0.177113   \n",
       "unix_timestamp_of_request_utc                                                           0.177113   \n",
       "\n",
       "                                                    requester_upvotes_plus_downvotes_at_request  \\\n",
       "requester_account_age_in_days_at_request                                               0.115681   \n",
       "requester_days_since_first_post_on_raop_at_request                                     0.078312   \n",
       "requester_number_of_comments_at_request                                                0.162262   \n",
       "requester_number_of_comments_in_raop_at_request                                        0.131645   \n",
       "requester_number_of_posts_at_request                                                   0.359416   \n",
       "requester_number_of_posts_on_raop_at_request                                           0.130172   \n",
       "requester_number_of_subreddits_at_request                                              0.184077   \n",
       "requester_received_pizza                                                               0.026102   \n",
       "requester_upvotes_minus_downvotes_at_request                                           0.916014   \n",
       "requester_upvotes_plus_downvotes_at_request                                            1.000000   \n",
       "unix_timestamp_of_request                                                              0.089730   \n",
       "unix_timestamp_of_request_utc                                                          0.089731   \n",
       "\n",
       "                                                    unix_timestamp_of_request  \\\n",
       "requester_account_age_in_days_at_request                             0.330437   \n",
       "requester_days_since_first_post_on_raop_at_request                   0.172005   \n",
       "requester_number_of_comments_at_request                              0.305059   \n",
       "requester_number_of_comments_in_raop_at_request                      0.048248   \n",
       "requester_number_of_posts_at_request                                 0.135283   \n",
       "requester_number_of_posts_on_raop_at_request                         0.097666   \n",
       "requester_number_of_subreddits_at_request                            0.334743   \n",
       "requester_received_pizza                                            -0.103348   \n",
       "requester_upvotes_minus_downvotes_at_request                         0.177113   \n",
       "requester_upvotes_plus_downvotes_at_request                          0.089730   \n",
       "unix_timestamp_of_request                                            1.000000   \n",
       "unix_timestamp_of_request_utc                                        1.000000   \n",
       "\n",
       "                                                    unix_timestamp_of_request_utc  \n",
       "requester_account_age_in_days_at_request                                 0.330431  \n",
       "requester_days_since_first_post_on_raop_at_request                       0.172002  \n",
       "requester_number_of_comments_at_request                                  0.305054  \n",
       "requester_number_of_comments_in_raop_at_request                          0.048248  \n",
       "requester_number_of_posts_at_request                                     0.135281  \n",
       "requester_number_of_posts_on_raop_at_request                             0.097660  \n",
       "requester_number_of_subreddits_at_request                                0.334740  \n",
       "requester_received_pizza                                                -0.103346  \n",
       "requester_upvotes_minus_downvotes_at_request                             0.177113  \n",
       "requester_upvotes_plus_downvotes_at_request                              0.089731  \n",
       "unix_timestamp_of_request                                                1.000000  \n",
       "unix_timestamp_of_request_utc                                            1.000000  "
      ]
     },
     "execution_count": 22,
     "metadata": {},
     "output_type": "execute_result"
    }
   ],
   "source": [
    "corr_table = eda_training.corr(numeric_only = True)\n",
    "\n",
    "corr_table"
   ]
  },
  {
   "cell_type": "markdown",
   "id": "31789fbd",
   "metadata": {},
   "source": [
    "## Check means across numeric fields for differences"
   ]
  },
  {
   "cell_type": "code",
   "execution_count": 23,
   "id": "abe89422",
   "metadata": {},
   "outputs": [],
   "source": [
    "pizza_eda_num = pizza_eda[pizza_eda.columns[pizza_eda.columns.isin(numeric_col)]]\n",
    "no_pizza_eda_num = no_pizza_eda[no_pizza_eda.columns[no_pizza_eda.columns.isin(numeric_col)]]"
   ]
  },
  {
   "cell_type": "code",
   "execution_count": 24,
   "id": "5ef38b50",
   "metadata": {},
   "outputs": [
    {
     "name": "stdout",
     "output_type": "stream",
     "text": [
      "requester_account_age_in_days_at_request\n",
      "pizza mean: 276.76684350314855\n",
      "no pizza mean: 247.34850245692593\n",
      "difference: 29.418341046222622\n",
      "\n",
      "requester_days_since_first_post_on_raop_at_request\n",
      "pizza mean: 28.56375706787018\n",
      "no pizza mean: 12.453198521588726\n",
      "difference: 16.110558546281453\n",
      "\n",
      "requester_number_of_comments_at_request\n",
      "pizza mean: 126.52816901408451\n",
      "no pizza mean: 111.36835193696652\n",
      "difference: 15.159817077117992\n",
      "\n",
      "requester_number_of_comments_in_raop_at_request\n",
      "pizza mean: 1.4295774647887325\n",
      "no pizza mean: 0.3890347997373605\n",
      "difference: 1.040542665051372\n",
      "\n",
      "requester_number_of_posts_at_request\n",
      "pizza mean: 23.43762575452716\n",
      "no pizza mean: 21.002298095863427\n",
      "difference: 2.4353276586637342\n",
      "\n",
      "requester_number_of_posts_on_raop_at_request\n",
      "pizza mean: 0.14185110663983905\n",
      "no pizza mean: 0.03808273145108339\n",
      "difference: 0.10376837518875566\n",
      "\n",
      "requester_number_of_subreddits_at_request\n",
      "pizza mean: 19.509054325955734\n",
      "no pizza mean: 17.609323703217335\n",
      "difference: 1.8997306227383994\n",
      "\n",
      "requester_received_pizza\n",
      "pizza mean: 1.0\n",
      "no pizza mean: 0.0\n",
      "difference: 1.0\n",
      "\n",
      "requester_upvotes_minus_downvotes_at_request\n",
      "pizza mean: 1372.0603621730381\n",
      "no pizza mean: 1090.9044648719632\n",
      "difference: 281.1558973010749\n",
      "\n",
      "requester_upvotes_plus_downvotes_at_request\n",
      "pizza mean: 4923.7002012072435\n",
      "no pizza mean: 3358.015430072226\n",
      "difference: 1565.6847711350174\n",
      "\n",
      "unix_timestamp_of_request\n",
      "pizza mean: 1338608848.8380282\n",
      "no pizza mean: 1344206375.415627\n",
      "difference: -5597526.57759881\n",
      "\n",
      "unix_timestamp_of_request_utc\n",
      "pizza mean: 1338605904.3712273\n",
      "no pizza mean: 1344203161.8896914\n",
      "difference: -5597257.518464088\n",
      "\n"
     ]
    }
   ],
   "source": [
    "\n",
    "for col in numeric_col:\n",
    "    print(col)\n",
    "    print('pizza mean:', np.mean(pizza_eda_num[col]))\n",
    "    print('no pizza mean:', np.mean(no_pizza_eda_num[col]))\n",
    "    print('difference:', np.mean(pizza_eda_num[col]) - np.mean(no_pizza_eda_num[col]))\n",
    "    print()"
   ]
  },
  {
   "cell_type": "markdown",
   "id": "210be1ab",
   "metadata": {},
   "source": [
    "## Check account age to verify if rules are being followed\n",
    "\n",
    "RAOP rules state accounts must be older than 90 days old at time of request"
   ]
  },
  {
   "cell_type": "code",
   "execution_count": 25,
   "id": "d5f598f0",
   "metadata": {},
   "outputs": [
    {
     "data": {
      "text/plain": [
       "0.3501006036217304"
      ]
     },
     "execution_count": 25,
     "metadata": {},
     "output_type": "execute_result"
    }
   ],
   "source": [
    "# % of successful accounts less than 90 days old\n",
    "pizza_eda[\n",
    "    'requester_account_age_in_days_at_request'\n",
    "][\n",
    "    pizza_eda['requester_account_age_in_days_at_request'] < 90\n",
    "].count() / len(pizza_eda)"
   ]
  },
  {
   "cell_type": "code",
   "execution_count": 26,
   "id": "fa3c4992",
   "metadata": {},
   "outputs": [
    {
     "data": {
      "text/plain": [
       "0.41661195009848984"
      ]
     },
     "execution_count": 26,
     "metadata": {},
     "output_type": "execute_result"
    }
   ],
   "source": [
    "# % of unsuccessful accounts less than 90 days old\n",
    "no_pizza_eda[\n",
    "    'requester_account_age_in_days_at_request'\n",
    "][\n",
    "    no_pizza_eda['requester_account_age_in_days_at_request'] < 90\n",
    "].count() / len(no_pizza_eda)"
   ]
  },
  {
   "cell_type": "code",
   "execution_count": 27,
   "id": "ef100fbc",
   "metadata": {},
   "outputs": [
    {
     "data": {
      "text/plain": [
       "141"
      ]
     },
     "execution_count": 27,
     "metadata": {},
     "output_type": "execute_result"
    }
   ],
   "source": [
    "# Check how many successful requester accounts are 0 days old (total success = 994)\n",
    "len(pizza_eda[pizza_eda['requester_account_age_in_days_at_request'] == 0])"
   ]
  },
  {
   "cell_type": "code",
   "execution_count": 28,
   "id": "c269abb5",
   "metadata": {},
   "outputs": [
    {
     "data": {
      "text/plain": [
       "760"
      ]
     },
     "execution_count": 28,
     "metadata": {},
     "output_type": "execute_result"
    }
   ],
   "source": [
    "# Check how many nonsuccessful requester accounts are older than 0 days (total fail = 3046)\n",
    "len(no_pizza_eda[no_pizza_eda['requester_account_age_in_days_at_request'] == 0])"
   ]
  },
  {
   "cell_type": "code",
   "execution_count": null,
   "id": "4e1fc1d4",
   "metadata": {},
   "outputs": [],
   "source": []
  },
  {
   "cell_type": "code",
   "execution_count": 30,
   "id": "41446acd",
   "metadata": {},
   "outputs": [
    {
     "data": {
      "image/png": "[encoded data removed]",
      "text/plain": [
       "<Figure size 640x480 with 1 Axes>"
      ]
     },
     "metadata": {},
     "output_type": "display_data"
    }
   ],
   "source": []
  },
  {
   "cell_type": "code",
   "execution_count": null,
   "id": "c651b06b",
   "metadata": {},
   "outputs": [],
   "source": []
  }
 ],
 "metadata": {
  "kernelspec": {
   "display_name": "Python 3 (ipykernel)",
   "language": "python",
   "name": "python3"
  },
  "language_info": {
   "codemirror_mode": {
    "name": "ipython",
    "version": 3
   },
   "file_extension": ".py",
   "mimetype": "text/x-python",
   "name": "python",
   "nbconvert_exporter": "python",
   "pygments_lexer": "ipython3",
   "version": "3.9.16"
  }
 },
 "nbformat": 4,
 "nbformat_minor": 5
}
