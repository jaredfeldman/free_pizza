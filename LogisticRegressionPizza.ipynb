{
  "cells": [
    {
      "cell_type": "code",
      "execution_count": 1,
      "metadata": {
        "id": "OM03VRTh1qnD"
      },
      "outputs": [
        {
          "ename": "ModuleNotFoundError",
          "evalue": "No module named 'numpy'",
          "output_type": "error",
          "traceback": [
            "\u001b[1;31m---------------------------------------------------------------------------\u001b[0m",
            "\u001b[1;31mModuleNotFoundError\u001b[0m                       Traceback (most recent call last)",
            "Cell \u001b[1;32mIn[1], line 2\u001b[0m\n\u001b[0;32m      1\u001b[0m \u001b[39m# Import the libraries we'll use below.\u001b[39;00m\n\u001b[1;32m----> 2\u001b[0m \u001b[39mimport\u001b[39;00m \u001b[39mnumpy\u001b[39;00m \u001b[39mas\u001b[39;00m \u001b[39mnp\u001b[39;00m\n\u001b[0;32m      3\u001b[0m \u001b[39mfrom\u001b[39;00m \u001b[39mmatplotlib\u001b[39;00m \u001b[39mimport\u001b[39;00m pyplot \u001b[39mas\u001b[39;00m plt\n\u001b[0;32m      4\u001b[0m \u001b[39mimport\u001b[39;00m \u001b[39mpandas\u001b[39;00m \u001b[39mas\u001b[39;00m \u001b[39mpd\u001b[39;00m\n",
            "\u001b[1;31mModuleNotFoundError\u001b[0m: No module named 'numpy'"
          ]
        }
      ],
      "source": [
        "# Import the libraries we'll use below.\n",
        "import numpy as np\n",
        "from matplotlib import pyplot as plt\n",
        "import pandas as pd\n",
        "import seaborn as sns  # for nicer plots\n",
        "sns.set(style=\"darkgrid\")  # default style\n",
        "import plotly.graph_objs as plotly  # for interactive plots\n",
        "\n",
        "import tensorflow as tf\n",
        "from tensorflow import keras\n",
        "\n",
        "from sklearn.model_selection import train_test_split"
      ]
    },
    {
      "cell_type": "code",
      "execution_count": null,
      "metadata": {
        "colab": {
          "base_uri": "https://localhost:8080/"
        },
        "id": "vR_iIK9j1zuY",
        "outputId": "9167d642-f945-45d5-fec8-5c079f7e1854"
      },
      "outputs": [
        {
          "data": {
            "text/plain": [
              "Index(['giver_username_if_known',\n",
              "       'number_of_downvotes_of_request_at_retrieval',\n",
              "       'number_of_upvotes_of_request_at_retrieval', 'post_was_edited',\n",
              "       'request_id', 'request_number_of_comments_at_retrieval', 'request_text',\n",
              "       'request_text_edit_aware', 'request_title',\n",
              "       'requester_account_age_in_days_at_request',\n",
              "       'requester_account_age_in_days_at_retrieval',\n",
              "       'requester_days_since_first_post_on_raop_at_request',\n",
              "       'requester_days_since_first_post_on_raop_at_retrieval',\n",
              "       'requester_number_of_comments_at_request',\n",
              "       'requester_number_of_comments_at_retrieval',\n",
              "       'requester_number_of_comments_in_raop_at_request',\n",
              "       'requester_number_of_comments_in_raop_at_retrieval',\n",
              "       'requester_number_of_posts_at_request',\n",
              "       'requester_number_of_posts_at_retrieval',\n",
              "       'requester_number_of_posts_on_raop_at_request',\n",
              "       'requester_number_of_posts_on_raop_at_retrieval',\n",
              "       'requester_number_of_subreddits_at_request',\n",
              "       'requester_subreddits_at_request',\n",
              "       'requester_upvotes_minus_downvotes_at_request',\n",
              "       'requester_upvotes_minus_downvotes_at_retrieval',\n",
              "       'requester_upvotes_plus_downvotes_at_request',\n",
              "       'requester_upvotes_plus_downvotes_at_retrieval', 'requester_user_flair',\n",
              "       'requester_username', 'unix_timestamp_of_request',\n",
              "       'unix_timestamp_of_request_utc'],\n",
              "      dtype='object')"
            ]
          },
          "execution_count": 60,
          "metadata": {},
          "output_type": "execute_result"
        }
      ],
      "source": [
        "# create test and train sets\n",
        "all_data = pd.read_json(\"train.json\")\n",
        "outcomes = all_data[\"requester_received_pizza\"]\n",
        "features = all_data.drop(\"requester_received_pizza\", axis=1)\n",
        "\n",
        "X_train, X_test, y_train, y_test = train_test_split(features, outcomes, test_size=0.1, random_state=6)\n",
        "\n",
        "X_train.columns"
      ]
    },
    {
      "cell_type": "code",
      "execution_count": null,
      "metadata": {
        "id": "ksefvUEh3O6M"
      },
      "outputs": [],
      "source": [
        "# create a train/test set with only numeric fields\n",
        "numeric_columns = [\"number_of_downvotes_of_request_at_retrieval\",\n",
        "                   \"number_of_upvotes_of_request_at_retrieval\",\n",
        "                   \"post_was_edited\",\n",
        "                   \"request_number_of_comments_at_retrieval\",\n",
        "                   \"requester_account_age_in_days_at_request\",\n",
        "                   \"requester_days_since_first_post_on_raop_at_request\",\n",
        "                   \"requester_number_of_comments_at_request\",\n",
        "                   \"requester_number_of_comments_in_raop_at_request\",\n",
        "                   \"requester_number_of_posts_at_request\",\n",
        "                   \"requester_number_of_subreddits_at_request\",\n",
        "                   \"requester_upvotes_minus_downvotes_at_request\",\n",
        "                   \"requester_upvotes_plus_downvotes_at_request\"\n",
        "]"
      ]
    },
    {
      "cell_type": "code",
      "execution_count": null,
      "metadata": {
        "id": "gzXT_E4k61t2"
      },
      "outputs": [],
      "source": [
        "X_train_numeric_only = X_train[numeric_columns]\n",
        "X_test_numeric_only = X_test[numeric_columns]"
      ]
    },
    {
      "cell_type": "code",
      "execution_count": null,
      "metadata": {
        "colab": {
          "base_uri": "https://localhost:8080/"
        },
        "id": "4VQ2pWcO691c",
        "outputId": "a047908e-7509-4423-b031-d0d7c1d30fbb"
      },
      "outputs": [
        {
          "name": "stdout",
          "output_type": "stream",
          "text": [
            "Epoch 1/10\n",
            "103/103 [==============================] - 1s 3ms/step - loss: 20143.0684 - val_loss: 12828.3779\n",
            "Epoch 2/10\n",
            "103/103 [==============================] - 0s 2ms/step - loss: 19281.3086 - val_loss: 17110.7793\n",
            "Epoch 3/10\n",
            "103/103 [==============================] - 0s 2ms/step - loss: 12207.2178 - val_loss: 32340.7988\n",
            "Epoch 4/10\n",
            "103/103 [==============================] - 0s 2ms/step - loss: 43932.5586 - val_loss: 10932.8994\n",
            "Epoch 5/10\n",
            "103/103 [==============================] - 0s 2ms/step - loss: 13956.6572 - val_loss: 6834.9155\n",
            "Epoch 6/10\n",
            "103/103 [==============================] - 0s 2ms/step - loss: 10749.4385 - val_loss: 25623.1152\n",
            "Epoch 7/10\n",
            "103/103 [==============================] - 0s 2ms/step - loss: 13098.3018 - val_loss: 40891.2695\n",
            "Epoch 8/10\n",
            "103/103 [==============================] - 0s 2ms/step - loss: 22244.2520 - val_loss: 10221.3555\n",
            "Epoch 9/10\n",
            "103/103 [==============================] - 0s 2ms/step - loss: 11784.3779 - val_loss: 13225.6787\n",
            "Epoch 10/10\n",
            "103/103 [==============================] - 0s 2ms/step - loss: 10640.9893 - val_loss: 9823.5107\n"
          ]
        },
        {
          "data": {
            "text/plain": [
              "<keras.callbacks.History at 0x7fd2479d58a0>"
            ]
          },
          "execution_count": 63,
          "metadata": {},
          "output_type": "execute_result"
        }
      ],
      "source": [
        "number_of_features = X_train_numeric_only.shape[1]\n",
        "model = keras.Sequential()\n",
        "model.add(keras.layers.Dense(1,activation = 'sigmoid',input_dim = number_of_features))\n",
        "model.compile(optimizer='adam', loss='binary_crossentropy')\n",
        "model.fit(x = X_train_numeric_only, y = y_train, epochs=10, validation_split=0.1)"
      ]
    },
    {
      "cell_type": "code",
      "execution_count": null,
      "metadata": {
        "colab": {
          "base_uri": "https://localhost:8080/"
        },
        "id": "2ESN_wgjAK-u",
        "outputId": "9525be64-cca1-45a0-f262-3ebe6ae4c71d"
      },
      "outputs": [
        {
          "name": "stdout",
          "output_type": "stream",
          "text": [
            "114/114 [==============================] - 0s 1ms/step\n",
            "13/13 [==============================] - 0s 2ms/step\n"
          ]
        }
      ],
      "source": [
        "y_train_pred_raw = model.predict(X_train_numeric_only)\n",
        "y_train_pred = y_train_pred_raw > 0.5\n",
        "y_test_pred_raw = model.predict(X_test_numeric_only)\n",
        "y_test_pred = y_test_pred_raw > 0.5"
      ]
    },
    {
      "cell_type": "code",
      "execution_count": null,
      "metadata": {
        "colab": {
          "base_uri": "https://localhost:8080/"
        },
        "id": "oITf2QpRBWHO",
        "outputId": "052cf8f6-d267-490d-a2d2-180bced64e79"
      },
      "outputs": [
        {
          "data": {
            "text/plain": [
              "2540     True\n",
              "159     False\n",
              "279     False\n",
              "1563    False\n",
              "1532    False\n",
              "        ...  \n",
              "1329    False\n",
              "3780     True\n",
              "1475    False\n",
              "2534     True\n",
              "1579    False\n",
              "Name: requester_received_pizza, Length: 404, dtype: bool"
            ]
          },
          "execution_count": 65,
          "metadata": {},
          "output_type": "execute_result"
        }
      ],
      "source": [
        "y_test"
      ]
    },
    {
      "cell_type": "code",
      "execution_count": null,
      "metadata": {
        "colab": {
          "base_uri": "https://localhost:8080/",
          "height": 458
        },
        "id": "8csk0J5VAljx",
        "outputId": "ff4af1db-3f8f-43c6-b84e-08d52f1f6d04"
      },
      "outputs": [
        {
          "data": {
            "image/png": "[encoded data removed]",
            "text/plain": [
              "<Figure size 640x480 with 1 Axes>"
            ]
          },
          "metadata": {},
          "output_type": "display_data"
        }
      ],
      "source": [
        "confusion_matrix = tf.math.confusion_matrix(y_test, y_test_pred)\n",
        "label_names = [True, False]\n",
        "# Use a heatmap plot to display it.\n",
        "ax = sns.heatmap(confusion_matrix, annot=True, fmt='.3g', cmap='Blues',\n",
        "                 xticklabels=label_names, yticklabels=label_names, cbar=False)\n",
        "\n",
        "# Add axis labels.\n",
        "ax.set(xlabel='Predicted Label', ylabel='True Label')\n",
        "plt.show()"
      ]
    },
    {
      "cell_type": "code",
      "execution_count": null,
      "metadata": {
        "colab": {
          "base_uri": "https://localhost:8080/"
        },
        "id": "qYlSjyekC2Yr",
        "outputId": "a15436da-587c-4cac-ce59-08cd9ab934ba"
      },
      "outputs": [
        {
          "name": "stdout",
          "output_type": "stream",
          "text": [
            "Train Accuracy:\n",
            "0.6898\n",
            "Test Accuracy:\n",
            "0.6955\n"
          ]
        }
      ],
      "source": [
        "print(\"Train Accuracy:\")\n",
        "train_matches = sum(y_train.values == y_train_pred.flatten())\n",
        "train_accuracy = train_matches / len(y_train.values)\n",
        "print(round(train_accuracy, 4))\n",
        "print(\"Test Accuracy:\")\n",
        "test_matches = sum(y_test.values == y_test_pred.flatten())\n",
        "test_accuracy = test_matches / len(y_test.values)\n",
        "print(round(test_accuracy, 4))"
      ]
    }
  ],
  "metadata": {
    "colab": {
      "provenance": []
    },
    "kernelspec": {
      "display_name": "Python 3",
      "name": "python3"
    },
    "language_info": {
      "codemirror_mode": {
        "name": "ipython",
        "version": 3
      },
      "file_extension": ".py",
      "mimetype": "text/x-python",
      "name": "python",
      "nbconvert_exporter": "python",
      "pygments_lexer": "ipython3",
      "version": "3.11.4"
    }
  },
  "nbformat": 4,
  "nbformat_minor": 0
}
