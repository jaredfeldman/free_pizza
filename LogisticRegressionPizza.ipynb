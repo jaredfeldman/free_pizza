{
 "cells": [
  {
   "cell_type": "code",
   "execution_count": 1,
   "metadata": {
    "id": "OM03VRTh1qnD"
   },
   "outputs": [],
   "source": [
    "# Import the libraries we'll use below.\n",
    "import numpy as np\n",
    "from matplotlib import pyplot as plt\n",
    "import pandas as pd\n",
    "import seaborn as sns  # for nicer plots\n",
    "sns.set(style=\"darkgrid\")  # default style\n",
    "import plotly.graph_objs as plotly  # for interactive plots\n",
    "\n",
    "import tensorflow as tf\n",
    "from tensorflow import keras\n",
    "\n",
    "from sklearn.model_selection import train_test_split"
   ]
  },
  {
   "cell_type": "code",
   "execution_count": 2,
   "metadata": {
    "colab": {
     "base_uri": "https://localhost:8080/"
    },
    "id": "vR_iIK9j1zuY",
    "outputId": "9167d642-f945-45d5-fec8-5c079f7e1854"
   },
   "outputs": [
    {
     "data": {
      "text/plain": [
       "Index(['giver_username_if_known',\n",
       "       'number_of_downvotes_of_request_at_retrieval',\n",
       "       'number_of_upvotes_of_request_at_retrieval', 'post_was_edited',\n",
       "       'request_id', 'request_number_of_comments_at_retrieval', 'request_text',\n",
       "       'request_text_edit_aware', 'request_title',\n",
       "       'requester_account_age_in_days_at_request',\n",
       "       'requester_account_age_in_days_at_retrieval',\n",
       "       'requester_days_since_first_post_on_raop_at_request',\n",
       "       'requester_days_since_first_post_on_raop_at_retrieval',\n",
       "       'requester_number_of_comments_at_request',\n",
       "       'requester_number_of_comments_at_retrieval',\n",
       "       'requester_number_of_comments_in_raop_at_request',\n",
       "       'requester_number_of_comments_in_raop_at_retrieval',\n",
       "       'requester_number_of_posts_at_request',\n",
       "       'requester_number_of_posts_at_retrieval',\n",
       "       'requester_number_of_posts_on_raop_at_request',\n",
       "       'requester_number_of_posts_on_raop_at_retrieval',\n",
       "       'requester_number_of_subreddits_at_request',\n",
       "       'requester_subreddits_at_request',\n",
       "       'requester_upvotes_minus_downvotes_at_request',\n",
       "       'requester_upvotes_minus_downvotes_at_retrieval',\n",
       "       'requester_upvotes_plus_downvotes_at_request',\n",
       "       'requester_upvotes_plus_downvotes_at_retrieval', 'requester_user_flair',\n",
       "       'requester_username', 'unix_timestamp_of_request',\n",
       "       'unix_timestamp_of_request_utc'],\n",
       "      dtype='object')"
      ]
     },
     "execution_count": 2,
     "metadata": {},
     "output_type": "execute_result"
    }
   ],
   "source": [
    "# create test and train sets\n",
    "all_data = pd.read_json(\"train.json\")\n",
    "outcomes = all_data[\"requester_received_pizza\"]\n",
    "features = all_data.drop(\"requester_received_pizza\", axis=1)\n",
    "\n",
    "X_train, X_test, y_train, y_test = train_test_split(features, outcomes, test_size=0.1, random_state=6)\n",
    "\n",
    "X_train.columns"
   ]
  },
  {
   "cell_type": "code",
   "execution_count": 3,
   "metadata": {
    "id": "ksefvUEh3O6M"
   },
   "outputs": [],
   "source": [
    "# create a train/test set with only numeric fields\n",
    "numeric_columns = [\"number_of_downvotes_of_request_at_retrieval\",\n",
    "                   \"number_of_upvotes_of_request_at_retrieval\",\n",
    "                   \"post_was_edited\",\n",
    "                   \"request_number_of_comments_at_retrieval\",\n",
    "                   \"requester_account_age_in_days_at_request\",\n",
    "                   \"requester_days_since_first_post_on_raop_at_request\",\n",
    "                   \"requester_number_of_comments_at_request\",\n",
    "                   \"requester_number_of_comments_in_raop_at_request\",\n",
    "                   \"requester_number_of_posts_at_request\",\n",
    "                   \"requester_number_of_subreddits_at_request\",\n",
    "                   \"requester_upvotes_minus_downvotes_at_request\",\n",
    "                   \"requester_upvotes_plus_downvotes_at_request\"\n",
    "]"
   ]
  },
  {
   "cell_type": "code",
   "execution_count": 4,
   "metadata": {
    "id": "gzXT_E4k61t2"
   },
   "outputs": [],
   "source": [
    "X_train_numeric_only = X_train[numeric_columns]\n",
    "X_test_numeric_only = X_test[numeric_columns]"
   ]
  },
  {
   "cell_type": "code",
   "execution_count": 5,
   "metadata": {
    "colab": {
     "base_uri": "https://localhost:8080/"
    },
    "id": "4VQ2pWcO691c",
    "outputId": "a047908e-7509-4423-b031-d0d7c1d30fbb"
   },
   "outputs": [
    {
     "name": "stdout",
     "output_type": "stream",
     "text": [
      "Epoch 1/10\n",
      "103/103 [==============================] - 1s 7ms/step - loss: 8949833.0000 - val_loss: 7243928.5000\n",
      "Epoch 2/10\n",
      "103/103 [==============================] - 1s 5ms/step - loss: 6723835.5000 - val_loss: 5099570.5000\n",
      "Epoch 3/10\n",
      "103/103 [==============================] - 1s 5ms/step - loss: 4437259.0000 - val_loss: 3100084.7500\n",
      "Epoch 4/10\n",
      "103/103 [==============================] - 1s 5ms/step - loss: 2213152.0000 - val_loss: 962631.1250\n",
      "Epoch 5/10\n",
      "103/103 [==============================] - 1s 5ms/step - loss: 302583.5938 - val_loss: 1616.4344\n",
      "Epoch 6/10\n",
      "103/103 [==============================] - 1s 5ms/step - loss: 10792.2930 - val_loss: 2284.6421\n",
      "Epoch 7/10\n",
      "103/103 [==============================] - 1s 5ms/step - loss: 16406.9258 - val_loss: 3541.5598\n",
      "Epoch 8/10\n",
      "103/103 [==============================] - 1s 5ms/step - loss: 18804.1484 - val_loss: 2995.4026\n",
      "Epoch 9/10\n",
      "103/103 [==============================] - 1s 5ms/step - loss: 32591.0977 - val_loss: 24497.8496\n",
      "Epoch 10/10\n",
      "103/103 [==============================] - 1s 5ms/step - loss: 20289.9199 - val_loss: 30049.6094\n"
     ]
    },
    {
     "data": {
      "text/plain": [
       "<keras.src.callbacks.History at 0x28d38f460>"
      ]
     },
     "execution_count": 5,
     "metadata": {},
     "output_type": "execute_result"
    }
   ],
   "source": [
    "number_of_features = X_train_numeric_only.shape[1]\n",
    "model = keras.Sequential()\n",
    "model.add(keras.layers.Dense(1,activation = 'sigmoid',input_dim = number_of_features))\n",
    "model.compile(optimizer='adam', loss='binary_crossentropy')\n",
    "model.fit(x = X_train_numeric_only, y = y_train, epochs=10, validation_split=0.1)"
   ]
  },
  {
   "cell_type": "code",
   "execution_count": 6,
   "metadata": {
    "colab": {
     "base_uri": "https://localhost:8080/"
    },
    "id": "2ESN_wgjAK-u",
    "outputId": "9525be64-cca1-45a0-f262-3ebe6ae4c71d"
   },
   "outputs": [
    {
     "name": "stdout",
     "output_type": "stream",
     "text": [
      "114/114 [==============================] - 0s 1ms/step\n",
      "13/13 [==============================] - 0s 1ms/step\n"
     ]
    }
   ],
   "source": [
    "y_train_pred_raw = model.predict(X_train_numeric_only)\n",
    "y_train_pred = y_train_pred_raw > 0.5\n",
    "y_test_pred_raw = model.predict(X_test_numeric_only)\n",
    "y_test_pred = y_test_pred_raw > 0.5"
   ]
  },
  {
   "cell_type": "code",
   "execution_count": 7,
   "metadata": {
    "colab": {
     "base_uri": "https://localhost:8080/"
    },
    "id": "oITf2QpRBWHO",
    "outputId": "052cf8f6-d267-490d-a2d2-180bced64e79"
   },
   "outputs": [
    {
     "data": {
      "text/plain": [
       "2540     True\n",
       "159     False\n",
       "279     False\n",
       "1563    False\n",
       "1532    False\n",
       "        ...  \n",
       "1329    False\n",
       "3780     True\n",
       "1475    False\n",
       "2534     True\n",
       "1579    False\n",
       "Name: requester_received_pizza, Length: 404, dtype: bool"
      ]
     },
     "execution_count": 7,
     "metadata": {},
     "output_type": "execute_result"
    }
   ],
   "source": [
    "y_test"
   ]
  },
  {
   "cell_type": "code",
   "execution_count": 8,
   "metadata": {
    "colab": {
     "base_uri": "https://localhost:8080/",
     "height": 458
    },
    "id": "8csk0J5VAljx",
    "outputId": "ff4af1db-3f8f-43c6-b84e-08d52f1f6d04"
   },
   "outputs": [
    {
     "data": {
      "image/png": "[encoded data removed]",
      "text/plain": [
       "<Figure size 640x480 with 1 Axes>"
      ]
     },
     "metadata": {},
     "output_type": "display_data"
    }
   ],
   "source": [
    "confusion_matrix = tf.math.confusion_matrix(y_test, y_test_pred)\n",
    "label_names = [True, False]\n",
    "# Use a heatmap plot to display it.\n",
    "ax = sns.heatmap(confusion_matrix, annot=True, fmt='.3g', cmap='Blues',\n",
    "                 xticklabels=label_names, yticklabels=label_names, cbar=False)\n",
    "\n",
    "# Add axis labels.\n",
    "ax.set(xlabel='Predicted Label', ylabel='True Label')\n",
    "plt.show()"
   ]
  },
  {
   "cell_type": "code",
   "execution_count": 9,
   "metadata": {
    "colab": {
     "base_uri": "https://localhost:8080/"
    },
    "id": "qYlSjyekC2Yr",
    "outputId": "a15436da-587c-4cac-ce59-08cd9ab934ba"
   },
   "outputs": [
    {
     "name": "stdout",
     "output_type": "stream",
     "text": [
      "Train Accuracy:\n",
      "0.725\n",
      "Test Accuracy:\n",
      "0.7129\n"
     ]
    }
   ],
   "source": [
    "print(\"Train Accuracy:\")\n",
    "train_matches = sum(y_train.values == y_train_pred.flatten())\n",
    "train_accuracy = train_matches / len(y_train.values)\n",
    "print(round(train_accuracy, 4))\n",
    "print(\"Test Accuracy:\")\n",
    "test_matches = sum(y_test.values == y_test_pred.flatten())\n",
    "test_accuracy = test_matches / len(y_test.values)\n",
    "print(round(test_accuracy, 4))"
   ]
  },
  {
   "cell_type": "code",
   "execution_count": null,
   "metadata": {},
   "outputs": [],
   "source": []
  }
 ],
 "metadata": {
  "colab": {
   "provenance": []
  },
  "kernelspec": {
   "display_name": "Python 3 (ipykernel)",
   "language": "python",
   "name": "python3"
  },
  "language_info": {
   "codemirror_mode": {
    "name": "ipython",
    "version": 3
   },
   "file_extension": ".py",
   "mimetype": "text/x-python",
   "name": "python",
   "nbconvert_exporter": "python",
   "pygments_lexer": "ipython3",
   "version": "3.9.16"
  }
 },
 "nbformat": 4,
 "nbformat_minor": 4
}
