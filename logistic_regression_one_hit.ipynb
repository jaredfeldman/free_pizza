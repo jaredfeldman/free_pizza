{
  "cells": [
    {
      "cell_type": "code",
      "execution_count": 1,
      "id": "a6c1e63f",
      "metadata": {
        "colab": {
          "base_uri": "https://localhost:8080/"
        },
        "id": "a6c1e63f",
        "outputId": "e198882f-83c3-46fd-e434-16b7f286bf23"
      },
      "outputs": [
        {
          "output_type": "stream",
          "name": "stderr",
          "text": [
            "[nltk_data] Downloading package stopwords to /root/nltk_data...\n",
            "[nltk_data]   Package stopwords is already up-to-date!\n"
          ]
        }
      ],
      "source": [
        "#package imports\n",
        "\n",
        "import pandas as pd\n",
        "import numpy as np\n",
        "import matplotlib.pyplot as plt\n",
        "import seaborn as sns\n",
        "\n",
        "import tensorflow as tf\n",
        "from sklearn.feature_extraction.text import CountVectorizer\n",
        "from sklearn.linear_model import LogisticRegression\n",
        "from sklearn.ensemble import RandomForestClassifier\n",
        "from sklearn.metrics import classification_report\n",
        "from sklearn import datasets\n",
        "from tensorflow import keras\n",
        "from keras import metrics\n",
        "tf.get_logger().setLevel('INFO')\n",
        "\n",
        "import re\n",
        "from sklearn.decomposition import PCA\n",
        "from collections import Counter\n",
        "import warnings\n",
        "warnings.filterwarnings(\"ignore\")\n",
        "\n",
        "import nltk\n",
        "from nltk.corpus import stopwords\n",
        "from nltk.tokenize import word_tokenize, sent_tokenize\n",
        "from nltk.stem import PorterStemmer, WordNetLemmatizer\n",
        "import string\n",
        "nltk.download('stopwords')\n",
        "import plotly.graph_objs as plotly  # for interactive plots"
      ]
    },
    {
      "cell_type": "code",
      "execution_count": 2,
      "id": "351e9e65",
      "metadata": {
        "id": "351e9e65"
      },
      "outputs": [],
      "source": [
        "# Load data\n",
        "training_data = pd.read_json(\"train.json\")\n",
        "test_data = pd.read_json(\"test.json\")\n",
        "\n",
        "stop_words = set(stopwords.words('english'))"
      ]
    },
    {
      "cell_type": "code",
      "execution_count": 3,
      "id": "93470455",
      "metadata": {
        "id": "93470455"
      },
      "outputs": [],
      "source": [
        "stop_words = list(stop_words)"
      ]
    },
    {
      "cell_type": "code",
      "execution_count": 4,
      "id": "5ea74161",
      "metadata": {
        "id": "5ea74161"
      },
      "outputs": [],
      "source": [
        "for word in ['i\\'ve', 'i\\'m', 'i\\'ll', \"i'm\", \"i've\", \"i'll\", 'im',\n",
        "            'pizza', 'request']:\n",
        "    stop_words.append(word)"
      ]
    },
    {
      "cell_type": "code",
      "execution_count": 5,
      "id": "da40cf1f",
      "metadata": {
        "colab": {
          "base_uri": "https://localhost:8080/"
        },
        "id": "da40cf1f",
        "outputId": "233fc803-ebb0-44b1-c946-c65c6ab4f39e"
      },
      "outputs": [
        {
          "output_type": "execute_result",
          "data": {
            "text/plain": [
              "Index(['giver_username_if_known',\n",
              "       'number_of_downvotes_of_request_at_retrieval',\n",
              "       'number_of_upvotes_of_request_at_retrieval', 'post_was_edited',\n",
              "       'request_id', 'request_number_of_comments_at_retrieval', 'request_text',\n",
              "       'request_text_edit_aware', 'request_title',\n",
              "       'requester_account_age_in_days_at_request',\n",
              "       'requester_account_age_in_days_at_retrieval',\n",
              "       'requester_days_since_first_post_on_raop_at_request',\n",
              "       'requester_days_since_first_post_on_raop_at_retrieval',\n",
              "       'requester_number_of_comments_at_request',\n",
              "       'requester_number_of_comments_at_retrieval',\n",
              "       'requester_number_of_comments_in_raop_at_request',\n",
              "       'requester_number_of_comments_in_raop_at_retrieval',\n",
              "       'requester_number_of_posts_at_request',\n",
              "       'requester_number_of_posts_at_retrieval',\n",
              "       'requester_number_of_posts_on_raop_at_request',\n",
              "       'requester_number_of_posts_on_raop_at_retrieval',\n",
              "       'requester_number_of_subreddits_at_request', 'requester_received_pizza',\n",
              "       'requester_subreddits_at_request',\n",
              "       'requester_upvotes_minus_downvotes_at_request',\n",
              "       'requester_upvotes_minus_downvotes_at_retrieval',\n",
              "       'requester_upvotes_plus_downvotes_at_request',\n",
              "       'requester_upvotes_plus_downvotes_at_retrieval', 'requester_user_flair',\n",
              "       'requester_username', 'unix_timestamp_of_request',\n",
              "       'unix_timestamp_of_request_utc'],\n",
              "      dtype='object')"
            ]
          },
          "metadata": {},
          "execution_count": 5
        }
      ],
      "source": [
        "training_data.columns"
      ]
    },
    {
      "cell_type": "code",
      "execution_count": 6,
      "id": "f8bc1917",
      "metadata": {
        "colab": {
          "base_uri": "https://localhost:8080/"
        },
        "id": "f8bc1917",
        "outputId": "092143c8-ec72-4af0-e823-fadd7fa17c0f"
      },
      "outputs": [
        {
          "output_type": "execute_result",
          "data": {
            "text/plain": [
              "Index(['giver_username_if_known', 'request_id', 'request_text_edit_aware',\n",
              "       'request_title', 'requester_account_age_in_days_at_request',\n",
              "       'requester_days_since_first_post_on_raop_at_request',\n",
              "       'requester_number_of_comments_at_request',\n",
              "       'requester_number_of_comments_in_raop_at_request',\n",
              "       'requester_number_of_posts_at_request',\n",
              "       'requester_number_of_posts_on_raop_at_request',\n",
              "       'requester_number_of_subreddits_at_request',\n",
              "       'requester_subreddits_at_request',\n",
              "       'requester_upvotes_minus_downvotes_at_request',\n",
              "       'requester_upvotes_plus_downvotes_at_request', 'requester_username',\n",
              "       'unix_timestamp_of_request', 'unix_timestamp_of_request_utc'],\n",
              "      dtype='object')"
            ]
          },
          "metadata": {},
          "execution_count": 6
        }
      ],
      "source": [
        "# Look at fields used in the test data\n",
        "test_data.columns"
      ]
    },
    {
      "cell_type": "code",
      "execution_count": 5,
      "id": "ab396fa8",
      "metadata": {
        "id": "ab396fa8"
      },
      "outputs": [],
      "source": [
        "# from Cornellia demo notebook\n",
        "def preprocessor(text):\n",
        "    text = re.sub('<[^>]*>', '', text)\n",
        "    emoticons = re.findall('(?::|;|=)(?:-)?(?:\\)|\\(|D|P)',\n",
        "                           text)\n",
        "    text = (re.sub('[\\W]+', ' ', text.lower()) +\n",
        "            ' '.join(emoticons).replace('-', ''))\n",
        "    return text"
      ]
    },
    {
      "cell_type": "code",
      "execution_count": 6,
      "id": "6790fa43",
      "metadata": {
        "id": "6790fa43"
      },
      "outputs": [],
      "source": [
        "# modified from hw 9\n",
        "def decode(token_ids):\n",
        "    \"\"\"Return a string with the decoded text given a list of token ids.\"\"\"\n",
        "    # Try looking up each id in the index, but return '#' (for OOV) if not found.\n",
        "\n",
        "    key_list = list(token_index.keys())\n",
        "    value_list = list(token_index.values())\n",
        "\n",
        "    tokens = []\n",
        "\n",
        "    for token_id in token_ids:\n",
        "        if token_id == 0:\n",
        "            tokens.append('#')\n",
        "        else:\n",
        "            position = value_list.index(token_id)\n",
        "            tokens.append(key_list[position])\n",
        "\n",
        "    # Connect the string tokens with a space.\n",
        "    return ' '.join(tokens)\n"
      ]
    },
    {
      "cell_type": "code",
      "execution_count": 7,
      "id": "0146657c",
      "metadata": {
        "id": "0146657c"
      },
      "outputs": [],
      "source": [
        "def create_token_index(requests):\n",
        "    '''Creates a dictionary for token : token_id'''\n",
        "    token_index = {'<START>':1,\n",
        "              '#': 2,\n",
        "              '<UNUSED>':3}\n",
        "    count = 4\n",
        "\n",
        "    for i in range(len(requests)):\n",
        "        for j in requests[i].split():\n",
        "            if j not in stop_words:\n",
        "                if len(j) > 2:\n",
        "                    if j not in token_index.keys():\n",
        "                        token_index[j] = count\n",
        "                        count += 1\n",
        "\n",
        "    return token_index"
      ]
    },
    {
      "cell_type": "code",
      "execution_count": 8,
      "id": "551d2b95",
      "metadata": {
        "id": "551d2b95"
      },
      "outputs": [],
      "source": [
        "def tokenize(requests):\n",
        "    '''input list of text to output tokenized list'''\n",
        "    token_requests = []\n",
        "\n",
        "    for i in range(len(requests)):\n",
        "        tokens = []\n",
        "        for j in requests[i].split():\n",
        "            if j in token_index:\n",
        "                tokens.append(token_index[j])\n",
        "            else:\n",
        "                tokens.append(2)\n",
        "        token_requests.append(tokens)\n",
        "\n",
        "    return token_requests\n"
      ]
    },
    {
      "cell_type": "code",
      "execution_count": 9,
      "id": "9884f3c5",
      "metadata": {
        "id": "9884f3c5"
      },
      "outputs": [],
      "source": [
        "# From HW 9\n",
        "def pad_data(sequences, max_length):\n",
        "  # Keras has a convenient utility for padding a sequence.\n",
        "  # Also make sure we get a numpy array rather than an array of lists.\n",
        "  return np.array(list(\n",
        "      tf.keras.preprocessing.sequence.pad_sequences(\n",
        "          sequences, maxlen=max_length, padding='post', value=0)))"
      ]
    },
    {
      "cell_type": "code",
      "execution_count": 10,
      "id": "10ce4bd2",
      "metadata": {
        "id": "10ce4bd2"
      },
      "outputs": [],
      "source": [
        "# From HW 9\n",
        "def limit_vocab(sequences, max_token_id, oov_id=2):\n",
        "  \"\"\"Replace token ids greater than or equal to max_token_id with the oov_id.\"\"\"\n",
        "  reduced_sequences = np.copy(sequences)\n",
        "  reduced_sequences[reduced_sequences >= max_token_id] = oov_id\n",
        "  return reduced_sequences"
      ]
    },
    {
      "cell_type": "code",
      "execution_count": 11,
      "id": "dd7876ed",
      "metadata": {
        "id": "dd7876ed"
      },
      "outputs": [],
      "source": [
        "training_data['request_text_edit_aware'] = training_data['request_text_edit_aware'].apply(preprocessor)"
      ]
    },
    {
      "cell_type": "code",
      "execution_count": 12,
      "id": "60fa9d30",
      "metadata": {
        "colab": {
          "base_uri": "https://localhost:8080/"
        },
        "id": "60fa9d30",
        "outputId": "d5b4844b-d13f-4e8a-e718-60e5f29510a0"
      },
      "outputs": [
        {
          "output_type": "execute_result",
          "data": {
            "text/plain": [
              "0       hi i am in need of food for my 4 children we a...\n",
              "1       i spent the last money i had on gas today im b...\n",
              "2       my girlfriend decided it would be a good idea ...\n",
              "3       it s cold i n hungry and to be completely hone...\n",
              "4       hey guys i love this sub i think it s great ex...\n",
              "                              ...                        \n",
              "4035    is anyone out there kind enough to help me out...\n",
              "4036    if someone could hook me up with a 15 gift car...\n",
              "4037    have today off soo i ll be stuck in the house ...\n",
              "4038    i ve never done anything like this before but ...\n",
              "4039    like the title says had to pay an unexpected b...\n",
              "Name: request_text_edit_aware, Length: 4040, dtype: object"
            ]
          },
          "metadata": {},
          "execution_count": 12
        }
      ],
      "source": [
        "training_data['request_text_edit_aware']"
      ]
    },
    {
      "cell_type": "code",
      "execution_count": 13,
      "id": "02a179c8",
      "metadata": {
        "id": "02a179c8"
      },
      "outputs": [],
      "source": [
        "Y = training_data['requester_received_pizza']"
      ]
    },
    {
      "cell_type": "code",
      "execution_count": 14,
      "id": "9b544599",
      "metadata": {
        "id": "9b544599"
      },
      "outputs": [],
      "source": [
        "requests = training_data['request_text_edit_aware']"
      ]
    },
    {
      "cell_type": "code",
      "execution_count": 15,
      "id": "a2e923b0",
      "metadata": {
        "id": "a2e923b0"
      },
      "outputs": [],
      "source": [
        "token_index = create_token_index(requests)"
      ]
    },
    {
      "cell_type": "code",
      "execution_count": null,
      "id": "4f33ece8",
      "metadata": {
        "id": "4f33ece8"
      },
      "outputs": [],
      "source": [
        "len(token_index)"
      ]
    },
    {
      "cell_type": "code",
      "execution_count": 16,
      "id": "4e89a3ea",
      "metadata": {
        "id": "4e89a3ea"
      },
      "outputs": [],
      "source": [
        "token_requests = tokenize(requests)"
      ]
    },
    {
      "cell_type": "code",
      "execution_count": null,
      "id": "03f5107c",
      "metadata": {
        "id": "03f5107c"
      },
      "outputs": [],
      "source": [
        "len(token_requests[1])"
      ]
    },
    {
      "cell_type": "code",
      "execution_count": null,
      "id": "bbbe3710",
      "metadata": {
        "id": "bbbe3710"
      },
      "outputs": [],
      "source": [
        "len(token_requests) == len(requests)"
      ]
    },
    {
      "cell_type": "code",
      "execution_count": null,
      "id": "26660e94",
      "metadata": {
        "id": "26660e94"
      },
      "outputs": [],
      "source": [
        "# Verify things are working as intended\n",
        "print(requests[10])\n",
        "print(token_requests[10])\n",
        "print(decode(token_requests[10]))"
      ]
    },
    {
      "cell_type": "code",
      "execution_count": 17,
      "id": "e495471b",
      "metadata": {
        "id": "e495471b"
      },
      "outputs": [],
      "source": [
        "token_id_list = list(token_index.values())"
      ]
    },
    {
      "cell_type": "code",
      "source": [],
      "metadata": {
        "id": "hrXXYXTXzcU_"
      },
      "id": "hrXXYXTXzcU_",
      "execution_count": null,
      "outputs": []
    },
    {
      "cell_type": "code",
      "source": [],
      "metadata": {
        "id": "3ivmnPJOxioz"
      },
      "id": "3ivmnPJOxioz",
      "execution_count": null,
      "outputs": []
    },
    {
      "cell_type": "code",
      "execution_count": 19,
      "id": "f2485bb6",
      "metadata": {
        "id": "f2485bb6"
      },
      "outputs": [],
      "source": [
        "def count_examples(token):\n",
        "    '''Counts the number of positive and negative examples containing token'''\n",
        "    pos_count = 0\n",
        "    neg_count = 0\n",
        "\n",
        "    # Loop through each request\n",
        "\n",
        "    for i in range(len(token_requests)):\n",
        "\n",
        "        if token in token_requests[i]:\n",
        "\n",
        "            # Add to positive example count\n",
        "            if Y[i] == True:\n",
        "                pos_count += 1\n",
        "\n",
        "            # Add to negative example count\n",
        "            if Y[i] == False:\n",
        "                neg_count += 1\n",
        "\n",
        "    return (pos_count, neg_count)"
      ]
    },
    {
      "cell_type": "code",
      "execution_count": null,
      "id": "23124eb3",
      "metadata": {
        "id": "23124eb3"
      },
      "outputs": [],
      "source": [
        "count_examples(500)"
      ]
    },
    {
      "cell_type": "code",
      "execution_count": null,
      "id": "2a2f5ef5",
      "metadata": {
        "id": "2a2f5ef5"
      },
      "outputs": [],
      "source": [
        "pos_count = []\n",
        "neg_count = []\n",
        "\n",
        "for token_id in token_id_list:\n",
        "    pos,neg = count_examples(token_id)\n",
        "    pos_count.append(pos)\n",
        "    neg_count.append(neg)"
      ]
    },
    {
      "cell_type": "code",
      "execution_count": null,
      "id": "c05dff6f",
      "metadata": {
        "id": "c05dff6f"
      },
      "outputs": [],
      "source": [
        "d = {\n",
        "    'word': token_id_list,\n",
        "    'n_pos': pos_count,\n",
        "    'n_neg': neg_count\n",
        "}"
      ]
    },
    {
      "cell_type": "code",
      "execution_count": null,
      "id": "3fbe23ab",
      "metadata": {
        "id": "3fbe23ab"
      },
      "outputs": [],
      "source": [
        "words_df = pd.DataFrame(d)"
      ]
    },
    {
      "cell_type": "code",
      "execution_count": null,
      "id": "79fc8822",
      "metadata": {
        "id": "79fc8822"
      },
      "outputs": [],
      "source": [
        "clean_df = words_df[words_df.n_pos > 50]\n",
        "clean_df = clean_df[words_df.n_neg > 50]"
      ]
    },
    {
      "cell_type": "code",
      "execution_count": null,
      "id": "f9c034dc",
      "metadata": {
        "id": "f9c034dc"
      },
      "outputs": [],
      "source": [
        "clean_df.sort_values('n_pos', ascending = False)[25:50]"
      ]
    },
    {
      "cell_type": "code",
      "execution_count": null,
      "id": "b6402c62",
      "metadata": {
        "id": "b6402c62"
      },
      "outputs": [],
      "source": [
        "decode([49])"
      ]
    },
    {
      "cell_type": "code",
      "execution_count": 18,
      "id": "237b9373",
      "metadata": {
        "id": "237b9373"
      },
      "outputs": [],
      "source": [
        "padded_token_requests = pad_data(token_requests, 100)"
      ]
    },
    {
      "cell_type": "code",
      "execution_count": 19,
      "id": "029cdb99",
      "metadata": {
        "id": "029cdb99"
      },
      "outputs": [],
      "source": [
        "reduced_token_requests = limit_vocab(padded_token_requests, max_token_id=5000)"
      ]
    },
    {
      "cell_type": "code",
      "execution_count": 20,
      "id": "38aa7df3",
      "metadata": {
        "id": "38aa7df3"
      },
      "outputs": [],
      "source": [
        "reduced_one_hot = tf.keras.utils.to_categorical(reduced_token_requests)"
      ]
    },
    {
      "cell_type": "code",
      "execution_count": null,
      "id": "078a1647",
      "metadata": {
        "id": "078a1647"
      },
      "outputs": [],
      "source": [
        "len(reduced_one_hot)"
      ]
    },
    {
      "cell_type": "code",
      "execution_count": 21,
      "id": "f0c056c2",
      "metadata": {
        "id": "f0c056c2"
      },
      "outputs": [],
      "source": [
        "X_train = reduced_one_hot[:3636]\n",
        "Y_train = Y[:3636]\n",
        "X_test = reduced_one_hot[3636:]\n",
        "Y_test = Y[3636:]"
      ]
    },
    {
      "cell_type": "code",
      "source": [
        "X_train.shape"
      ],
      "metadata": {
        "colab": {
          "base_uri": "https://localhost:8080/"
        },
        "id": "b269iEfcy9VW",
        "outputId": "64e11560-edb2-424b-899e-38fa7dadcfb9"
      },
      "id": "b269iEfcy9VW",
      "execution_count": 22,
      "outputs": [
        {
          "output_type": "execute_result",
          "data": {
            "text/plain": [
              "(3636, 100, 5000)"
            ]
          },
          "metadata": {},
          "execution_count": 22
        }
      ]
    },
    {
      "cell_type": "code",
      "execution_count": 23,
      "id": "d6fe5804",
      "metadata": {
        "id": "d6fe5804"
      },
      "outputs": [],
      "source": [
        "def plot_history(history):\n",
        "  plt.ylabel('Loss')\n",
        "  plt.xlabel('Epoch')\n",
        "  plt.xticks(range(0, len(history['loss'] + 1)))\n",
        "  plt.plot(history['loss'], label=\"training\", marker='o')\n",
        "  plt.plot(history['val_loss'], label=\"validation\", marker='o')\n",
        "  plt.legend()\n",
        "  plt.show()"
      ]
    },
    {
      "cell_type": "code",
      "execution_count": 24,
      "id": "c20490df",
      "metadata": {
        "id": "c20490df"
      },
      "outputs": [],
      "source": [
        "def build_onehot_model3(average_over_positions=False):\n",
        "  \"\"\"Build a tf.keras model for one-hot data.\"\"\"\n",
        "  # Clear session and remove randomness.\n",
        "  tf.keras.backend.clear_session()\n",
        "  tf.random.set_seed(0)\n",
        "\n",
        "  model = tf.keras.Sequential()\n",
        "  if average_over_positions:\n",
        "    # This layer averages over the first dimension of the input by default.\n",
        "    model.add(tf.keras.layers.GlobalAveragePooling1D())\n",
        "  else:\n",
        "    # Concatenate.\n",
        "    model.add(tf.keras.layers.Flatten())\n",
        "  model.add(tf.keras.layers.Dense(\n",
        "      units=1,                     # output dim (for binary classification)\n",
        "      activation=\"sigmoid\"         # sigmoid activation for classification\n",
        "  ))\n",
        "\n",
        "  model.compile(loss=tf.keras.losses.BinaryCrossentropy(),\n",
        "                optimizer=tf.keras.optimizers.Adam(learning_rate=.01),\n",
        "                metrics=[tf.keras.metrics.BinaryAccuracy()])\n",
        "\n",
        "  return model"
      ]
    },
    {
      "cell_type": "code",
      "execution_count": 25,
      "id": "ae1db4bf",
      "metadata": {
        "id": "ae1db4bf"
      },
      "outputs": [],
      "source": [
        "model5 = build_onehot_model3(average_over_positions=False)"
      ]
    },
    {
      "cell_type": "code",
      "source": [
        "history5 = model5.fit(\n",
        "  x = X_train,  # one-hot training data\n",
        "  y = Y_train,          # corresponding binary labels\n",
        "  epochs=15,             # number of passes through the training data\n",
        "  batch_size=64,        # mini-batch size\n",
        "  validation_split=0.1, # use a fraction of the examples for validation\n",
        "  verbose=1             # display some progress output during training\n",
        "  )\n",
        "\n",
        "# Convert the return value into a DataFrame so we can see the train loss\n",
        "# and binary accuracy after every epoch.\n",
        "history5 = pd.DataFrame(history5.history)\n",
        "plot_history(history5)"
      ],
      "metadata": {
        "id": "bplzPLLfoVAH",
        "colab": {
          "base_uri": "https://localhost:8080/",
          "height": 990
        },
        "outputId": "126b3c4c-9d37-486a-c9f4-22f8f7e25d44"
      },
      "id": "bplzPLLfoVAH",
      "execution_count": 26,
      "outputs": [
        {
          "output_type": "stream",
          "name": "stdout",
          "text": [
            "Epoch 1/15\n",
            "52/52 [==============================] - 9s 148ms/step - loss: 0.5703 - binary_accuracy: 0.7466 - val_loss: 0.5369 - val_binary_accuracy: 0.7665\n",
            "Epoch 2/15\n",
            "52/52 [==============================] - 7s 142ms/step - loss: 0.2355 - binary_accuracy: 0.9361 - val_loss: 0.5476 - val_binary_accuracy: 0.7637\n",
            "Epoch 3/15\n",
            "52/52 [==============================] - 6s 119ms/step - loss: 0.1495 - binary_accuracy: 0.9661 - val_loss: 0.5682 - val_binary_accuracy: 0.7637\n",
            "Epoch 4/15\n",
            "52/52 [==============================] - 7s 134ms/step - loss: 0.1073 - binary_accuracy: 0.9798 - val_loss: 0.5776 - val_binary_accuracy: 0.7637\n",
            "Epoch 5/15\n",
            "52/52 [==============================] - 6s 117ms/step - loss: 0.0840 - binary_accuracy: 0.9838 - val_loss: 0.5944 - val_binary_accuracy: 0.7527\n",
            "Epoch 6/15\n",
            "52/52 [==============================] - 11s 210ms/step - loss: 0.0701 - binary_accuracy: 0.9884 - val_loss: 0.6008 - val_binary_accuracy: 0.7665\n",
            "Epoch 7/15\n",
            "52/52 [==============================] - 10s 197ms/step - loss: 0.0596 - binary_accuracy: 0.9887 - val_loss: 0.6091 - val_binary_accuracy: 0.7637\n",
            "Epoch 8/15\n",
            "52/52 [==============================] - 9s 171ms/step - loss: 0.0512 - binary_accuracy: 0.9896 - val_loss: 0.6330 - val_binary_accuracy: 0.7555\n",
            "Epoch 9/15\n",
            "52/52 [==============================] - 8s 152ms/step - loss: 0.0457 - binary_accuracy: 0.9908 - val_loss: 0.6205 - val_binary_accuracy: 0.7610\n",
            "Epoch 10/15\n",
            "52/52 [==============================] - 6s 113ms/step - loss: 0.0413 - binary_accuracy: 0.9921 - val_loss: 0.6343 - val_binary_accuracy: 0.7665\n",
            "Epoch 11/15\n",
            "52/52 [==============================] - 7s 137ms/step - loss: 0.0401 - binary_accuracy: 0.9921 - val_loss: 0.6436 - val_binary_accuracy: 0.7637\n",
            "Epoch 12/15\n",
            "52/52 [==============================] - 7s 133ms/step - loss: 0.0367 - binary_accuracy: 0.9921 - val_loss: 0.6482 - val_binary_accuracy: 0.7665\n",
            "Epoch 13/15\n",
            "52/52 [==============================] - 7s 132ms/step - loss: 0.0329 - binary_accuracy: 0.9921 - val_loss: 0.6845 - val_binary_accuracy: 0.7582\n",
            "Epoch 14/15\n",
            "52/52 [==============================] - 6s 115ms/step - loss: 0.0331 - binary_accuracy: 0.9933 - val_loss: 0.6629 - val_binary_accuracy: 0.7637\n",
            "Epoch 15/15\n",
            "52/52 [==============================] - 7s 134ms/step - loss: 0.0302 - binary_accuracy: 0.9936 - val_loss: 0.6831 - val_binary_accuracy: 0.7390\n"
          ]
        },
        {
          "output_type": "display_data",
          "data": {
            "text/plain": [
              "<Figure size 640x480 with 1 Axes>"
            ],
            "image/png": "[encoded data removed]"
          },
          "metadata": {}
        }
      ]
    },
    {
      "cell_type": "code",
      "source": [
        "probabilities = model5.predict(X_train)\n",
        "threshold = 0.5\n",
        "binary_predictions = (probabilities > threshold).astype(int)\n",
        "confusion_matrix(Y_train, binary_predictions)"
      ],
      "metadata": {
        "id": "j9OZd5fpoYV9",
        "colab": {
          "base_uri": "https://localhost:8080/",
          "height": 218
        },
        "outputId": "41b19656-bcc2-473f-ea04-98210feaa9a5"
      },
      "id": "j9OZd5fpoYV9",
      "execution_count": 1,
      "outputs": [
        {
          "output_type": "error",
          "ename": "NameError",
          "evalue": "ignored",
          "traceback": [
            "\u001b[0;31m---------------------------------------------------------------------------\u001b[0m",
            "\u001b[0;31mNameError\u001b[0m                                 Traceback (most recent call last)",
            "\u001b[0;32m<ipython-input-1-32e34fd19283>\u001b[0m in \u001b[0;36m<cell line: 1>\u001b[0;34m()\u001b[0m\n\u001b[0;32m----> 1\u001b[0;31m \u001b[0mprobabilities\u001b[0m \u001b[0;34m=\u001b[0m \u001b[0mmodel5\u001b[0m\u001b[0;34m.\u001b[0m\u001b[0mpredict\u001b[0m\u001b[0;34m(\u001b[0m\u001b[0mX_train\u001b[0m\u001b[0;34m)\u001b[0m\u001b[0;34m\u001b[0m\u001b[0;34m\u001b[0m\u001b[0m\n\u001b[0m\u001b[1;32m      2\u001b[0m \u001b[0mthreshold\u001b[0m \u001b[0;34m=\u001b[0m \u001b[0;36m0.5\u001b[0m\u001b[0;34m\u001b[0m\u001b[0;34m\u001b[0m\u001b[0m\n\u001b[1;32m      3\u001b[0m \u001b[0mbinary_predictions\u001b[0m \u001b[0;34m=\u001b[0m \u001b[0;34m(\u001b[0m\u001b[0mprobabilities\u001b[0m \u001b[0;34m>\u001b[0m \u001b[0mthreshold\u001b[0m\u001b[0;34m)\u001b[0m\u001b[0;34m.\u001b[0m\u001b[0mastype\u001b[0m\u001b[0;34m(\u001b[0m\u001b[0mint\u001b[0m\u001b[0;34m)\u001b[0m\u001b[0;34m\u001b[0m\u001b[0;34m\u001b[0m\u001b[0m\n\u001b[1;32m      4\u001b[0m \u001b[0mconfusion_matrix\u001b[0m\u001b[0;34m(\u001b[0m\u001b[0mY_train\u001b[0m\u001b[0;34m,\u001b[0m \u001b[0mbinary_predictions\u001b[0m\u001b[0;34m)\u001b[0m\u001b[0;34m\u001b[0m\u001b[0;34m\u001b[0m\u001b[0m\n",
            "\u001b[0;31mNameError\u001b[0m: name 'model5' is not defined"
          ]
        }
      ]
    },
    {
      "cell_type": "code",
      "execution_count": null,
      "id": "929e1385",
      "metadata": {
        "id": "929e1385"
      },
      "outputs": [],
      "source": [
        "#print ('Accuracy:', forest.score(vocab_train, train_labels))"
      ]
    },
    {
      "cell_type": "code",
      "execution_count": null,
      "id": "175c8e67",
      "metadata": {
        "id": "175c8e67"
      },
      "outputs": [],
      "source": [
        "# Store the columns that are usable for the predictions\n",
        "test_features = list(test_data.columns)\n",
        "\n",
        "X = training_data[training_data.columns[training_data.columns.isin(test_features)]]\n",
        "Y = training_data['requester_received_pizza']\n",
        "\n",
        "train_data, train_labels = X[:3609], Y[:3609]\n",
        "val_data, val_labels = X[3609:], Y[3609:]"
      ]
    },
    {
      "cell_type": "code",
      "execution_count": 27,
      "id": "621db48b",
      "metadata": {
        "id": "621db48b"
      },
      "outputs": [],
      "source": [
        "test_data['request_text_edit_aware'] = test_data['request_text_edit_aware'].apply(preprocessor)"
      ]
    },
    {
      "cell_type": "code",
      "source": [
        "test_requests = test_data['request_text_edit_aware']"
      ],
      "metadata": {
        "id": "j58WcynE0HET"
      },
      "id": "j58WcynE0HET",
      "execution_count": 28,
      "outputs": []
    },
    {
      "cell_type": "code",
      "source": [
        "token_index = create_token_index(test_requests)"
      ],
      "metadata": {
        "id": "cU20q_Bq0S4Z"
      },
      "id": "cU20q_Bq0S4Z",
      "execution_count": 30,
      "outputs": []
    },
    {
      "cell_type": "code",
      "source": [
        "test_token_requests = tokenize(requests)"
      ],
      "metadata": {
        "id": "ab83d4iC0ZKP"
      },
      "id": "ab83d4iC0ZKP",
      "execution_count": 31,
      "outputs": []
    },
    {
      "cell_type": "code",
      "source": [
        "test_padded_token_requests = pad_data(test_token_requests, 100)"
      ],
      "metadata": {
        "id": "3AP-hdYj1Iin"
      },
      "id": "3AP-hdYj1Iin",
      "execution_count": 32,
      "outputs": []
    },
    {
      "cell_type": "code",
      "source": [
        "test_reduced_token_requests = limit_vocab(test_padded_token_requests, max_token_id=5000)"
      ],
      "metadata": {
        "id": "5IT8ubew1WV6"
      },
      "id": "5IT8ubew1WV6",
      "execution_count": 34,
      "outputs": []
    },
    {
      "cell_type": "code",
      "source": [
        "test_reduced_one_hot = tf.keras.utils.to_categorical(test_reduced_token_requests)"
      ],
      "metadata": {
        "id": "bzDJupJV1bon"
      },
      "id": "bzDJupJV1bon",
      "execution_count": 35,
      "outputs": []
    },
    {
      "cell_type": "code",
      "source": [
        "test_reduced_one_hot.shape"
      ],
      "metadata": {
        "colab": {
          "base_uri": "https://localhost:8080/"
        },
        "id": "bHYDAkFN1l2-",
        "outputId": "3fe45586-e2a5-4dc0-ac4c-a0deab1724b2"
      },
      "id": "bHYDAkFN1l2-",
      "execution_count": 36,
      "outputs": [
        {
          "output_type": "execute_result",
          "data": {
            "text/plain": [
              "(4040, 100, 5000)"
            ]
          },
          "metadata": {},
          "execution_count": 36
        }
      ]
    },
    {
      "cell_type": "code",
      "source": [
        "Y2 = training_data['requester_received_pizza']"
      ],
      "metadata": {
        "id": "8ls-lB9a2CUy"
      },
      "id": "8ls-lB9a2CUy",
      "execution_count": 37,
      "outputs": []
    },
    {
      "cell_type": "code",
      "source": [
        "X_test = test_reduced_one_hot[:3636]\n",
        "Y_test = Y2[:3636]"
      ],
      "metadata": {
        "id": "6ZZnaR6v1sVl"
      },
      "id": "6ZZnaR6v1sVl",
      "execution_count": 38,
      "outputs": []
    },
    {
      "cell_type": "code",
      "source": [
        "X_test.shape"
      ],
      "metadata": {
        "colab": {
          "base_uri": "https://localhost:8080/"
        },
        "id": "pI85FDfc2Nmj",
        "outputId": "2aad068e-adc0-478c-a692-5c9e3f7d6cdd"
      },
      "id": "pI85FDfc2Nmj",
      "execution_count": 39,
      "outputs": [
        {
          "output_type": "execute_result",
          "data": {
            "text/plain": [
              "(3636, 100, 5000)"
            ]
          },
          "metadata": {},
          "execution_count": 39
        }
      ]
    },
    {
      "cell_type": "code",
      "source": [
        "predictions = model5.predict(X_test)"
      ],
      "metadata": {
        "colab": {
          "base_uri": "https://localhost:8080/",
          "height": 166
        },
        "id": "RuhYbp_C2Rd7",
        "outputId": "fca2ab52-59b4-4972-86af-ed1fce16d6d6"
      },
      "id": "RuhYbp_C2Rd7",
      "execution_count": 3,
      "outputs": [
        {
          "output_type": "error",
          "ename": "NameError",
          "evalue": "ignored",
          "traceback": [
            "\u001b[0;31m---------------------------------------------------------------------------\u001b[0m",
            "\u001b[0;31mNameError\u001b[0m                                 Traceback (most recent call last)",
            "\u001b[0;32m<ipython-input-3-64d9daeef2d7>\u001b[0m in \u001b[0;36m<cell line: 1>\u001b[0;34m()\u001b[0m\n\u001b[0;32m----> 1\u001b[0;31m \u001b[0mpredictions\u001b[0m \u001b[0;34m=\u001b[0m \u001b[0mmodel5\u001b[0m\u001b[0;34m.\u001b[0m\u001b[0mpredict\u001b[0m\u001b[0;34m(\u001b[0m\u001b[0mX_test\u001b[0m\u001b[0;34m)\u001b[0m\u001b[0;34m\u001b[0m\u001b[0;34m\u001b[0m\u001b[0m\n\u001b[0m",
            "\u001b[0;31mNameError\u001b[0m: name 'model5' is not defined"
          ]
        }
      ]
    },
    {
      "cell_type": "code",
      "source": [
        "# function to create dataframe\n",
        "def get_submission_csv(predictions):\n",
        "    test_ids = test_data['request_id']\n",
        "\n",
        "    d = {'request_id': test_ids,\n",
        "    'requester_received_pizza': predictions}\n",
        "\n",
        "    df = pd.DataFrame(data=d)\n",
        "    df['requester_received_pizza'] = df['requester_received_pizza'].astype(int)\n",
        "\n",
        "    return df"
      ],
      "metadata": {
        "id": "6Nymx8Wt2d8c"
      },
      "id": "6Nymx8Wt2d8c",
      "execution_count": 4,
      "outputs": []
    },
    {
      "cell_type": "code",
      "source": [
        "# flatten predictions\n",
        "predictions_flat = predictions.flatten()\n",
        "\n",
        "# create dataframe using function\n",
        "predictions_df = get_submission_csv(predictions_flat)\n",
        "\n",
        "# create csv from dataframe\n",
        "df_all_posts.to_csv('one_hot_model_predictions.csv', index=False)"
      ],
      "metadata": {
        "colab": {
          "base_uri": "https://localhost:8080/",
          "height": 236
        },
        "id": "tvmBB6ib2-Cl",
        "outputId": "7d89e405-6308-4eeb-a332-d83b8576cd78"
      },
      "id": "tvmBB6ib2-Cl",
      "execution_count": 5,
      "outputs": [
        {
          "output_type": "error",
          "ename": "NameError",
          "evalue": "ignored",
          "traceback": [
            "\u001b[0;31m---------------------------------------------------------------------------\u001b[0m",
            "\u001b[0;31mNameError\u001b[0m                                 Traceback (most recent call last)",
            "\u001b[0;32m<ipython-input-5-5c07dd32ec2b>\u001b[0m in \u001b[0;36m<cell line: 2>\u001b[0;34m()\u001b[0m\n\u001b[1;32m      1\u001b[0m \u001b[0;31m# flatten predictions\u001b[0m\u001b[0;34m\u001b[0m\u001b[0;34m\u001b[0m\u001b[0m\n\u001b[0;32m----> 2\u001b[0;31m \u001b[0mpredictions_flat\u001b[0m \u001b[0;34m=\u001b[0m \u001b[0mpredictions\u001b[0m\u001b[0;34m.\u001b[0m\u001b[0mflatten\u001b[0m\u001b[0;34m(\u001b[0m\u001b[0;34m)\u001b[0m\u001b[0;34m\u001b[0m\u001b[0;34m\u001b[0m\u001b[0m\n\u001b[0m\u001b[1;32m      3\u001b[0m \u001b[0;34m\u001b[0m\u001b[0m\n\u001b[1;32m      4\u001b[0m \u001b[0;31m# create dataframe using function\u001b[0m\u001b[0;34m\u001b[0m\u001b[0;34m\u001b[0m\u001b[0m\n\u001b[1;32m      5\u001b[0m \u001b[0mpredictions_df\u001b[0m \u001b[0;34m=\u001b[0m \u001b[0mget_submission_csv\u001b[0m\u001b[0;34m(\u001b[0m\u001b[0mpredictions_flat\u001b[0m\u001b[0;34m)\u001b[0m\u001b[0;34m\u001b[0m\u001b[0;34m\u001b[0m\u001b[0m\n",
            "\u001b[0;31mNameError\u001b[0m: name 'predictions' is not defined"
          ]
        }
      ]
    },
    {
      "cell_type": "code",
      "source": [],
      "metadata": {
        "id": "JKuZ9eWX3BcL"
      },
      "id": "JKuZ9eWX3BcL",
      "execution_count": null,
      "outputs": []
    }
  ],
  "metadata": {
    "kernelspec": {
      "display_name": "Python 3 (ipykernel)",
      "language": "python",
      "name": "python3"
    },
    "language_info": {
      "codemirror_mode": {
        "name": "ipython",
        "version": 3
      },
      "file_extension": ".py",
      "mimetype": "text/x-python",
      "name": "python",
      "nbconvert_exporter": "python",
      "pygments_lexer": "ipython3",
      "version": "3.9.16"
    },
    "colab": {
      "provenance": []
    }
  },
  "nbformat": 4,
  "nbformat_minor": 5
}