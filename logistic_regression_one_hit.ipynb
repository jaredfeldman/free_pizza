{
 "cells": [
  {
   "cell_type": "code",
   "execution_count": 1,
   "id": "a6c1e63f",
   "metadata": {
    "colab": {
     "base_uri": "https://localhost:8080/"
    },
    "id": "a6c1e63f",
    "outputId": "e198882f-83c3-46fd-e434-16b7f286bf23"
   },
   "outputs": [
    {
     "name": "stderr",
     "output_type": "stream",
     "text": [
      "[nltk_data] Downloading package stopwords to\n",
      "[nltk_data]     /Users/jaredfeldman/nltk_data...\n",
      "[nltk_data]   Package stopwords is already up-to-date!\n"
     ]
    }
   ],
   "source": [
    "#package imports\n",
    "\n",
    "import pandas as pd\n",
    "import numpy as np\n",
    "import matplotlib.pyplot as plt\n",
    "import seaborn as sns\n",
    "\n",
    "import tensorflow as tf\n",
    "from sklearn.feature_extraction.text import CountVectorizer\n",
    "from sklearn.linear_model import LogisticRegression\n",
    "from sklearn.ensemble import RandomForestClassifier\n",
    "from sklearn.metrics import classification_report\n",
    "from sklearn.metrics import confusion_matrix, ConfusionMatrixDisplay\n",
    "from sklearn import datasets\n",
    "from tensorflow import keras\n",
    "from keras import metrics\n",
    "tf.get_logger().setLevel('INFO')\n",
    "\n",
    "import re\n",
    "from sklearn.decomposition import PCA\n",
    "from collections import Counter\n",
    "import warnings\n",
    "warnings.filterwarnings(\"ignore\")\n",
    "\n",
    "import nltk\n",
    "from nltk.corpus import stopwords\n",
    "from nltk.tokenize import word_tokenize, sent_tokenize\n",
    "from nltk.stem import PorterStemmer, WordNetLemmatizer\n",
    "import string\n",
    "nltk.download('stopwords')\n",
    "import plotly.graph_objs as plotly  # for interactive plots"
   ]
  },
  {
   "cell_type": "code",
   "execution_count": 2,
   "id": "351e9e65",
   "metadata": {
    "id": "351e9e65"
   },
   "outputs": [],
   "source": [
    "# Load data\n",
    "training_data = pd.read_json(\"train.json\")\n",
    "test_data = pd.read_json(\"test.json\")\n",
    "\n",
    "stop_words = set(stopwords.words('english'))"
   ]
  },
  {
   "cell_type": "code",
   "execution_count": 3,
   "id": "93470455",
   "metadata": {
    "id": "93470455"
   },
   "outputs": [],
   "source": [
    "stop_words = list(stop_words)"
   ]
  },
  {
   "cell_type": "code",
   "execution_count": 4,
   "id": "5ea74161",
   "metadata": {
    "id": "5ea74161"
   },
   "outputs": [],
   "source": [
    "for word in ['i\\'ve', 'i\\'m', 'i\\'ll', \"i'm\", \"i've\", \"i'll\", 'im',\n",
    "            'pizza', 'request']:\n",
    "    stop_words.append(word)"
   ]
  },
  {
   "cell_type": "code",
   "execution_count": 5,
   "id": "da40cf1f",
   "metadata": {
    "colab": {
     "base_uri": "https://localhost:8080/"
    },
    "id": "da40cf1f",
    "outputId": "233fc803-ebb0-44b1-c946-c65c6ab4f39e"
   },
   "outputs": [
    {
     "data": {
      "text/plain": [
       "Index(['giver_username_if_known',\n",
       "       'number_of_downvotes_of_request_at_retrieval',\n",
       "       'number_of_upvotes_of_request_at_retrieval', 'post_was_edited',\n",
       "       'request_id', 'request_number_of_comments_at_retrieval', 'request_text',\n",
       "       'request_text_edit_aware', 'request_title',\n",
       "       'requester_account_age_in_days_at_request',\n",
       "       'requester_account_age_in_days_at_retrieval',\n",
       "       'requester_days_since_first_post_on_raop_at_request',\n",
       "       'requester_days_since_first_post_on_raop_at_retrieval',\n",
       "       'requester_number_of_comments_at_request',\n",
       "       'requester_number_of_comments_at_retrieval',\n",
       "       'requester_number_of_comments_in_raop_at_request',\n",
       "       'requester_number_of_comments_in_raop_at_retrieval',\n",
       "       'requester_number_of_posts_at_request',\n",
       "       'requester_number_of_posts_at_retrieval',\n",
       "       'requester_number_of_posts_on_raop_at_request',\n",
       "       'requester_number_of_posts_on_raop_at_retrieval',\n",
       "       'requester_number_of_subreddits_at_request', 'requester_received_pizza',\n",
       "       'requester_subreddits_at_request',\n",
       "       'requester_upvotes_minus_downvotes_at_request',\n",
       "       'requester_upvotes_minus_downvotes_at_retrieval',\n",
       "       'requester_upvotes_plus_downvotes_at_request',\n",
       "       'requester_upvotes_plus_downvotes_at_retrieval', 'requester_user_flair',\n",
       "       'requester_username', 'unix_timestamp_of_request',\n",
       "       'unix_timestamp_of_request_utc'],\n",
       "      dtype='object')"
      ]
     },
     "execution_count": 5,
     "metadata": {},
     "output_type": "execute_result"
    }
   ],
   "source": [
    "training_data.columns"
   ]
  },
  {
   "cell_type": "code",
   "execution_count": 6,
   "id": "f8bc1917",
   "metadata": {
    "colab": {
     "base_uri": "https://localhost:8080/"
    },
    "id": "f8bc1917",
    "outputId": "092143c8-ec72-4af0-e823-fadd7fa17c0f"
   },
   "outputs": [
    {
     "data": {
      "text/plain": [
       "Index(['giver_username_if_known', 'request_id', 'request_text_edit_aware',\n",
       "       'request_title', 'requester_account_age_in_days_at_request',\n",
       "       'requester_days_since_first_post_on_raop_at_request',\n",
       "       'requester_number_of_comments_at_request',\n",
       "       'requester_number_of_comments_in_raop_at_request',\n",
       "       'requester_number_of_posts_at_request',\n",
       "       'requester_number_of_posts_on_raop_at_request',\n",
       "       'requester_number_of_subreddits_at_request',\n",
       "       'requester_subreddits_at_request',\n",
       "       'requester_upvotes_minus_downvotes_at_request',\n",
       "       'requester_upvotes_plus_downvotes_at_request', 'requester_username',\n",
       "       'unix_timestamp_of_request', 'unix_timestamp_of_request_utc'],\n",
       "      dtype='object')"
      ]
     },
     "execution_count": 6,
     "metadata": {},
     "output_type": "execute_result"
    }
   ],
   "source": [
    "# Look at fields used in the test data\n",
    "test_data.columns"
   ]
  },
  {
   "cell_type": "code",
   "execution_count": 7,
   "id": "ab396fa8",
   "metadata": {
    "id": "ab396fa8"
   },
   "outputs": [],
   "source": [
    "# from Cornellia demo notebook\n",
    "def preprocessor(text):\n",
    "    text = re.sub('<[^>]*>', '', text)\n",
    "    emoticons = re.findall('(?::|;|=)(?:-)?(?:\\)|\\(|D|P)',\n",
    "                           text)\n",
    "    text = (re.sub('[\\W]+', ' ', text.lower()) +\n",
    "            ' '.join(emoticons).replace('-', ''))\n",
    "    return text"
   ]
  },
  {
   "cell_type": "code",
   "execution_count": 8,
   "id": "6790fa43",
   "metadata": {
    "id": "6790fa43"
   },
   "outputs": [],
   "source": [
    "# modified from hw 9\n",
    "def decode(token_ids):\n",
    "    \"\"\"Return a string with the decoded text given a list of token ids.\"\"\"\n",
    "    # Try looking up each id in the index, but return '#' (for OOV) if not found.\n",
    "\n",
    "    key_list = list(token_index.keys())\n",
    "    value_list = list(token_index.values())\n",
    "\n",
    "    tokens = []\n",
    "\n",
    "    for token_id in token_ids:\n",
    "        if token_id == 0:\n",
    "            tokens.append('#')\n",
    "        else:\n",
    "            position = value_list.index(token_id)\n",
    "            tokens.append(key_list[position])\n",
    "\n",
    "    # Connect the string tokens with a space.\n",
    "    return ' '.join(tokens)\n"
   ]
  },
  {
   "cell_type": "code",
   "execution_count": 9,
   "id": "0146657c",
   "metadata": {
    "id": "0146657c"
   },
   "outputs": [],
   "source": [
    "def create_token_index(requests):\n",
    "    '''Creates a dictionary for token : token_id'''\n",
    "    token_index = {'<START>':1,\n",
    "              '#': 2,\n",
    "              '<UNUSED>':3}\n",
    "    count = 4\n",
    "\n",
    "    for i in range(len(requests)):\n",
    "        for j in requests[i].split():\n",
    "            if j not in stop_words:\n",
    "                if len(j) > 2:\n",
    "                    if j not in token_index.keys():\n",
    "                        token_index[j] = count\n",
    "                        count += 1\n",
    "\n",
    "    return token_index"
   ]
  },
  {
   "cell_type": "code",
   "execution_count": 10,
   "id": "551d2b95",
   "metadata": {
    "id": "551d2b95"
   },
   "outputs": [],
   "source": [
    "def tokenize(requests):\n",
    "    '''input list of text to output tokenized list'''\n",
    "    token_requests = []\n",
    "\n",
    "    for i in range(len(requests)):\n",
    "        tokens = []\n",
    "        for j in requests[i].split():\n",
    "            if j in token_index:\n",
    "                tokens.append(token_index[j])\n",
    "            else:\n",
    "                tokens.append(2)\n",
    "        token_requests.append(tokens)\n",
    "\n",
    "    return token_requests\n"
   ]
  },
  {
   "cell_type": "code",
   "execution_count": 11,
   "id": "9884f3c5",
   "metadata": {
    "id": "9884f3c5"
   },
   "outputs": [],
   "source": [
    "# From HW 9\n",
    "def pad_data(sequences, max_length):\n",
    "  # Keras has a convenient utility for padding a sequence.\n",
    "  # Also make sure we get a numpy array rather than an array of lists.\n",
    "  return np.array(list(\n",
    "      tf.keras.preprocessing.sequence.pad_sequences(\n",
    "          sequences, maxlen=max_length, padding='post', value=0)))"
   ]
  },
  {
   "cell_type": "code",
   "execution_count": 12,
   "id": "10ce4bd2",
   "metadata": {
    "id": "10ce4bd2"
   },
   "outputs": [],
   "source": [
    "# From HW 9\n",
    "def limit_vocab(sequences, max_token_id, oov_id=2):\n",
    "  \"\"\"Replace token ids greater than or equal to max_token_id with the oov_id.\"\"\"\n",
    "  reduced_sequences = np.copy(sequences)\n",
    "  reduced_sequences[reduced_sequences >= max_token_id] = oov_id\n",
    "  return reduced_sequences"
   ]
  },
  {
   "cell_type": "code",
   "execution_count": 13,
   "id": "dd7876ed",
   "metadata": {
    "id": "dd7876ed"
   },
   "outputs": [],
   "source": [
    "training_data['request_text_edit_aware'] = training_data['request_text_edit_aware'].apply(preprocessor)"
   ]
  },
  {
   "cell_type": "code",
   "execution_count": 14,
   "id": "60fa9d30",
   "metadata": {
    "colab": {
     "base_uri": "https://localhost:8080/"
    },
    "id": "60fa9d30",
    "outputId": "d5b4844b-d13f-4e8a-e718-60e5f29510a0"
   },
   "outputs": [
    {
     "data": {
      "text/plain": [
       "0       hi i am in need of food for my 4 children we a...\n",
       "1       i spent the last money i had on gas today im b...\n",
       "2       my girlfriend decided it would be a good idea ...\n",
       "3       it s cold i n hungry and to be completely hone...\n",
       "4       hey guys i love this sub i think it s great ex...\n",
       "                              ...                        \n",
       "4035    is anyone out there kind enough to help me out...\n",
       "4036    if someone could hook me up with a 15 gift car...\n",
       "4037    have today off soo i ll be stuck in the house ...\n",
       "4038    i ve never done anything like this before but ...\n",
       "4039    like the title says had to pay an unexpected b...\n",
       "Name: request_text_edit_aware, Length: 4040, dtype: object"
      ]
     },
     "execution_count": 14,
     "metadata": {},
     "output_type": "execute_result"
    }
   ],
   "source": [
    "training_data['request_text_edit_aware']"
   ]
  },
  {
   "cell_type": "code",
   "execution_count": 15,
   "id": "02a179c8",
   "metadata": {
    "id": "02a179c8"
   },
   "outputs": [],
   "source": [
    "Y = training_data['requester_received_pizza']"
   ]
  },
  {
   "cell_type": "code",
   "execution_count": 16,
   "id": "9b544599",
   "metadata": {
    "id": "9b544599"
   },
   "outputs": [],
   "source": [
    "requests = training_data['request_text_edit_aware']"
   ]
  },
  {
   "cell_type": "code",
   "execution_count": 17,
   "id": "a2e923b0",
   "metadata": {
    "id": "a2e923b0"
   },
   "outputs": [],
   "source": [
    "token_index = create_token_index(requests)"
   ]
  },
  {
   "cell_type": "code",
   "execution_count": 18,
   "id": "4f33ece8",
   "metadata": {
    "id": "4f33ece8"
   },
   "outputs": [
    {
     "data": {
      "text/plain": [
       "11919"
      ]
     },
     "execution_count": 18,
     "metadata": {},
     "output_type": "execute_result"
    }
   ],
   "source": [
    "len(token_index)"
   ]
  },
  {
   "cell_type": "code",
   "execution_count": 19,
   "id": "4e89a3ea",
   "metadata": {
    "id": "4e89a3ea"
   },
   "outputs": [],
   "source": [
    "token_requests = tokenize(requests)"
   ]
  },
  {
   "cell_type": "code",
   "execution_count": 20,
   "id": "03f5107c",
   "metadata": {
    "id": "03f5107c"
   },
   "outputs": [
    {
     "data": {
      "text/plain": [
       "16"
      ]
     },
     "execution_count": 20,
     "metadata": {},
     "output_type": "execute_result"
    }
   ],
   "source": [
    "len(token_requests[1])"
   ]
  },
  {
   "cell_type": "code",
   "execution_count": 21,
   "id": "bbbe3710",
   "metadata": {
    "id": "bbbe3710"
   },
   "outputs": [
    {
     "data": {
      "text/plain": [
       "True"
      ]
     },
     "execution_count": 21,
     "metadata": {},
     "output_type": "execute_result"
    }
   ],
   "source": [
    "len(token_requests) == len(requests)"
   ]
  },
  {
   "cell_type": "code",
   "execution_count": 22,
   "id": "26660e94",
   "metadata": {
    "id": "26660e94"
   },
   "outputs": [
    {
     "name": "stdout",
     "output_type": "stream",
     "text": [
      "i ve been unemployed but working odd jobs i worked a job yesterday which i thought paid up front it did not now i m sitting at home dreaming of pizza literally i took a nap and dreamt there was pizza in my fridge but woke up to nothing but leftover pasta will pay forward when i get a chance \n",
      "[2, 2, 2, 256, 2, 257, 258, 259, 2, 260, 2, 148, 261, 2, 2, 84, 262, 2, 263, 2, 2, 2, 2, 2, 2, 264, 2, 265, 266, 2, 2, 267, 2, 268, 2, 269, 2, 270, 2, 2, 2, 2, 2, 271, 2, 272, 2, 2, 273, 2, 274, 275, 2, 145, 276, 2, 2, 44, 2, 53]\n",
      "# # # unemployed # working odd jobs # worked # job yesterday # # thought paid # front # # # # # # sitting # home dreaming # # literally # took # nap # dreamt # # # # # fridge # woke # # nothing # leftover pasta # pay forward # # get # chance\n"
     ]
    }
   ],
   "source": [
    "# Verify things are working as intended\n",
    "print(requests[10])\n",
    "print(token_requests[10])\n",
    "print(decode(token_requests[10]))"
   ]
  },
  {
   "cell_type": "code",
   "execution_count": 23,
   "id": "e495471b",
   "metadata": {
    "id": "e495471b"
   },
   "outputs": [],
   "source": [
    "token_id_list = list(token_index.values())"
   ]
  },
  {
   "cell_type": "code",
   "execution_count": null,
   "id": "hrXXYXTXzcU_",
   "metadata": {
    "id": "hrXXYXTXzcU_"
   },
   "outputs": [],
   "source": []
  },
  {
   "cell_type": "code",
   "execution_count": null,
   "id": "3ivmnPJOxioz",
   "metadata": {
    "id": "3ivmnPJOxioz"
   },
   "outputs": [],
   "source": []
  },
  {
   "cell_type": "code",
   "execution_count": 24,
   "id": "f2485bb6",
   "metadata": {
    "id": "f2485bb6"
   },
   "outputs": [],
   "source": [
    "def count_examples(token):\n",
    "    '''Counts the number of positive and negative examples containing token'''\n",
    "    pos_count = 0\n",
    "    neg_count = 0\n",
    "\n",
    "    # Loop through each request\n",
    "\n",
    "    for i in range(len(token_requests)):\n",
    "\n",
    "        if token in token_requests[i]:\n",
    "\n",
    "            # Add to positive example count\n",
    "            if Y[i] == True:\n",
    "                pos_count += 1\n",
    "\n",
    "            # Add to negative example count\n",
    "            if Y[i] == False:\n",
    "                neg_count += 1\n",
    "\n",
    "    return (pos_count, neg_count)"
   ]
  },
  {
   "cell_type": "code",
   "execution_count": 25,
   "id": "23124eb3",
   "metadata": {
    "id": "23124eb3"
   },
   "outputs": [
    {
     "data": {
      "text/plain": [
       "(75, 177)"
      ]
     },
     "execution_count": 25,
     "metadata": {},
     "output_type": "execute_result"
    }
   ],
   "source": [
    "count_examples(500)"
   ]
  },
  {
   "cell_type": "code",
   "execution_count": 26,
   "id": "2a2f5ef5",
   "metadata": {
    "id": "2a2f5ef5"
   },
   "outputs": [],
   "source": [
    "pos_count = []\n",
    "neg_count = []\n",
    "\n",
    "for token_id in token_id_list:\n",
    "    pos,neg = count_examples(token_id)\n",
    "    pos_count.append(pos)\n",
    "    neg_count.append(neg)"
   ]
  },
  {
   "cell_type": "code",
   "execution_count": 27,
   "id": "c05dff6f",
   "metadata": {
    "id": "c05dff6f"
   },
   "outputs": [],
   "source": [
    "d = {\n",
    "    'word': token_id_list,\n",
    "    'n_pos': pos_count,\n",
    "    'n_neg': neg_count\n",
    "}"
   ]
  },
  {
   "cell_type": "code",
   "execution_count": 28,
   "id": "3fbe23ab",
   "metadata": {
    "id": "3fbe23ab"
   },
   "outputs": [],
   "source": [
    "words_df = pd.DataFrame(d)"
   ]
  },
  {
   "cell_type": "code",
   "execution_count": 29,
   "id": "79fc8822",
   "metadata": {
    "id": "79fc8822"
   },
   "outputs": [],
   "source": [
    "clean_df = words_df[words_df.n_pos > 50]\n",
    "clean_df = clean_df[words_df.n_neg > 50]"
   ]
  },
  {
   "cell_type": "code",
   "execution_count": 30,
   "id": "f9c034dc",
   "metadata": {
    "id": "f9c034dc"
   },
   "outputs": [
    {
     "data": {
      "text/html": [
       "<div>\n",
       "<style scoped>\n",
       "    .dataframe tbody tr th:only-of-type {\n",
       "        vertical-align: middle;\n",
       "    }\n",
       "\n",
       "    .dataframe tbody tr th {\n",
       "        vertical-align: top;\n",
       "    }\n",
       "\n",
       "    .dataframe thead th {\n",
       "        text-align: right;\n",
       "    }\n",
       "</style>\n",
       "<table border=\"1\" class=\"dataframe\">\n",
       "  <thead>\n",
       "    <tr style=\"text-align: right;\">\n",
       "      <th></th>\n",
       "      <th>word</th>\n",
       "      <th>n_pos</th>\n",
       "      <th>n_neg</th>\n",
       "    </tr>\n",
       "  </thead>\n",
       "  <tbody>\n",
       "    <tr>\n",
       "      <th>369</th>\n",
       "      <td>370</td>\n",
       "      <td>160</td>\n",
       "      <td>378</td>\n",
       "    </tr>\n",
       "    <tr>\n",
       "      <th>261</th>\n",
       "      <td>262</td>\n",
       "      <td>157</td>\n",
       "      <td>328</td>\n",
       "    </tr>\n",
       "    <tr>\n",
       "      <th>71</th>\n",
       "      <td>72</td>\n",
       "      <td>156</td>\n",
       "      <td>470</td>\n",
       "    </tr>\n",
       "    <tr>\n",
       "      <th>36</th>\n",
       "      <td>37</td>\n",
       "      <td>144</td>\n",
       "      <td>303</td>\n",
       "    </tr>\n",
       "    <tr>\n",
       "      <th>35</th>\n",
       "      <td>36</td>\n",
       "      <td>144</td>\n",
       "      <td>379</td>\n",
       "    </tr>\n",
       "    <tr>\n",
       "      <th>434</th>\n",
       "      <td>435</td>\n",
       "      <td>136</td>\n",
       "      <td>342</td>\n",
       "    </tr>\n",
       "    <tr>\n",
       "      <th>335</th>\n",
       "      <td>336</td>\n",
       "      <td>131</td>\n",
       "      <td>288</td>\n",
       "    </tr>\n",
       "    <tr>\n",
       "      <th>21</th>\n",
       "      <td>22</td>\n",
       "      <td>129</td>\n",
       "      <td>365</td>\n",
       "    </tr>\n",
       "    <tr>\n",
       "      <th>253</th>\n",
       "      <td>254</td>\n",
       "      <td>129</td>\n",
       "      <td>303</td>\n",
       "    </tr>\n",
       "    <tr>\n",
       "      <th>34</th>\n",
       "      <td>35</td>\n",
       "      <td>126</td>\n",
       "      <td>335</td>\n",
       "    </tr>\n",
       "    <tr>\n",
       "      <th>3</th>\n",
       "      <td>4</td>\n",
       "      <td>126</td>\n",
       "      <td>284</td>\n",
       "    </tr>\n",
       "    <tr>\n",
       "      <th>131</th>\n",
       "      <td>132</td>\n",
       "      <td>122</td>\n",
       "      <td>260</td>\n",
       "    </tr>\n",
       "    <tr>\n",
       "      <th>204</th>\n",
       "      <td>205</td>\n",
       "      <td>120</td>\n",
       "      <td>319</td>\n",
       "    </tr>\n",
       "    <tr>\n",
       "      <th>393</th>\n",
       "      <td>394</td>\n",
       "      <td>117</td>\n",
       "      <td>252</td>\n",
       "    </tr>\n",
       "    <tr>\n",
       "      <th>251</th>\n",
       "      <td>252</td>\n",
       "      <td>117</td>\n",
       "      <td>300</td>\n",
       "    </tr>\n",
       "    <tr>\n",
       "      <th>403</th>\n",
       "      <td>404</td>\n",
       "      <td>114</td>\n",
       "      <td>333</td>\n",
       "    </tr>\n",
       "    <tr>\n",
       "      <th>162</th>\n",
       "      <td>163</td>\n",
       "      <td>114</td>\n",
       "      <td>292</td>\n",
       "    </tr>\n",
       "    <tr>\n",
       "      <th>370</th>\n",
       "      <td>371</td>\n",
       "      <td>114</td>\n",
       "      <td>214</td>\n",
       "    </tr>\n",
       "    <tr>\n",
       "      <th>155</th>\n",
       "      <td>156</td>\n",
       "      <td>112</td>\n",
       "      <td>258</td>\n",
       "    </tr>\n",
       "    <tr>\n",
       "      <th>441</th>\n",
       "      <td>442</td>\n",
       "      <td>111</td>\n",
       "      <td>311</td>\n",
       "    </tr>\n",
       "    <tr>\n",
       "      <th>15</th>\n",
       "      <td>16</td>\n",
       "      <td>110</td>\n",
       "      <td>217</td>\n",
       "    </tr>\n",
       "    <tr>\n",
       "      <th>134</th>\n",
       "      <td>135</td>\n",
       "      <td>110</td>\n",
       "      <td>310</td>\n",
       "    </tr>\n",
       "    <tr>\n",
       "      <th>48</th>\n",
       "      <td>49</td>\n",
       "      <td>109</td>\n",
       "      <td>258</td>\n",
       "    </tr>\n",
       "    <tr>\n",
       "      <th>146</th>\n",
       "      <td>147</td>\n",
       "      <td>108</td>\n",
       "      <td>231</td>\n",
       "    </tr>\n",
       "    <tr>\n",
       "      <th>264</th>\n",
       "      <td>265</td>\n",
       "      <td>102</td>\n",
       "      <td>255</td>\n",
       "    </tr>\n",
       "  </tbody>\n",
       "</table>\n",
       "</div>"
      ],
      "text/plain": [
       "     word  n_pos  n_neg\n",
       "369   370    160    378\n",
       "261   262    157    328\n",
       "71     72    156    470\n",
       "36     37    144    303\n",
       "35     36    144    379\n",
       "434   435    136    342\n",
       "335   336    131    288\n",
       "21     22    129    365\n",
       "253   254    129    303\n",
       "34     35    126    335\n",
       "3       4    126    284\n",
       "131   132    122    260\n",
       "204   205    120    319\n",
       "393   394    117    252\n",
       "251   252    117    300\n",
       "403   404    114    333\n",
       "162   163    114    292\n",
       "370   371    114    214\n",
       "155   156    112    258\n",
       "441   442    111    311\n",
       "15     16    110    217\n",
       "134   135    110    310\n",
       "48     49    109    258\n",
       "146   147    108    231\n",
       "264   265    102    255"
      ]
     },
     "execution_count": 30,
     "metadata": {},
     "output_type": "execute_result"
    }
   ],
   "source": [
    "clean_df.sort_values('n_pos', ascending = False)[25:50]"
   ]
  },
  {
   "cell_type": "code",
   "execution_count": 31,
   "id": "b6402c62",
   "metadata": {
    "id": "b6402c62"
   },
   "outputs": [
    {
     "data": {
      "text/plain": [
       "'since'"
      ]
     },
     "execution_count": 31,
     "metadata": {},
     "output_type": "execute_result"
    }
   ],
   "source": [
    "decode([49])"
   ]
  },
  {
   "cell_type": "code",
   "execution_count": 32,
   "id": "237b9373",
   "metadata": {
    "id": "237b9373"
   },
   "outputs": [],
   "source": [
    "padded_token_requests = pad_data(token_requests, 100)"
   ]
  },
  {
   "cell_type": "code",
   "execution_count": 33,
   "id": "029cdb99",
   "metadata": {
    "id": "029cdb99"
   },
   "outputs": [],
   "source": [
    "reduced_token_requests = limit_vocab(padded_token_requests, max_token_id=5000)"
   ]
  },
  {
   "cell_type": "code",
   "execution_count": 34,
   "id": "38aa7df3",
   "metadata": {
    "id": "38aa7df3"
   },
   "outputs": [],
   "source": [
    "reduced_one_hot = tf.keras.utils.to_categorical(reduced_token_requests)"
   ]
  },
  {
   "cell_type": "code",
   "execution_count": 35,
   "id": "078a1647",
   "metadata": {
    "id": "078a1647"
   },
   "outputs": [
    {
     "data": {
      "text/plain": [
       "4040"
      ]
     },
     "execution_count": 35,
     "metadata": {},
     "output_type": "execute_result"
    }
   ],
   "source": [
    "len(reduced_one_hot)"
   ]
  },
  {
   "cell_type": "code",
   "execution_count": 36,
   "id": "f0c056c2",
   "metadata": {
    "id": "f0c056c2"
   },
   "outputs": [],
   "source": [
    "X_train = reduced_one_hot[:3636]\n",
    "Y_train = Y[:3636]\n",
    "X_test = reduced_one_hot[3636:]\n",
    "Y_test = Y[3636:]"
   ]
  },
  {
   "cell_type": "code",
   "execution_count": 37,
   "id": "b269iEfcy9VW",
   "metadata": {
    "colab": {
     "base_uri": "https://localhost:8080/"
    },
    "id": "b269iEfcy9VW",
    "outputId": "64e11560-edb2-424b-899e-38fa7dadcfb9"
   },
   "outputs": [
    {
     "data": {
      "text/plain": [
       "(3636, 100, 5000)"
      ]
     },
     "execution_count": 37,
     "metadata": {},
     "output_type": "execute_result"
    }
   ],
   "source": [
    "X_train.shape"
   ]
  },
  {
   "cell_type": "code",
   "execution_count": 38,
   "id": "d6fe5804",
   "metadata": {
    "id": "d6fe5804"
   },
   "outputs": [],
   "source": [
    "def plot_history(history):\n",
    "  plt.ylabel('Loss')\n",
    "  plt.xlabel('Epoch')\n",
    "  plt.xticks(range(0, len(history['loss'] + 1)))\n",
    "  plt.plot(history['loss'], label=\"training\", marker='o')\n",
    "  plt.plot(history['val_loss'], label=\"validation\", marker='o')\n",
    "  plt.legend()\n",
    "  plt.show()"
   ]
  },
  {
   "cell_type": "code",
   "execution_count": 39,
   "id": "c20490df",
   "metadata": {
    "id": "c20490df"
   },
   "outputs": [],
   "source": [
    "def build_onehot_model3(average_over_positions=False):\n",
    "  \"\"\"Build a tf.keras model for one-hot data.\"\"\"\n",
    "  # Clear session and remove randomness.\n",
    "  tf.keras.backend.clear_session()\n",
    "  tf.random.set_seed(0)\n",
    "\n",
    "  model = tf.keras.Sequential()\n",
    "  if average_over_positions:\n",
    "    # This layer averages over the first dimension of the input by default.\n",
    "    model.add(tf.keras.layers.GlobalAveragePooling1D())\n",
    "  else:\n",
    "    # Concatenate.\n",
    "    model.add(tf.keras.layers.Flatten())\n",
    "  model.add(tf.keras.layers.Dense(\n",
    "      units=1,                     # output dim (for binary classification)\n",
    "      activation=\"sigmoid\"         # sigmoid activation for classification\n",
    "  ))\n",
    "\n",
    "  model.compile(loss=tf.keras.losses.BinaryCrossentropy(),\n",
    "                optimizer=tf.keras.optimizers.Adam(learning_rate=.01),\n",
    "                metrics=[tf.keras.metrics.BinaryAccuracy()])\n",
    "\n",
    "  return model"
   ]
  },
  {
   "cell_type": "code",
   "execution_count": 40,
   "id": "ae1db4bf",
   "metadata": {
    "id": "ae1db4bf"
   },
   "outputs": [
    {
     "name": "stderr",
     "output_type": "stream",
     "text": [
      "WARNING:absl:At this time, the v2.11+ optimizer `tf.keras.optimizers.Adam` runs slowly on M1/M2 Macs, please use the legacy Keras optimizer instead, located at `tf.keras.optimizers.legacy.Adam`.\n",
      "WARNING:absl:There is a known slowdown when using v2.11+ Keras optimizers on M1/M2 Macs. Falling back to the legacy Keras optimizer, i.e., `tf.keras.optimizers.legacy.Adam`.\n"
     ]
    }
   ],
   "source": [
    "model5 = build_onehot_model3(average_over_positions=False)"
   ]
  },
  {
   "cell_type": "code",
   "execution_count": 41,
   "id": "bplzPLLfoVAH",
   "metadata": {
    "colab": {
     "base_uri": "https://localhost:8080/",
     "height": 990
    },
    "id": "bplzPLLfoVAH",
    "outputId": "126b3c4c-9d37-486a-c9f4-22f8f7e25d44"
   },
   "outputs": [
    {
     "name": "stdout",
     "output_type": "stream",
     "text": [
      "Epoch 1/15\n",
      "52/52 [==============================] - 3s 46ms/step - loss: 0.6217 - binary_accuracy: 0.7521 - val_loss: 0.5446 - val_binary_accuracy: 0.7720\n",
      "Epoch 2/15\n",
      "52/52 [==============================] - 1s 23ms/step - loss: 0.4503 - binary_accuracy: 0.8264 - val_loss: 0.5593 - val_binary_accuracy: 0.7637\n",
      "Epoch 3/15\n",
      "52/52 [==============================] - 1s 22ms/step - loss: 0.4079 - binary_accuracy: 0.8331 - val_loss: 0.5752 - val_binary_accuracy: 0.7473\n",
      "Epoch 4/15\n",
      "52/52 [==============================] - 1s 21ms/step - loss: 0.3919 - binary_accuracy: 0.8359 - val_loss: 0.5853 - val_binary_accuracy: 0.7418\n",
      "Epoch 5/15\n",
      "52/52 [==============================] - 1s 22ms/step - loss: 0.3854 - binary_accuracy: 0.8371 - val_loss: 0.5941 - val_binary_accuracy: 0.7445\n",
      "Epoch 6/15\n",
      "52/52 [==============================] - 1s 22ms/step - loss: 0.3807 - binary_accuracy: 0.8395 - val_loss: 0.5923 - val_binary_accuracy: 0.7555\n",
      "Epoch 7/15\n",
      "52/52 [==============================] - 1s 21ms/step - loss: 0.3777 - binary_accuracy: 0.8389 - val_loss: 0.6169 - val_binary_accuracy: 0.7253\n",
      "Epoch 8/15\n",
      "52/52 [==============================] - 1s 21ms/step - loss: 0.3756 - binary_accuracy: 0.8383 - val_loss: 0.6591 - val_binary_accuracy: 0.6841\n",
      "Epoch 9/15\n",
      "52/52 [==============================] - 1s 21ms/step - loss: 0.3757 - binary_accuracy: 0.8383 - val_loss: 0.6198 - val_binary_accuracy: 0.7253\n",
      "Epoch 10/15\n",
      "52/52 [==============================] - 1s 21ms/step - loss: 0.3727 - binary_accuracy: 0.8402 - val_loss: 0.6195 - val_binary_accuracy: 0.7390\n",
      "Epoch 11/15\n",
      "52/52 [==============================] - 1s 21ms/step - loss: 0.3717 - binary_accuracy: 0.8405 - val_loss: 0.6341 - val_binary_accuracy: 0.7335\n",
      "Epoch 12/15\n",
      "52/52 [==============================] - 1s 21ms/step - loss: 0.3716 - binary_accuracy: 0.8405 - val_loss: 0.6370 - val_binary_accuracy: 0.7527\n",
      "Epoch 13/15\n",
      "52/52 [==============================] - 1s 22ms/step - loss: 0.3705 - binary_accuracy: 0.8405 - val_loss: 0.6367 - val_binary_accuracy: 0.7445\n",
      "Epoch 14/15\n",
      "52/52 [==============================] - 1s 21ms/step - loss: 0.3700 - binary_accuracy: 0.8402 - val_loss: 0.6376 - val_binary_accuracy: 0.7363\n",
      "Epoch 15/15\n",
      "52/52 [==============================] - 1s 21ms/step - loss: 0.3695 - binary_accuracy: 0.8405 - val_loss: 0.6526 - val_binary_accuracy: 0.7527\n"
     ]
    },
    {
     "data": {
      "image/png": "[encoded data removed]",
      "text/plain": [
       "<Figure size 640x480 with 1 Axes>"
      ]
     },
     "metadata": {},
     "output_type": "display_data"
    }
   ],
   "source": [
    "history5 = model5.fit(\n",
    "  x = X_train,  # one-hot training data\n",
    "  y = Y_train,          # corresponding binary labels\n",
    "  epochs=15,             # number of passes through the training data\n",
    "  batch_size=64,        # mini-batch size\n",
    "  validation_split=0.1, # use a fraction of the examples for validation\n",
    "  verbose=1             # display some progress output during training\n",
    "  )\n",
    "\n",
    "# Convert the return value into a DataFrame so we can see the train loss\n",
    "# and binary accuracy after every epoch.\n",
    "history5 = pd.DataFrame(history5.history)\n",
    "plot_history(history5)"
   ]
  },
  {
   "cell_type": "code",
   "execution_count": 42,
   "id": "j9OZd5fpoYV9",
   "metadata": {
    "colab": {
     "base_uri": "https://localhost:8080/",
     "height": 218
    },
    "id": "j9OZd5fpoYV9",
    "outputId": "41b19656-bcc2-473f-ea04-98210feaa9a5"
   },
   "outputs": [
    {
     "name": "stdout",
     "output_type": "stream",
     "text": [
      "114/114 [==============================] - 2s 13ms/step\n"
     ]
    },
    {
     "data": {
      "text/plain": [
       "array([[2739,    7],\n",
       "       [ 603,  287]])"
      ]
     },
     "execution_count": 42,
     "metadata": {},
     "output_type": "execute_result"
    }
   ],
   "source": [
    "probabilities = model5.predict(X_train)\n",
    "threshold = 0.5\n",
    "binary_predictions = (probabilities > threshold).astype(int)\n",
    "confusion_matrix(Y_train, binary_predictions)"
   ]
  },
  {
   "cell_type": "code",
   "execution_count": 43,
   "id": "62f7c49e-1013-47ce-a633-71cd51e226f8",
   "metadata": {},
   "outputs": [
    {
     "data": {
      "image/png": "[encoded data removed]",
      "text/plain": [
       "<Figure size 640x480 with 2 Axes>"
      ]
     },
     "metadata": {},
     "output_type": "display_data"
    }
   ],
   "source": [
    "\n",
    "\n",
    "cm = confusion_matrix(Y_train, binary_predictions)\n",
    "disp = ConfusionMatrixDisplay(confusion_matrix=cm)\n",
    "disp.plot()\n",
    "plt.show()"
   ]
  },
  {
   "cell_type": "code",
   "execution_count": 44,
   "id": "929e1385",
   "metadata": {
    "id": "929e1385"
   },
   "outputs": [],
   "source": [
    "#print ('Accuracy:', forest.score(vocab_train, train_labels))"
   ]
  },
  {
   "cell_type": "code",
   "execution_count": 45,
   "id": "175c8e67",
   "metadata": {
    "id": "175c8e67"
   },
   "outputs": [],
   "source": [
    "# Store the columns that are usable for the predictions\n",
    "test_features = list(test_data.columns)\n",
    "\n",
    "X = training_data[training_data.columns[training_data.columns.isin(test_features)]]\n",
    "Y = training_data['requester_received_pizza']\n",
    "\n",
    "train_data, train_labels = X[:3609], Y[:3609]\n",
    "val_data, val_labels = X[3609:], Y[3609:]"
   ]
  },
  {
   "cell_type": "code",
   "execution_count": 46,
   "id": "621db48b",
   "metadata": {
    "id": "621db48b"
   },
   "outputs": [],
   "source": [
    "test_data['request_text_edit_aware'] = test_data['request_text_edit_aware'].apply(preprocessor)"
   ]
  },
  {
   "cell_type": "code",
   "execution_count": 47,
   "id": "j58WcynE0HET",
   "metadata": {
    "id": "j58WcynE0HET"
   },
   "outputs": [],
   "source": [
    "test_requests = test_data['request_text_edit_aware']"
   ]
  },
  {
   "cell_type": "code",
   "execution_count": 48,
   "id": "cU20q_Bq0S4Z",
   "metadata": {
    "id": "cU20q_Bq0S4Z"
   },
   "outputs": [],
   "source": [
    "token_index = create_token_index(test_requests)"
   ]
  },
  {
   "cell_type": "code",
   "execution_count": 49,
   "id": "ab83d4iC0ZKP",
   "metadata": {
    "id": "ab83d4iC0ZKP"
   },
   "outputs": [],
   "source": [
    "test_token_requests = tokenize(test_requests)"
   ]
  },
  {
   "cell_type": "code",
   "execution_count": 50,
   "id": "3AP-hdYj1Iin",
   "metadata": {
    "id": "3AP-hdYj1Iin"
   },
   "outputs": [],
   "source": [
    "test_padded_token_requests = pad_data(test_token_requests, 100)"
   ]
  },
  {
   "cell_type": "code",
   "execution_count": 51,
   "id": "5IT8ubew1WV6",
   "metadata": {
    "id": "5IT8ubew1WV6"
   },
   "outputs": [],
   "source": [
    "test_reduced_token_requests = limit_vocab(test_padded_token_requests, max_token_id=5000)"
   ]
  },
  {
   "cell_type": "code",
   "execution_count": 52,
   "id": "bzDJupJV1bon",
   "metadata": {
    "id": "bzDJupJV1bon"
   },
   "outputs": [],
   "source": [
    "test_reduced_one_hot = tf.keras.utils.to_categorical(test_reduced_token_requests)"
   ]
  },
  {
   "cell_type": "code",
   "execution_count": 53,
   "id": "bHYDAkFN1l2-",
   "metadata": {
    "colab": {
     "base_uri": "https://localhost:8080/"
    },
    "id": "bHYDAkFN1l2-",
    "outputId": "3fe45586-e2a5-4dc0-ac4c-a0deab1724b2"
   },
   "outputs": [
    {
     "data": {
      "text/plain": [
       "(1631, 100, 5000)"
      ]
     },
     "execution_count": 53,
     "metadata": {},
     "output_type": "execute_result"
    }
   ],
   "source": [
    "test_reduced_one_hot.shape"
   ]
  },
  {
   "cell_type": "code",
   "execution_count": 54,
   "id": "8ls-lB9a2CUy",
   "metadata": {
    "id": "8ls-lB9a2CUy"
   },
   "outputs": [],
   "source": [
    "Y2 = training_data['requester_received_pizza']"
   ]
  },
  {
   "cell_type": "code",
   "execution_count": 55,
   "id": "6ZZnaR6v1sVl",
   "metadata": {
    "id": "6ZZnaR6v1sVl"
   },
   "outputs": [],
   "source": [
    "X_test = test_reduced_one_hot[:3636]\n",
    "Y_test = Y2[:3636]"
   ]
  },
  {
   "cell_type": "code",
   "execution_count": 56,
   "id": "pI85FDfc2Nmj",
   "metadata": {
    "colab": {
     "base_uri": "https://localhost:8080/"
    },
    "id": "pI85FDfc2Nmj",
    "outputId": "2aad068e-adc0-478c-a692-5c9e3f7d6cdd"
   },
   "outputs": [
    {
     "data": {
      "text/plain": [
       "(1631, 100, 5000)"
      ]
     },
     "execution_count": 56,
     "metadata": {},
     "output_type": "execute_result"
    }
   ],
   "source": [
    "X_test.shape"
   ]
  },
  {
   "cell_type": "code",
   "execution_count": 57,
   "id": "810f39b5-e624-432b-a1b5-9946049e3b66",
   "metadata": {},
   "outputs": [
    {
     "name": "stdout",
     "output_type": "stream",
     "text": [
      "51/51 [==============================] - 1s 12ms/step\n"
     ]
    }
   ],
   "source": [
    "test_probabilities = model5.predict(X_test)\n",
    "threshold = 0.5\n",
    "test_binary_predictions = (test_probabilities > threshold).astype(int)"
   ]
  },
  {
   "cell_type": "code",
   "execution_count": 58,
   "id": "RuhYbp_C2Rd7",
   "metadata": {
    "colab": {
     "base_uri": "https://localhost:8080/",
     "height": 166
    },
    "id": "RuhYbp_C2Rd7",
    "outputId": "fca2ab52-59b4-4972-86af-ed1fce16d6d6"
   },
   "outputs": [
    {
     "name": "stdout",
     "output_type": "stream",
     "text": [
      "51/51 [==============================] - 1s 12ms/step\n"
     ]
    }
   ],
   "source": [
    "predictions = model5.predict(X_test)"
   ]
  },
  {
   "cell_type": "code",
   "execution_count": 59,
   "id": "edfeb857-47b4-4de7-9e95-e7c7668d6270",
   "metadata": {},
   "outputs": [
    {
     "data": {
      "text/plain": [
       "array([[0],\n",
       "       [0],\n",
       "       [0],\n",
       "       ...,\n",
       "       [0],\n",
       "       [0],\n",
       "       [0]])"
      ]
     },
     "execution_count": 59,
     "metadata": {},
     "output_type": "execute_result"
    }
   ],
   "source": [
    "test_binary_predictions"
   ]
  },
  {
   "cell_type": "code",
   "execution_count": 60,
   "id": "6Nymx8Wt2d8c",
   "metadata": {
    "id": "6Nymx8Wt2d8c"
   },
   "outputs": [],
   "source": [
    "# function to create dataframe\n",
    "def get_submission_csv(predictions):\n",
    "    test_ids = test_data['request_id']\n",
    "\n",
    "    d = {'request_id': test_ids,\n",
    "    'requester_received_pizza': predictions}\n",
    "\n",
    "    df = pd.DataFrame(data=d)\n",
    "    df['requester_received_pizza'] = df['requester_received_pizza'].astype(int)\n",
    "\n",
    "    return df"
   ]
  },
  {
   "cell_type": "code",
   "execution_count": 61,
   "id": "tvmBB6ib2-Cl",
   "metadata": {
    "colab": {
     "base_uri": "https://localhost:8080/",
     "height": 236
    },
    "id": "tvmBB6ib2-Cl",
    "outputId": "7d89e405-6308-4eeb-a332-d83b8576cd78"
   },
   "outputs": [],
   "source": [
    "# flatten predictions\n",
    "test_predictions_flat = test_binary_predictions.flatten()\n",
    "\n",
    "# create dataframe using function\n",
    "test_predictions_df = get_submission_csv(test_predictions_flat)\n",
    "\n",
    "# create csv from dataframe\n",
    "test_predictions_df.to_csv('one_hot_model_predictions.csv', index=False)"
   ]
  },
  {
   "cell_type": "code",
   "execution_count": 62,
   "id": "JKuZ9eWX3BcL",
   "metadata": {
    "id": "JKuZ9eWX3BcL"
   },
   "outputs": [
    {
     "data": {
      "text/plain": [
       "requester_received_pizza\n",
       "0    1564\n",
       "1      67\n",
       "Name: count, dtype: int64"
      ]
     },
     "execution_count": 62,
     "metadata": {},
     "output_type": "execute_result"
    }
   ],
   "source": [
    "test_predictions_df['requester_received_pizza'].value_counts()"
   ]
  },
  {
   "cell_type": "code",
   "execution_count": 63,
   "id": "03fb217e-ac1e-468f-8f30-9369d2c6d5b4",
   "metadata": {},
   "outputs": [
    {
     "data": {
      "text/html": [
       "<div>\n",
       "<style scoped>\n",
       "    .dataframe tbody tr th:only-of-type {\n",
       "        vertical-align: middle;\n",
       "    }\n",
       "\n",
       "    .dataframe tbody tr th {\n",
       "        vertical-align: top;\n",
       "    }\n",
       "\n",
       "    .dataframe thead th {\n",
       "        text-align: right;\n",
       "    }\n",
       "</style>\n",
       "<table border=\"1\" class=\"dataframe\">\n",
       "  <thead>\n",
       "    <tr style=\"text-align: right;\">\n",
       "      <th></th>\n",
       "      <th>request_id</th>\n",
       "      <th>requester_received_pizza</th>\n",
       "    </tr>\n",
       "  </thead>\n",
       "  <tbody>\n",
       "    <tr>\n",
       "      <th>22</th>\n",
       "      <td>t3_idld7</td>\n",
       "      <td>1</td>\n",
       "    </tr>\n",
       "    <tr>\n",
       "      <th>94</th>\n",
       "      <td>t3_hz1m5</td>\n",
       "      <td>1</td>\n",
       "    </tr>\n",
       "    <tr>\n",
       "      <th>95</th>\n",
       "      <td>t3_119agf</td>\n",
       "      <td>1</td>\n",
       "    </tr>\n",
       "    <tr>\n",
       "      <th>99</th>\n",
       "      <td>t3_1mwaf9</td>\n",
       "      <td>1</td>\n",
       "    </tr>\n",
       "    <tr>\n",
       "      <th>193</th>\n",
       "      <td>t3_m0vt8</td>\n",
       "      <td>1</td>\n",
       "    </tr>\n",
       "    <tr>\n",
       "      <th>...</th>\n",
       "      <td>...</td>\n",
       "      <td>...</td>\n",
       "    </tr>\n",
       "    <tr>\n",
       "      <th>1488</th>\n",
       "      <td>t3_juayz</td>\n",
       "      <td>1</td>\n",
       "    </tr>\n",
       "    <tr>\n",
       "      <th>1520</th>\n",
       "      <td>t3_r7odh</td>\n",
       "      <td>1</td>\n",
       "    </tr>\n",
       "    <tr>\n",
       "      <th>1562</th>\n",
       "      <td>t3_12124d</td>\n",
       "      <td>1</td>\n",
       "    </tr>\n",
       "    <tr>\n",
       "      <th>1597</th>\n",
       "      <td>t3_iregv</td>\n",
       "      <td>1</td>\n",
       "    </tr>\n",
       "    <tr>\n",
       "      <th>1607</th>\n",
       "      <td>t3_ihhbr</td>\n",
       "      <td>1</td>\n",
       "    </tr>\n",
       "  </tbody>\n",
       "</table>\n",
       "<p>67 rows × 2 columns</p>\n",
       "</div>"
      ],
      "text/plain": [
       "     request_id  requester_received_pizza\n",
       "22     t3_idld7                         1\n",
       "94     t3_hz1m5                         1\n",
       "95    t3_119agf                         1\n",
       "99    t3_1mwaf9                         1\n",
       "193    t3_m0vt8                         1\n",
       "...         ...                       ...\n",
       "1488   t3_juayz                         1\n",
       "1520   t3_r7odh                         1\n",
       "1562  t3_12124d                         1\n",
       "1597   t3_iregv                         1\n",
       "1607   t3_ihhbr                         1\n",
       "\n",
       "[67 rows x 2 columns]"
      ]
     },
     "execution_count": 63,
     "metadata": {},
     "output_type": "execute_result"
    }
   ],
   "source": [
    "test_predictions_df[test_predictions_df['requester_received_pizza'] == 1]"
   ]
  }
 ],
 "metadata": {
  "colab": {
   "provenance": []
  },
  "kernelspec": {
   "display_name": "Python 3 (ipykernel)",
   "language": "python",
   "name": "python3"
  },
  "language_info": {
   "codemirror_mode": {
    "name": "ipython",
    "version": 3
   },
   "file_extension": ".py",
   "mimetype": "text/x-python",
   "name": "python",
   "nbconvert_exporter": "python",
   "pygments_lexer": "ipython3",
   "version": "3.9.16"
  }
 },
 "nbformat": 4,
 "nbformat_minor": 5
}
