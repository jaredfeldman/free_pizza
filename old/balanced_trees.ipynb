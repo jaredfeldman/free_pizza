{
 "cells": [
  {
   "cell_type": "code",
   "execution_count": 1,
   "id": "61076729",
   "metadata": {},
   "outputs": [],
   "source": [
    "#package imports\n",
    "\n",
    "import pandas as pd\n",
    "import numpy as np\n",
    "import matplotlib.pyplot as plt\n",
    "import seaborn as sns\n",
    "\n",
    "import tensorflow as tf\n",
    "from sklearn import tree\n",
    "from sklearn.tree import DecisionTreeClassifier\n",
    "from sklearn.ensemble import RandomForestClassifier\n",
    "from sklearn.metrics import confusion_matrix\n",
    "from sklearn.metrics import classification_report\n",
    "from sklearn import datasets\n",
    "from tensorflow import keras\n",
    "from keras import metrics\n",
    "tf.get_logger().setLevel('INFO')\n",
    "\n",
    "import warnings\n",
    "warnings.filterwarnings(\"ignore\")"
   ]
  },
  {
   "cell_type": "code",
   "execution_count": 2,
   "id": "29c4bbde",
   "metadata": {},
   "outputs": [],
   "source": [
    "# Load data\n",
    "training_data = pd.read_json(\"train.json\")\n",
    "test_data = pd.read_json(\"test.json\")"
   ]
  },
  {
   "cell_type": "code",
   "execution_count": 3,
   "id": "07841db9",
   "metadata": {},
   "outputs": [
    {
     "data": {
      "text/plain": [
       "Index(['giver_username_if_known',\n",
       "       'number_of_downvotes_of_request_at_retrieval',\n",
       "       'number_of_upvotes_of_request_at_retrieval', 'post_was_edited',\n",
       "       'request_id', 'request_number_of_comments_at_retrieval', 'request_text',\n",
       "       'request_text_edit_aware', 'request_title',\n",
       "       'requester_account_age_in_days_at_request',\n",
       "       'requester_account_age_in_days_at_retrieval',\n",
       "       'requester_days_since_first_post_on_raop_at_request',\n",
       "       'requester_days_since_first_post_on_raop_at_retrieval',\n",
       "       'requester_number_of_comments_at_request',\n",
       "       'requester_number_of_comments_at_retrieval',\n",
       "       'requester_number_of_comments_in_raop_at_request',\n",
       "       'requester_number_of_comments_in_raop_at_retrieval',\n",
       "       'requester_number_of_posts_at_request',\n",
       "       'requester_number_of_posts_at_retrieval',\n",
       "       'requester_number_of_posts_on_raop_at_request',\n",
       "       'requester_number_of_posts_on_raop_at_retrieval',\n",
       "       'requester_number_of_subreddits_at_request', 'requester_received_pizza',\n",
       "       'requester_subreddits_at_request',\n",
       "       'requester_upvotes_minus_downvotes_at_request',\n",
       "       'requester_upvotes_minus_downvotes_at_retrieval',\n",
       "       'requester_upvotes_plus_downvotes_at_request',\n",
       "       'requester_upvotes_plus_downvotes_at_retrieval', 'requester_user_flair',\n",
       "       'requester_username', 'unix_timestamp_of_request',\n",
       "       'unix_timestamp_of_request_utc'],\n",
       "      dtype='object')"
      ]
     },
     "execution_count": 3,
     "metadata": {},
     "output_type": "execute_result"
    }
   ],
   "source": [
    "training_data.columns"
   ]
  },
  {
   "cell_type": "code",
   "execution_count": 4,
   "id": "010079e1",
   "metadata": {},
   "outputs": [],
   "source": [
    "# Separate success/fail sets\n",
    "pizza = training_data[training_data['requester_received_pizza'] == True]\n",
    "no_pizza = training_data[training_data['requester_received_pizza'] == False]\n",
    "no_pizza_short = no_pizza[:len(pizza)]\n",
    "\n",
    "# Create new dataframe with equal outcomes\n",
    "new_train = pd.concat([pizza, no_pizza_short], axis = 0)\n",
    "new_train = new_train.sample(frac=1) # shuffle\n",
    "new_train.reset_index()\n",
    "new_train['requester_received_pizza'] = new_train['requester_received_pizza'].astype(int) # boolean to 0/1\n",
    "\n",
    "# Split data and set the appropriate columns\n",
    "test_features = test_data.columns\n",
    "Y = new_train['requester_received_pizza']\n",
    "X = new_train[training_data.columns[training_data.columns.isin(test_features)]]\n",
    "\n",
    "# Split for train and validation\n",
    "val_split = int(len(new_train) * 0.9)\n",
    "train_data, train_labels = X[:val_split], Y[:val_split]\n",
    "val_data, val_labels = X[val_split:], Y[val_split:]\n",
    "\n",
    "\n",
    "# Get only request text\n",
    "train_requests = train_data['request_text_edit_aware'].str.lower().tolist()\n",
    "val_requests = val_data['request_text_edit_aware'].str.lower().tolist()"
   ]
  },
  {
   "cell_type": "markdown",
   "id": "c88c9fe5",
   "metadata": {},
   "source": [
    "## One-hot encoding for the data"
   ]
  },
  {
   "cell_type": "code",
   "execution_count": 5,
   "id": "a28c316c",
   "metadata": {},
   "outputs": [],
   "source": [
    "money = ['money',\n",
    "        'rent',\n",
    "        'broke',\n",
    "        'paid',\n",
    "        'spent',\n",
    "        'rent',\n",
    "        'bills',\n",
    "        'paycheck',\n",
    "        'accident',\n",
    "        'payment',\n",
    "         'struggle',\n",
    "         'landlord',\n",
    "         'debt',\n",
    "         'unexpected',\n",
    "         'dollars',\n",
    "         'budget',\n",
    "         'stamps',\n",
    "         'medical',\n",
    "         'hospital',\n",
    "         'check',\n",
    "         'month',\n",
    "         'week',\n",
    "         'accident',\n",
    "         'car'\n",
    "        ]\n",
    "\n",
    "hunger = ['food',\n",
    "        'hungry',\n",
    "        'starving',\n",
    "        'starve',\n",
    "        'empty',\n",
    "        'ramen',\n",
    "        'nothing',\n",
    "         'eaten',\n",
    "         'belly',\n",
    "         'stomach',\n",
    "         'fridge',\n",
    "         'cupboard',\n",
    "         'leftovers',\n",
    "         'groceries',\n",
    "         'pantry',\n",
    "         'meal']\n",
    "\n",
    "unemployed = ['job',\n",
    "            'work',\n",
    "            'unemployed',\n",
    "             'laid off',\n",
    "             'fired',\n",
    "             'grad']\n",
    "\n",
    "gratitude = ['thank',\n",
    "             'kind',\n",
    "             'pay it forward',\n",
    "             'give back',\n",
    "            'sincere',\n",
    "            'help',\n",
    "            'promise',\n",
    "            'appreciate']"
   ]
  },
  {
   "cell_type": "code",
   "execution_count": 6,
   "id": "73bd24a9",
   "metadata": {},
   "outputs": [],
   "source": [
    "def encode_one_hot(text, data):\n",
    "    one_hot = []\n",
    "    requests = data['request_text_edit_aware'].str.lower().tolist()\n",
    "    \n",
    "    for i in range(len(data)):\n",
    "        check = []\n",
    "\n",
    "        for word in text:\n",
    "            if word in requests[i]:\n",
    "                check.append(True)\n",
    "                break\n",
    "            else:\n",
    "                check.append(False)\n",
    "            \n",
    "        if any(check):\n",
    "            one_hot.append(1)\n",
    "        else:\n",
    "            one_hot.append(0)\n",
    "\n",
    "    \n",
    "    return one_hot"
   ]
  },
  {
   "cell_type": "code",
   "execution_count": 7,
   "id": "d8bb8824",
   "metadata": {},
   "outputs": [],
   "source": [
    "money_req = encode_one_hot(money, train_data)\n",
    "train_data['money'] = money_req"
   ]
  },
  {
   "cell_type": "code",
   "execution_count": 8,
   "id": "3225b415",
   "metadata": {},
   "outputs": [],
   "source": [
    "hunger_req = encode_one_hot(hunger, train_data)\n",
    "train_data['hungry'] = hunger_req"
   ]
  },
  {
   "cell_type": "code",
   "execution_count": 9,
   "id": "2a6522f3",
   "metadata": {},
   "outputs": [],
   "source": [
    "unemployed_req = encode_one_hot(unemployed, train_data)\n",
    "train_data['job'] = unemployed_req"
   ]
  },
  {
   "cell_type": "code",
   "execution_count": 10,
   "id": "f35e34ca",
   "metadata": {},
   "outputs": [],
   "source": [
    "gratitude_req = encode_one_hot(gratitude, train_data)\n",
    "train_data['thanks'] = gratitude_req"
   ]
  },
  {
   "cell_type": "code",
   "execution_count": 11,
   "id": "5e26d6a2",
   "metadata": {},
   "outputs": [],
   "source": [
    "money_req = encode_one_hot(money, val_data)\n",
    "val_data['money'] = money_req"
   ]
  },
  {
   "cell_type": "code",
   "execution_count": 12,
   "id": "19fc57c6",
   "metadata": {},
   "outputs": [],
   "source": [
    "hunger_req = encode_one_hot(hunger, val_data)\n",
    "val_data['hungry'] = hunger_req"
   ]
  },
  {
   "cell_type": "code",
   "execution_count": 13,
   "id": "734571a9",
   "metadata": {},
   "outputs": [],
   "source": [
    "unemployed_req = encode_one_hot(unemployed, val_data)\n",
    "val_data['job'] = unemployed_req"
   ]
  },
  {
   "cell_type": "code",
   "execution_count": 14,
   "id": "325a9733",
   "metadata": {},
   "outputs": [],
   "source": [
    "gratitude_req = encode_one_hot(gratitude, val_data)\n",
    "val_data['thanks'] = gratitude_req"
   ]
  },
  {
   "cell_type": "code",
   "execution_count": 15,
   "id": "b267eaff",
   "metadata": {},
   "outputs": [],
   "source": [
    "# Use only specific features\n",
    "tree_features = ['requester_account_age_in_days_at_request',\n",
    "                'requester_number_of_comments_in_raop_at_request',\n",
    "                'requester_upvotes_plus_downvotes_at_request',\n",
    "                'money',\n",
    "                'hungry',\n",
    "                'thanks',\n",
    "                'job']\n",
    "\n",
    "tr_train = train_data[train_data.columns[train_data.columns.isin(tree_features)]]\n",
    "tr_val = val_data[val_data.columns[val_data.columns.isin(tree_features)]]"
   ]
  },
  {
   "cell_type": "code",
   "execution_count": 16,
   "id": "7e7548ed",
   "metadata": {},
   "outputs": [
    {
     "name": "stdout",
     "output_type": "stream",
     "text": [
      "Using a decision stump -- a tree with depth 3:\n",
      "Feature importances: [0.04449221 0.29080572 0.36360862 0.2378222  0.06327125 0.\n",
      " 0.        ]\n",
      "Validation Accuracy: 0.5678391959798995\n"
     ]
    },
    {
     "data": {
      "image/png": "[encoded data removed]",
      "text/plain": [
       "<Figure size 640x480 with 1 Axes>"
      ]
     },
     "metadata": {},
     "output_type": "display_data"
    }
   ],
   "source": [
    "# Set classifier and fit for decision tree\n",
    "dt = DecisionTreeClassifier(criterion='entropy', max_depth=3)\n",
    "dt.fit(tr_train, train_labels)\n",
    "tree.plot_tree(dt)\n",
    "print ('Using a decision stump -- a tree with depth 3:')\n",
    "print ('Feature importances:', dt.feature_importances_)\n",
    "print ('Validation Accuracy:', dt.score(tr_val, val_labels))"
   ]
  },
  {
   "cell_type": "code",
   "execution_count": 17,
   "id": "061d39d9",
   "metadata": {},
   "outputs": [
    {
     "name": "stdout",
     "output_type": "stream",
     "text": [
      "Training Accuracy: 0.917272219116825\n",
      "Validation Accuracy: 0.5175879396984925\n"
     ]
    }
   ],
   "source": [
    "forest = RandomForestClassifier(n_estimators = 10)\n",
    "\n",
    "forest.fit(tr_train, train_labels)\n",
    "\n",
    "print ('Training Accuracy:', forest.score(tr_train, train_labels))\n",
    "print ('Validation Accuracy:', forest.score(tr_val, val_labels))"
   ]
  },
  {
   "cell_type": "code",
   "execution_count": 18,
   "id": "cf88667e",
   "metadata": {},
   "outputs": [
    {
     "data": {
      "text/plain": [
       "array([[50, 36],\n",
       "       [60, 53]])"
      ]
     },
     "execution_count": 18,
     "metadata": {},
     "output_type": "execute_result"
    }
   ],
   "source": [
    "rm_val_predictions = forest.predict(tr_val)\n",
    "\n",
    "confusion_matrix(val_labels, rm_val_predictions)"
   ]
  },
  {
   "cell_type": "code",
   "execution_count": null,
   "id": "e2fcb9b8",
   "metadata": {},
   "outputs": [],
   "source": []
  },
  {
   "cell_type": "markdown",
   "id": "14582fae",
   "metadata": {},
   "source": [
    "## Test predictions"
   ]
  },
  {
   "cell_type": "code",
   "execution_count": 19,
   "id": "58dc1a89",
   "metadata": {},
   "outputs": [],
   "source": [
    "money_req = encode_one_hot(money, test_data)\n",
    "test_data['money'] = money_req"
   ]
  },
  {
   "cell_type": "code",
   "execution_count": 20,
   "id": "d1d40ed2",
   "metadata": {},
   "outputs": [],
   "source": [
    "hunger_req = encode_one_hot(hunger, test_data)\n",
    "test_data['hungry'] = hunger_req"
   ]
  },
  {
   "cell_type": "code",
   "execution_count": 21,
   "id": "f8c7dda4",
   "metadata": {},
   "outputs": [],
   "source": [
    "unemployed_req = encode_one_hot(unemployed, test_data)\n",
    "test_data['job'] = unemployed_req"
   ]
  },
  {
   "cell_type": "code",
   "execution_count": 22,
   "id": "b9f0f4ed",
   "metadata": {},
   "outputs": [],
   "source": [
    "gratitude_req = encode_one_hot(gratitude, test_data)\n",
    "test_data['thanks'] = gratitude_req"
   ]
  },
  {
   "cell_type": "code",
   "execution_count": 23,
   "id": "3338b533",
   "metadata": {},
   "outputs": [],
   "source": [
    "tr_test = test_data[test_data.columns[test_data.columns.isin(tree_features)]]"
   ]
  },
  {
   "cell_type": "code",
   "execution_count": 28,
   "id": "0b33115b",
   "metadata": {},
   "outputs": [],
   "source": [
    "# tree predictions\n",
    "test_predictions = dt.predict(tr_test)\n",
    "rm_test_predictions = forest.predict(tr_test)"
   ]
  },
  {
   "cell_type": "code",
   "execution_count": 29,
   "id": "90664900-fedc-43a1-97b2-b14830ae9881",
   "metadata": {},
   "outputs": [
    {
     "data": {
      "text/plain": [
       "array([0, 0, 0, ..., 0, 1, 0])"
      ]
     },
     "execution_count": 29,
     "metadata": {},
     "output_type": "execute_result"
    }
   ],
   "source": [
    "rm_test_predictions"
   ]
  },
  {
   "cell_type": "code",
   "execution_count": 30,
   "id": "c631aeed",
   "metadata": {},
   "outputs": [],
   "source": [
    "def get_submission_csv(predictions):\n",
    "    test_ids = test_data['request_id']\n",
    "    \n",
    "    d = {'request_id': test_ids,\n",
    "    'requester_received_pizza': predictions}\n",
    "    \n",
    "    df = pd.DataFrame(data=d)\n",
    "    df['requester_received_pizza'] = df['requester_received_pizza'].astype(int)\n",
    "    \n",
    "    return df"
   ]
  },
  {
   "cell_type": "code",
   "execution_count": 31,
   "id": "d900b146-134a-408b-b94c-03b74777b525",
   "metadata": {},
   "outputs": [
    {
     "data": {
      "text/html": [
       "<div>\n",
       "<style scoped>\n",
       "    .dataframe tbody tr th:only-of-type {\n",
       "        vertical-align: middle;\n",
       "    }\n",
       "\n",
       "    .dataframe tbody tr th {\n",
       "        vertical-align: top;\n",
       "    }\n",
       "\n",
       "    .dataframe thead th {\n",
       "        text-align: right;\n",
       "    }\n",
       "</style>\n",
       "<table border=\"1\" class=\"dataframe\">\n",
       "  <thead>\n",
       "    <tr style=\"text-align: right;\">\n",
       "      <th></th>\n",
       "      <th>request_id</th>\n",
       "      <th>requester_received_pizza</th>\n",
       "    </tr>\n",
       "  </thead>\n",
       "  <tbody>\n",
       "    <tr>\n",
       "      <th>0</th>\n",
       "      <td>t3_i8iy4</td>\n",
       "      <td>0</td>\n",
       "    </tr>\n",
       "    <tr>\n",
       "      <th>1</th>\n",
       "      <td>t3_1mfqi0</td>\n",
       "      <td>0</td>\n",
       "    </tr>\n",
       "    <tr>\n",
       "      <th>2</th>\n",
       "      <td>t3_lclka</td>\n",
       "      <td>0</td>\n",
       "    </tr>\n",
       "    <tr>\n",
       "      <th>3</th>\n",
       "      <td>t3_1jdgdj</td>\n",
       "      <td>0</td>\n",
       "    </tr>\n",
       "    <tr>\n",
       "      <th>4</th>\n",
       "      <td>t3_t2qt4</td>\n",
       "      <td>0</td>\n",
       "    </tr>\n",
       "    <tr>\n",
       "      <th>...</th>\n",
       "      <td>...</td>\n",
       "      <td>...</td>\n",
       "    </tr>\n",
       "    <tr>\n",
       "      <th>1626</th>\n",
       "      <td>t3_knttk</td>\n",
       "      <td>0</td>\n",
       "    </tr>\n",
       "    <tr>\n",
       "      <th>1627</th>\n",
       "      <td>t3_11wza2</td>\n",
       "      <td>1</td>\n",
       "    </tr>\n",
       "    <tr>\n",
       "      <th>1628</th>\n",
       "      <td>t3_iwbsf</td>\n",
       "      <td>0</td>\n",
       "    </tr>\n",
       "    <tr>\n",
       "      <th>1629</th>\n",
       "      <td>t3_nys7g</td>\n",
       "      <td>1</td>\n",
       "    </tr>\n",
       "    <tr>\n",
       "      <th>1630</th>\n",
       "      <td>t3_17pmtu</td>\n",
       "      <td>0</td>\n",
       "    </tr>\n",
       "  </tbody>\n",
       "</table>\n",
       "<p>1631 rows × 2 columns</p>\n",
       "</div>"
      ],
      "text/plain": [
       "     request_id  requester_received_pizza\n",
       "0      t3_i8iy4                         0\n",
       "1     t3_1mfqi0                         0\n",
       "2      t3_lclka                         0\n",
       "3     t3_1jdgdj                         0\n",
       "4      t3_t2qt4                         0\n",
       "...         ...                       ...\n",
       "1626   t3_knttk                         0\n",
       "1627  t3_11wza2                         1\n",
       "1628   t3_iwbsf                         0\n",
       "1629   t3_nys7g                         1\n",
       "1630  t3_17pmtu                         0\n",
       "\n",
       "[1631 rows x 2 columns]"
      ]
     },
     "execution_count": 31,
     "metadata": {},
     "output_type": "execute_result"
    }
   ],
   "source": [
    "df"
   ]
  },
  {
   "cell_type": "code",
   "execution_count": 26,
   "id": "56e90bfc",
   "metadata": {},
   "outputs": [],
   "source": [
    "df = get_submission_csv(rm_test_predictions)"
   ]
  },
  {
   "cell_type": "code",
   "execution_count": 27,
   "id": "c2370dc0",
   "metadata": {},
   "outputs": [],
   "source": [
    "#df.to_csv('rf_model.csv', index=False)"
   ]
  },
  {
   "cell_type": "code",
   "execution_count": null,
   "id": "991b8656",
   "metadata": {},
   "outputs": [],
   "source": []
  }
 ],
 "metadata": {
  "kernelspec": {
   "display_name": "Python 3 (ipykernel)",
   "language": "python",
   "name": "python3"
  },
  "language_info": {
   "codemirror_mode": {
    "name": "ipython",
    "version": 3
   },
   "file_extension": ".py",
   "mimetype": "text/x-python",
   "name": "python",
   "nbconvert_exporter": "python",
   "pygments_lexer": "ipython3",
   "version": "3.9.16"
  }
 },
 "nbformat": 4,
 "nbformat_minor": 5
}
