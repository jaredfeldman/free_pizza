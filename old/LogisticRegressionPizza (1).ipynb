{
 "cells": [
  {
   "cell_type": "code",
   "execution_count": 1,
   "metadata": {
    "colab": {
     "base_uri": "https://localhost:8080/",
     "height": 73
    },
    "id": "R9v1ClT_1Vel",
    "outputId": "c39a1445-8b16-4689-d526-6b1c7034c863"
   },
   "outputs": [],
   "source": [
    "#from google.colab import files\n",
    "#uploaded = files.upload()"
   ]
  },
  {
   "cell_type": "code",
   "execution_count": 2,
   "metadata": {
    "id": "OM03VRTh1qnD"
   },
   "outputs": [],
   "source": [
    "# Import the libraries we'll use below.\n",
    "import numpy as np\n",
    "from matplotlib import pyplot as plt\n",
    "import pandas as pd\n",
    "import seaborn as sns  # for nicer plots\n",
    "sns.set(style=\"darkgrid\")  # default style\n",
    "import plotly.graph_objs as plotly  # for interactive plots\n",
    "import re\n",
    "import string\n",
    "\n",
    "import tensorflow as tf\n",
    "from tensorflow import keras\n",
    "\n",
    "from sklearn.model_selection import train_test_split"
   ]
  },
  {
   "cell_type": "code",
   "execution_count": 3,
   "metadata": {
    "colab": {
     "base_uri": "https://localhost:8080/"
    },
    "id": "vR_iIK9j1zuY",
    "outputId": "c9e1b811-fefb-460e-e9c2-03daf190633c"
   },
   "outputs": [
    {
     "data": {
      "text/plain": [
       "Index(['giver_username_if_known',\n",
       "       'number_of_downvotes_of_request_at_retrieval',\n",
       "       'number_of_upvotes_of_request_at_retrieval', 'post_was_edited',\n",
       "       'request_id', 'request_number_of_comments_at_retrieval', 'request_text',\n",
       "       'request_text_edit_aware', 'request_title',\n",
       "       'requester_account_age_in_days_at_request',\n",
       "       'requester_account_age_in_days_at_retrieval',\n",
       "       'requester_days_since_first_post_on_raop_at_request',\n",
       "       'requester_days_since_first_post_on_raop_at_retrieval',\n",
       "       'requester_number_of_comments_at_request',\n",
       "       'requester_number_of_comments_at_retrieval',\n",
       "       'requester_number_of_comments_in_raop_at_request',\n",
       "       'requester_number_of_comments_in_raop_at_retrieval',\n",
       "       'requester_number_of_posts_at_request',\n",
       "       'requester_number_of_posts_at_retrieval',\n",
       "       'requester_number_of_posts_on_raop_at_request',\n",
       "       'requester_number_of_posts_on_raop_at_retrieval',\n",
       "       'requester_number_of_subreddits_at_request',\n",
       "       'requester_subreddits_at_request',\n",
       "       'requester_upvotes_minus_downvotes_at_request',\n",
       "       'requester_upvotes_minus_downvotes_at_retrieval',\n",
       "       'requester_upvotes_plus_downvotes_at_request',\n",
       "       'requester_upvotes_plus_downvotes_at_retrieval', 'requester_user_flair',\n",
       "       'requester_username', 'unix_timestamp_of_request',\n",
       "       'unix_timestamp_of_request_utc'],\n",
       "      dtype='object')"
      ]
     },
     "execution_count": 3,
     "metadata": {},
     "output_type": "execute_result"
    }
   ],
   "source": [
    "# create test and train sets\n",
    "all_data = pd.read_json(\"train.json\")\n",
    "outcomes = all_data[\"requester_received_pizza\"]\n",
    "features = all_data.drop(\"requester_received_pizza\", axis=1)\n",
    "\n",
    "X_train, X_test, y_train, y_test = train_test_split(features, outcomes, test_size=0.1, random_state=6)\n",
    "\n",
    "X_train.columns"
   ]
  },
  {
   "cell_type": "code",
   "execution_count": 4,
   "metadata": {
    "id": "ksefvUEh3O6M"
   },
   "outputs": [],
   "source": [
    "# create a train/test set with only numeric fields\n",
    "numeric_columns = [\"number_of_downvotes_of_request_at_retrieval\",\n",
    "                   \"number_of_upvotes_of_request_at_retrieval\",\n",
    "                   \"post_was_edited\",\n",
    "                   \"request_number_of_comments_at_retrieval\",\n",
    "                   \"requester_account_age_in_days_at_request\",\n",
    "                   \"requester_days_since_first_post_on_raop_at_request\",\n",
    "                   \"requester_number_of_comments_at_request\",\n",
    "                   \"requester_number_of_comments_in_raop_at_request\",\n",
    "                   \"requester_number_of_posts_at_request\",\n",
    "                   \"requester_number_of_subreddits_at_request\",\n",
    "                   \"requester_upvotes_minus_downvotes_at_request\",\n",
    "                   \"requester_upvotes_plus_downvotes_at_request\"\n",
    "]"
   ]
  },
  {
   "cell_type": "code",
   "execution_count": 5,
   "metadata": {
    "id": "gzXT_E4k61t2"
   },
   "outputs": [],
   "source": [
    "X_train_numeric_only = X_train[numeric_columns]\n",
    "X_test_numeric_only = X_test[numeric_columns]"
   ]
  },
  {
   "cell_type": "code",
   "execution_count": 6,
   "metadata": {
    "colab": {
     "base_uri": "https://localhost:8080/"
    },
    "id": "4VQ2pWcO691c",
    "outputId": "030c8f90-574f-4a65-9d9e-ebb3fd44d23f"
   },
   "outputs": [
    {
     "name": "stdout",
     "output_type": "stream",
     "text": [
      "Epoch 1/10\n",
      "103/103 [==============================] - 2s 6ms/step - loss: 22273264.0000 - val_loss: 13137777.0000\n",
      "Epoch 2/10\n",
      "103/103 [==============================] - 1s 5ms/step - loss: 16354234.0000 - val_loss: 9213619.0000\n",
      "Epoch 3/10\n",
      "103/103 [==============================] - 1s 5ms/step - loss: 10745218.0000 - val_loss: 5437951.0000\n",
      "Epoch 4/10\n",
      "103/103 [==============================] - 1s 5ms/step - loss: 5115457.5000 - val_loss: 1520651.6250\n",
      "Epoch 5/10\n",
      "103/103 [==============================] - 1s 5ms/step - loss: 465778.4375 - val_loss: 2339.0474\n",
      "Epoch 6/10\n",
      "103/103 [==============================] - 1s 5ms/step - loss: 22555.6152 - val_loss: 15303.8486\n",
      "Epoch 7/10\n",
      "103/103 [==============================] - 1s 5ms/step - loss: 14345.6250 - val_loss: 5516.1479\n",
      "Epoch 8/10\n",
      "103/103 [==============================] - 1s 5ms/step - loss: 11291.4629 - val_loss: 21507.2422\n",
      "Epoch 9/10\n",
      "103/103 [==============================] - 1s 5ms/step - loss: 18240.7793 - val_loss: 7125.0215\n",
      "Epoch 10/10\n",
      "103/103 [==============================] - 1s 5ms/step - loss: 16090.4072 - val_loss: 10273.9941\n"
     ]
    },
    {
     "data": {
      "text/plain": [
       "<keras.src.callbacks.History at 0x2a263d550>"
      ]
     },
     "execution_count": 6,
     "metadata": {},
     "output_type": "execute_result"
    }
   ],
   "source": [
    "number_of_features = X_train_numeric_only.shape[1]\n",
    "model = keras.Sequential()\n",
    "model.add(keras.layers.Dense(1,activation = 'sigmoid',input_dim = number_of_features))\n",
    "model.compile(optimizer='adam', loss='binary_crossentropy')\n",
    "model.fit(x = X_train_numeric_only, y = y_train, epochs=10, validation_split=0.1)"
   ]
  },
  {
   "cell_type": "code",
   "execution_count": 7,
   "metadata": {
    "colab": {
     "base_uri": "https://localhost:8080/"
    },
    "id": "2ESN_wgjAK-u",
    "outputId": "dfbca186-6457-47bc-9735-258abcf3d32b"
   },
   "outputs": [
    {
     "name": "stdout",
     "output_type": "stream",
     "text": [
      "114/114 [==============================] - 0s 1ms/step\n",
      "13/13 [==============================] - 0s 1ms/step\n"
     ]
    }
   ],
   "source": [
    "y_train_pred_raw = model.predict(X_train_numeric_only)\n",
    "y_train_pred = y_train_pred_raw > 0.5\n",
    "y_test_pred_raw = model.predict(X_test_numeric_only)\n",
    "y_test_pred = y_test_pred_raw > 0.5"
   ]
  },
  {
   "cell_type": "code",
   "execution_count": 8,
   "metadata": {
    "colab": {
     "base_uri": "https://localhost:8080/"
    },
    "id": "oITf2QpRBWHO",
    "outputId": "437e064d-efa7-4830-96ef-0a6f716c70c5"
   },
   "outputs": [
    {
     "data": {
      "text/plain": [
       "2540     True\n",
       "159     False\n",
       "279     False\n",
       "1563    False\n",
       "1532    False\n",
       "        ...  \n",
       "1329    False\n",
       "3780     True\n",
       "1475    False\n",
       "2534     True\n",
       "1579    False\n",
       "Name: requester_received_pizza, Length: 404, dtype: bool"
      ]
     },
     "execution_count": 8,
     "metadata": {},
     "output_type": "execute_result"
    }
   ],
   "source": [
    "y_test"
   ]
  },
  {
   "cell_type": "code",
   "execution_count": 9,
   "metadata": {
    "colab": {
     "base_uri": "https://localhost:8080/",
     "height": 458
    },
    "id": "8csk0J5VAljx",
    "outputId": "37d67a63-040f-4f7c-8a7a-b4bafaa00136"
   },
   "outputs": [
    {
     "data": {
      "image/png": "[encoded data removed]",
      "text/plain": [
       "<Figure size 640x480 with 1 Axes>"
      ]
     },
     "metadata": {},
     "output_type": "display_data"
    }
   ],
   "source": [
    "confusion_matrix = tf.math.confusion_matrix(y_test, y_test_pred)\n",
    "label_names = [True, False]\n",
    "# Use a heatmap plot to display it.\n",
    "ax = sns.heatmap(confusion_matrix, annot=True, fmt='.3g', cmap='Blues',\n",
    "                 xticklabels=label_names, yticklabels=label_names, cbar=False)\n",
    "\n",
    "# Add axis labels.\n",
    "ax.set(xlabel='Predicted Label', ylabel='True Label')\n",
    "plt.show()"
   ]
  },
  {
   "cell_type": "code",
   "execution_count": 10,
   "metadata": {
    "colab": {
     "base_uri": "https://localhost:8080/"
    },
    "id": "qYlSjyekC2Yr",
    "outputId": "6f33d074-f7b0-4065-a28b-abca76e01400"
   },
   "outputs": [
    {
     "name": "stdout",
     "output_type": "stream",
     "text": [
      "Train Accuracy:\n",
      "0.6141\n",
      "Test Accuracy:\n",
      "0.5842\n"
     ]
    }
   ],
   "source": [
    "print(\"Train Accuracy:\")\n",
    "train_matches = sum(y_train.values == y_train_pred.flatten())\n",
    "train_accuracy = train_matches / len(y_train.values)\n",
    "print(round(train_accuracy, 4))\n",
    "print(\"Test Accuracy:\")\n",
    "test_matches = sum(y_test.values == y_test_pred.flatten())\n",
    "test_accuracy = test_matches / len(y_test.values)\n",
    "print(round(test_accuracy, 4))"
   ]
  },
  {
   "cell_type": "code",
   "execution_count": 11,
   "metadata": {
    "id": "oEW2MG-D8rIm"
   },
   "outputs": [],
   "source": [
    "# Now lets add embeddings\n",
    "def build_embeddings_model(average_over_positions=False,\n",
    "                           vocab_size=1000,\n",
    "                           sequence_length=20,\n",
    "                           embedding_dim=2):\n",
    "  \"\"\"Build a tf.keras model using embeddings.\"\"\"\n",
    "  # Clear session and remove randomness.\n",
    "  tf.keras.backend.clear_session()\n",
    "  tf.random.set_seed(0)\n",
    "\n",
    "  model = tf.keras.Sequential()\n",
    "  model.add(tf.keras.layers.Embedding(\n",
    "      input_dim=vocab_size,\n",
    "      output_dim=embedding_dim,\n",
    "      input_length=sequence_length)\n",
    "  )\n",
    "\n",
    "  if average_over_positions:\n",
    "    # This layer averages over the first dimension of the input by default.\n",
    "    model.add(tf.keras.layers.GlobalAveragePooling1D())\n",
    "  else:\n",
    "    # Concatenate.\n",
    "    model.add(tf.keras.layers.Flatten())\n",
    "  model.add(tf.keras.layers.Dense(\n",
    "      units=1,                     # output dim (for binary classification)\n",
    "      activation='sigmoid'         # apply the sigmoid function!\n",
    "  ))\n",
    "\n",
    "  model.compile(loss='binary_crossentropy',\n",
    "                optimizer='adam',\n",
    "                metrics=['accuracy'])\n",
    "\n",
    "  return model\n",
    "\n",
    "def plot_history(history):\n",
    "  plt.ylabel('Loss')\n",
    "  plt.xlabel('Epoch')\n",
    "  plt.xticks(range(0, len(history['loss'] + 1)))\n",
    "  plt.plot(history['loss'], label=\"training\", marker='o')\n",
    "  plt.plot(history['val_loss'], label=\"validation\", marker='o')\n",
    "  plt.legend()\n",
    "  plt.show()"
   ]
  },
  {
   "cell_type": "code",
   "execution_count": 12,
   "metadata": {
    "id": "p7vUXCOY93aB"
   },
   "outputs": [],
   "source": [
    "def limit_vocab(sequences, max_token_id, oov_id=2):\n",
    "  \"\"\"Replace token ids greater than or equal to max_token_id with the oov_id.\"\"\"\n",
    "  reduced_sequences = np.copy(sequences)\n",
    "  reduced_sequences[reduced_sequences >= max_token_id] = oov_id\n",
    "  return reduced_sequences\n",
    "\n",
    "def preprocess_text(text):\n",
    "  # Remove punctuation\n",
    "  text = text.translate(str.maketrans('', '', string.punctuation))\n",
    "\n",
    "  # Convert to lowercase\n",
    "  text = text.lower()\n",
    "\n",
    "  # Tokenize the text into individual words\n",
    "  words = re.findall(r'\\b\\w+\\b', text)\n",
    "\n",
    "  return words"
   ]
  },
  {
   "cell_type": "code",
   "execution_count": 13,
   "metadata": {
    "colab": {
     "base_uri": "https://localhost:8080/"
    },
    "id": "Q4atD_2m-7-c",
    "outputId": "d60348a1-0690-4ee1-cf44-ebf5bce1146e"
   },
   "outputs": [
    {
     "data": {
      "text/plain": [
       "(4040,)"
      ]
     },
     "execution_count": 13,
     "metadata": {},
     "output_type": "execute_result"
    }
   ],
   "source": [
    "# text only\n",
    "all_data_text = all_data['request_text'].apply(preprocess_text)\n",
    "all_data_text.shape"
   ]
  },
  {
   "cell_type": "code",
   "execution_count": 14,
   "metadata": {
    "id": "ycrcVR0sDPs1"
   },
   "outputs": [],
   "source": [
    "# Create a vocabulary of all the unique words in the text data\n",
    "vocab = set()\n",
    "for text in all_data_text:\n",
    "    vocab.update(text)\n",
    "\n",
    "# Create a word-to-index mapping\n",
    "word_to_index = {}\n",
    "for i, word in enumerate(vocab):\n",
    "    word_to_index[word] = i"
   ]
  },
  {
   "cell_type": "code",
   "execution_count": 15,
   "metadata": {
    "id": "GiGRRMrkDbLs"
   },
   "outputs": [],
   "source": [
    "all_data_text_vectorized = all_data_text.apply(lambda x: [word_to_index[word] for word in x])\n",
    "all_data_result = all_data['requester_received_pizza'].astype(int)\n",
    "X_train_text, X_test_text, y_train_text, y_test_text = train_test_split(all_data_text_vectorized, all_data_result, test_size=0.1, random_state=6)"
   ]
  },
  {
   "cell_type": "code",
   "execution_count": 16,
   "metadata": {
    "colab": {
     "base_uri": "https://localhost:8080/"
    },
    "id": "C7jU2AGiENnB",
    "outputId": "35e0fc0b-4fa3-4755-c818-8ba7aaecb04c"
   },
   "outputs": [],
   "source": [
    "def pad_data(sequences, max_length):\n",
    "  # Keras has a convenient utility for padding a sequence.\n",
    "  # Also make sure we get a numpy array rather than an array of lists.\n",
    "  return np.array(list(\n",
    "      tf.keras.preprocessing.sequence.pad_sequences(\n",
    "          sequences, maxlen=max_length, padding='post', value=0)))\n",
    "\n",
    "X_train_text_padded = pad_data(X_train_text, max_length=300)\n",
    "# print(X_train_text.shape)\n",
    "# print(X_train_text_padded.shape)\n",
    "# print(len(X_train_text[1]))\n",
    "# print(len(X_train_text_padded[1]))\n",
    "# print(type(X_train_text[1][0]))\n",
    "# print(X_train_text[1])\n",
    "# print(X_train_text_padded[1])"
   ]
  },
  {
   "cell_type": "code",
   "execution_count": null,
   "metadata": {
    "colab": {
     "base_uri": "https://localhost:8080/",
     "height": 639
    },
    "id": "GSLyUWQN9Ibf",
    "outputId": "545ed244-3f45-414a-9662-cb06a960866f"
   },
   "outputs": [
    {
     "name": "stdout",
     "output_type": "stream",
     "text": [
      "Epoch 1/15\n",
      "52/52 [==============================] - 4s 69ms/step - loss: 0.6723 - accuracy: 0.7543 - val_loss: 0.6540 - val_accuracy: 0.7720\n",
      "Epoch 2/15\n",
      "52/52 [==============================] - 3s 64ms/step - loss: 0.6428 - accuracy: 0.7543 - val_loss: 0.6239 - val_accuracy: 0.7720\n",
      "Epoch 3/15\n",
      "52/52 [==============================] - 3s 63ms/step - loss: 0.6169 - accuracy: 0.7543 - val_loss: 0.5976 - val_accuracy: 0.7720\n",
      "Epoch 4/15\n",
      "52/52 [==============================] - 3s 63ms/step - loss: 0.5964 - accuracy: 0.7543 - val_loss: 0.5781 - val_accuracy: 0.7720\n",
      "Epoch 5/15\n",
      "52/52 [==============================] - 3s 63ms/step - loss: 0.5809 - accuracy: 0.7543 - val_loss: 0.5625 - val_accuracy: 0.7720\n",
      "Epoch 6/15\n",
      "52/52 [==============================] - 3s 63ms/step - loss: 0.5700 - accuracy: 0.7543 - val_loss: 0.5525 - val_accuracy: 0.7720\n",
      "Epoch 7/15\n",
      "52/52 [==============================] - 3s 63ms/step - loss: 0.5630 - accuracy: 0.7543 - val_loss: 0.5456 - val_accuracy: 0.7720\n",
      "Epoch 8/15\n",
      "52/52 [==============================] - 3s 63ms/step - loss: 0.5587 - accuracy: 0.7543 - val_loss: 0.5418 - val_accuracy: 0.7720\n",
      "Epoch 9/15\n",
      "52/52 [==============================] - 3s 63ms/step - loss: 0.5561 - accuracy: 0.7543 - val_loss: 0.5391 - val_accuracy: 0.7720\n",
      "Epoch 10/15\n",
      "52/52 [==============================] - 3s 62ms/step - loss: 0.5545 - accuracy: 0.7543 - val_loss: 0.5379 - val_accuracy: 0.7720\n",
      "Epoch 11/15\n",
      "52/52 [==============================] - 3s 62ms/step - loss: 0.5534 - accuracy: 0.7543 - val_loss: 0.5372 - val_accuracy: 0.7720\n",
      "Epoch 12/15\n",
      "52/52 [==============================] - 3s 63ms/step - loss: 0.5526 - accuracy: 0.7543 - val_loss: 0.5367 - val_accuracy: 0.7720\n",
      "Epoch 13/15\n",
      "37/52 [====================>.........] - ETA: 0s - loss: 0.5537 - accuracy: 0.7534"
     ]
    }
   ],
   "source": [
    "# text only\n",
    "X_train_text_reduced = limit_vocab(X_train_text_padded, max_token_id=1000)\n",
    "embeddings_model = build_embeddings_model(average_over_positions=True,\n",
    "                               vocab_size=1000,\n",
    "                               sequence_length=300,\n",
    "                               embedding_dim=2)\n",
    "history = embeddings_model.fit(\n",
    "  x = X_train_text_reduced,  # our sparse padded training data\n",
    "  y = y_train_text,          # corresponding binary labels\n",
    "  epochs=15,             # number of passes through the training data\n",
    "  batch_size=64,        # mini-batch size\n",
    "  validation_split=0.1, # use a fraction of the examples for validation\n",
    "  verbose=1             # display some progress output during training\n",
    "  )\n",
    "\n",
    "history = pd.DataFrame(history.history)\n",
    "plot_history(history)"
   ]
  },
  {
   "cell_type": "code",
   "execution_count": 18,
   "metadata": {
    "colab": {
     "base_uri": "https://localhost:8080/"
    },
    "id": "qri73NtoRJMg",
    "outputId": "42f6d42e-a21e-4daa-b63e-7866960abb3d"
   },
   "outputs": [
    {
     "name": "stdout",
     "output_type": "stream",
     "text": [
      "Train Acc: 0.7543\n",
      "Validation Acc: 0.772\n"
     ]
    }
   ],
   "source": [
    "print(\"Train Acc:\", 0.7543)\n",
    "print(\"Validation Acc:\", 0.7720)"
   ]
  }
 ],
 "metadata": {
  "colab": {
   "provenance": []
  },
  "kernelspec": {
   "display_name": "Python 3 (ipykernel)",
   "language": "python",
   "name": "python3"
  },
  "language_info": {
   "codemirror_mode": {
    "name": "ipython",
    "version": 3
   },
   "file_extension": ".py",
   "mimetype": "text/x-python",
   "name": "python",
   "nbconvert_exporter": "python",
   "pygments_lexer": "ipython3",
   "version": "3.9.16"
  }
 },
 "nbformat": 4,
 "nbformat_minor": 4
}
